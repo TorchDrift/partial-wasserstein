{
 "cells": [
  {
   "cell_type": "markdown",
   "metadata": {
    "id": "hvvYoMSaxs6r",
    "slideshow": {
     "slide_type": "slide"
    }
   },
   "source": [
    "# Partial Wasserstein and MMD\n",
    "\n",
    "Notebook for the experiments in Thomas Viehmann: Partial Wasserstein and Maximum Mean Discrepancy distances for bridging the gap between outlier detection and drift detection.\n"
   ]
  },
  {
   "cell_type": "code",
   "execution_count": 1,
   "metadata": {
    "colab": {
     "base_uri": "https://localhost:8080/"
    },
    "id": "z3VhevMGnLMQ",
    "outputId": "bc4b94e2-ebc1-4d20-cc11-1875d1bfc0ce",
    "slideshow": {
     "slide_type": "skip"
    }
   },
   "outputs": [],
   "source": [
    "# ! pip install pytorch-lightning --quiet\n",
    "# ! pip install torchdrift\n",
    "import ot"
   ]
  },
  {
   "cell_type": "markdown",
   "metadata": {
    "id": "upSgxUnN3q3a",
    "slideshow": {
     "slide_type": "skip"
    }
   },
   "source": [
    "We import the world."
   ]
  },
  {
   "cell_type": "code",
   "execution_count": 2,
   "metadata": {
    "id": "e_QKCi4zB4m4",
    "slideshow": {
     "slide_type": "notes"
    }
   },
   "outputs": [],
   "source": [
    "import torch\n",
    "import torchvision\n",
    "import os\n",
    "import tqdm\n",
    "import glob\n",
    "import collections\n",
    "import PIL\n",
    "import numpy\n",
    "import pytorch_lightning as pl\n",
    "import torchdrift\n",
    "from typing import Optional, Any\n",
    "from matplotlib import pyplot\n",
    "\n",
    "if True: # I sometimes have Jupyter incompatible with tqdm graphical output...\n",
    "  torch.hub.tqdm = tqdm.tqdm\n",
    "  torchvision.datasets.utils.tqdm = tqdm.tqdm\n",
    "  pl.callbacks.progress.tqdm = tqdm.tqdm\n"
   ]
  },
  {
   "cell_type": "markdown",
   "metadata": {
    "id": "5xSeYj28w6lP",
    "slideshow": {
     "slide_type": "slide"
    }
   },
   "source": [
    "## A model as feature extractor\n",
    "\n",
    "We use the STL 10 dataset (as a balance simple / standard / not too small images) and a pretrained ResNet18 as the feature extractor with the twist that we have a 32 layer head part to get 32-dimensional features.\n"
   ]
  },
  {
   "cell_type": "markdown",
   "metadata": {
    "id": "SRuCmeMY7-x8",
    "slideshow": {
     "slide_type": "skip"
    }
   },
   "source": [
    "Next we wrap the dataset in a `LightningDataModule`.\n"
   ]
  },
  {
   "cell_type": "code",
   "execution_count": 3,
   "metadata": {
    "id": "ToQDVjo1opEf",
    "slideshow": {
     "slide_type": "skip"
    }
   },
   "outputs": [
    {
     "name": "stdout",
     "output_type": "stream",
     "text": [
      "Files already downloaded and verified\n"
     ]
    }
   ],
   "source": [
    "# these are the standard transforms without the normalization (which we move into the model.step/predict before the forward)\n",
    "train_transform = torchvision.transforms.Compose([\n",
    "    torchvision.transforms.RandomResizedCrop(size=(224, 224), scale=(0.08, 1.0), ratio=(0.75, 1.3333)),\n",
    "    torchvision.transforms.RandomHorizontalFlip(p=0.5),\n",
    "    torchvision.transforms.ToTensor()])\n",
    "val_transform = torchvision.transforms.Compose([\n",
    "    torchvision.transforms.Resize(size=256),\n",
    "    torchvision.transforms.CenterCrop(size=(224, 224)),\n",
    "    torchvision.transforms.ToTensor()])\n",
    "\n",
    "class OurDataModule(pl.LightningDataModule):\n",
    "    def __init__(self, parent=None, additional_transform=None):\n",
    "        super().__init__()\n",
    "        if parent is None:\n",
    "            self.train_dataset = torchvision.datasets.STL10('data', download=True, split='train',\n",
    "                                                            transform=train_transform)\n",
    "                     #FlowerDS(files, labels, numpy.concatenate([train_imgs, val_imgs]),\n",
    "                     #                     transform=train_transform)\n",
    "            self.val_dataset = None\n",
    "            self.test_dataset = torchvision.datasets.STL10('data', split=\"test\", transform=val_transform)\n",
    "                    #FlowerDS(files, labels, test_imgs, transform=val_transform)\n",
    "            self.train_batch_size = 16\n",
    "            self.val_batch_size = 128\n",
    "            self.additional_transform = None\n",
    "        else:\n",
    "            self.train_dataset = parent.train_dataset\n",
    "            self.val_dataset = parent.val_dataset\n",
    "            self.test_dataset = parent.test_dataset\n",
    "            self.train_batch_size = parent.train_batch_size\n",
    "            self.val_batch_size = parent.val_batch_size\n",
    "            self.additional_transform = additional_transform\n",
    "        if additional_transform is not None:\n",
    "            self.additional_transform = additional_transform\n",
    "        \n",
    "        self.prepare_data()\n",
    "        self.setup('fit')\n",
    "        self.setup('test')\n",
    "\n",
    "    def setup(self, stage):\n",
    "        pass\n",
    "    \n",
    "    def collate_fn(self, batch):\n",
    "        batch = torch.utils.data._utils.collate.default_collate(batch)\n",
    "        if self.additional_transform:\n",
    "            batch = (self.additional_transform(batch[0]), *batch[1:])\n",
    "        return batch\n",
    "    \n",
    "    def train_dataloader(self):\n",
    "        return torch.utils.data.DataLoader(self.train_dataset, batch_size=self.train_batch_size, \n",
    "                                           num_workers=2, shuffle=True, collate_fn=self.collate_fn)\n",
    "    def val_dataloader(self):\n",
    "        return None\n",
    "\n",
    "    def test_dataloader(self):\n",
    "        return torch.utils.data.DataLoader(self.test_dataset, batch_size=self.val_batch_size,\n",
    "                                           num_workers=2, shuffle=False, collate_fn=self.collate_fn)\n",
    "\n",
    "    def default_dataloader(self, batch_size=None, num_samples=None, shuffle=True):\n",
    "        dataset = self.train_dataset\n",
    "        if batch_size is None:\n",
    "            batch_size = self.val_batch_size\n",
    "        replacement = num_samples is not None\n",
    "        if shuffle:\n",
    "            sampler = torch.utils.data.RandomSampler(dataset, replacement=replacement, num_samples=num_samples)\n",
    "        else:\n",
    "            sampler = None\n",
    "        return torch.utils.data.DataLoader(dataset, batch_size=batch_size, sampler=sampler,\n",
    "                                           collate_fn=self.collate_fn)\n",
    "\n",
    "\n",
    "datamodule = OurDataModule()"
   ]
  },
  {
   "cell_type": "code",
   "execution_count": 4,
   "metadata": {
    "id": "ToQDVjo1opEf",
    "slideshow": {
     "slide_type": "skip"
    }
   },
   "outputs": [],
   "source": [
    "cat_names = datamodule.train_dataset.classes[:]"
   ]
  },
  {
   "cell_type": "markdown",
   "metadata": {
    "id": "M-c8cQQS8II0",
    "slideshow": {
     "slide_type": "skip"
    }
   },
   "source": [
    "And build the LightningModule for training."
   ]
  },
  {
   "cell_type": "code",
   "execution_count": 5,
   "metadata": {
    "colab": {
     "base_uri": "https://localhost:8080/",
     "height": 84,
     "referenced_widgets": [
      "2c72e1b0459c44238a1f1ecb245baf29",
      "1f81f557bf704adfb95e208219977d42",
      "602aede62bad45098a6f505c09c4a89b",
      "42b0e5f6785b4e4ea767853fa2b12c4d",
      "47d4ce3c56d14564b73d596ce8865920",
      "ea2c332f02944d6d8715682660634a28",
      "c46ba89f62d64a2c8df25e793a8c66c3",
      "ebcf945d200e4a33b6ec4b58090dda5e"
     ]
    },
    "id": "OPSfOuSkosmw",
    "outputId": "573c9f42-ee8b-4013-b97f-86565a2899d7",
    "slideshow": {
     "slide_type": "skip"
    }
   },
   "outputs": [],
   "source": [
    "class Classifier(pl.LightningModule):\n",
    "    def __init__(self, base_classifier):\n",
    "        super().__init__()\n",
    "        self.backbone = base_classifier\n",
    "        self.backbone.eval()\n",
    "        for p in self.backbone.parameters():\n",
    "            p.requires_grad_(False)\n",
    "        self.classifier = torch.nn.Sequential(\n",
    "            torch.nn.Linear(512, 32),\n",
    "            torch.nn.ReLU(),\n",
    "            torch.nn.Linear(32, len(cat_names)))\n",
    "\n",
    "    def normalize(self, x: torch.Tensor):\n",
    "        # We pull the normalization, usually done in the dataset into the model forward\n",
    "        x = torchvision.transforms.functional.normalize(x, mean=[0.485, 0.456, 0.406], std=[0.229, 0.224, 0.225])\n",
    "        return x\n",
    "\n",
    "    def forward(self, x: torch.Tensor):\n",
    "        x = self.normalize(x)\n",
    "        y = self.backbone(x)\n",
    "        return self.classifier(y)\n",
    "\n",
    "    def training_step(self, batch: torch.Tensor, batch_idx: int):\n",
    "        x, y = batch\n",
    "        y_hat = self(x)\n",
    "        loss = torch.nn.functional.cross_entropy(y_hat, y)\n",
    "        acc = (y_hat.max(1).indices == y).float().mean()\n",
    "        self.log('train_loss', loss)\n",
    "        self.log('train_acc', acc)\n",
    "        return loss\n",
    "\n",
    "    def validation_step(self, batch: torch.Tensor, batch_idx: int):\n",
    "        x, y = batch\n",
    "        y_hat = self(x)\n",
    "        loss = torch.nn.functional.cross_entropy(y_hat, y)\n",
    "        acc = (y_hat.max(1).indices == y).float().mean()\n",
    "        self.log('val_loss', loss)\n",
    "        self.log('val_acc', acc)\n",
    "        return loss\n",
    "\n",
    "    def test_step(self, batch: torch.Tensor, batch_idx: int):\n",
    "        x, y = batch\n",
    "        y_hat = self(x)\n",
    "        loss = torch.nn.functional.cross_entropy(y_hat, y)\n",
    "        acc = (y_hat.max(1).indices == y).float().mean()\n",
    "        self.log('test_loss', loss)\n",
    "        self.log('test_acc', acc)\n",
    "        return loss\n",
    "\n",
    "    def predict(self, batch: Any, batch_idx: Optional[int]=None, dataloader_idx: Optional[int] = None):\n",
    "        return self(batch)\n",
    "\n",
    "    def configure_optimizers(self):\n",
    "        return torch.optim.Adam(self.parameters(), lr=1e-3)\n",
    "\n"
   ]
  },
  {
   "cell_type": "code",
   "execution_count": 6,
   "metadata": {
    "colab": {
     "base_uri": "https://localhost:8080/",
     "height": 343,
     "referenced_widgets": [
      "bd320a3c47d64b84922d97ddebb63353",
      "acf4d896f33747558144997db0df5fea",
      "3ab8c09b8fe4467f9d21695abee4a02b",
      "27bf0cc18cc145e8a5f932ac47ce01e3",
      "5d16ac6c09274ebfbf04b8f9eb3e30a6",
      "84532271f1a64a0aa1d1c1f9a452ad3c",
      "45b6c96584314c38b9d0f386cdab1c26",
      "db5111957cb94cd5b0274826a34ea599",
      "917c9d34d1c948cebd7f530043234b27",
      "ba1a7a02800046cba86af2f1ac7df3a8",
      "8914bdcc06da470f929e6b4c7c517896",
      "6cb4156ec947499682f69069fc43d3d5",
      "2414ea87ec4646c9b1a528310ab82d91",
      "04ed1bcf55754c879530f5948b0fc965",
      "0f6236d5c0414da2a1299257f7c88eb2",
      "7db0ed65b0db4ca9be492c705f378912"
     ]
    },
    "id": "bqxoRQC0oxg4",
    "outputId": "f072ec4a-8bd2-47e9-c77b-c4e4e4fb728e",
    "slideshow": {
     "slide_type": "skip"
    }
   },
   "outputs": [
    {
     "name": "stderr",
     "output_type": "stream",
     "text": [
      "GPU available: True, used: True\n",
      "TPU available: False, using: 0 TPU cores\n",
      "LOCAL_RANK: 0 - CUDA_VISIBLE_DEVICES: [0]\n",
      "\n",
      "  | Name       | Type       | Params\n",
      "------------------------------------------\n",
      "0 | backbone   | ResNet     | 11.2 M\n",
      "1 | classifier | Sequential | 16.7 K\n",
      "------------------------------------------\n",
      "16.7 K    Trainable params\n",
      "11.2 M    Non-trainable params\n",
      "11.2 M    Total params\n",
      "44.773    Total estimated model params size (MB)\n"
     ]
    },
    {
     "name": "stdout",
     "output_type": "stream",
     "text": [
      "Epoch 0:   0%|          | 0/313 [00:00<?, ?it/s] "
     ]
    },
    {
     "name": "stderr",
     "output_type": "stream",
     "text": [
      "/usr/local/lib/python3.9/dist-packages/pytorch_lightning/utilities/distributed.py:69: UserWarning: One of given dataloaders is None and it will be skipped.\n",
      "  warnings.warn(*args, **kwargs)\n",
      "/usr/local/lib/python3.9/dist-packages/pytorch_lightning/utilities/distributed.py:69: UserWarning: The dataloader, train dataloader, does not have many workers which may be a bottleneck. Consider increasing the value of the `num_workers` argument` (try 32 which is the number of cpus on this machine) in the `DataLoader` init to improve performance.\n",
      "  warnings.warn(*args, **kwargs)\n",
      "/usr/local/lib/python3.9/dist-packages/torch/nn/functional.py:718: UserWarning: Named tensors and all their associated APIs are an experimental feature and subject to change. Please do not use them for anything important until they are released as stable. (Triggered internally at  ../c10/core/TensorImpl.h:1153.)\n",
      "  return torch.max_pool2d(input, kernel_size, stride, padding, dilation, ceil_mode)\n"
     ]
    },
    {
     "name": "stdout",
     "output_type": "stream",
     "text": [
      "Epoch 19: 100%|██████████| 313/313 [00:02<00:00, 136.42it/s, loss=0.478]\n"
     ]
    }
   ],
   "source": [
    "resnet = torchvision.models.resnet18(pretrained=True)\n",
    "resnet.fc = torch.nn.Identity()\n",
    "\n",
    "model = Classifier(resnet)\n",
    "\n",
    "trainer = pl.Trainer(max_epochs=20, gpus=1, checkpoint_callback=False, logger=False)\n",
    "trainer.fit(model, datamodule)"
   ]
  },
  {
   "cell_type": "markdown",
   "metadata": {
    "id": "4q6HGK78qQwe",
    "slideshow": {
     "slide_type": "slide"
    }
   },
   "source": [
    "## Simulating drifted data\n",
    "\n",
    "For experiments, we simulate out of distribution data by applying a gaussian blur. In reality you might have effects like the camera lense losing focus or dirt impeding the picture quality.\n",
    "\n",
    "Note that we do not use the drifted data for \"training\" the drift detector, but just for evaluation!\n",
    "\n",
    "On the technical side, we take our datamodule as the in-distribution datamodule as is and use a derived datamodule which applies the gaussian blur in addition to the usual transforms as the out of distribution datamodule.\n"
   ]
  },
  {
   "cell_type": "code",
   "execution_count": 7,
   "metadata": {
    "id": "8jP40d6QpABU"
   },
   "outputs": [],
   "source": [
    "def corruption_function(x: torch.Tensor):\n",
    "    return torchdrift.data.functional.gaussian_blur(x, severity=5)\n",
    "\n",
    "ind_datamodule = datamodule\n",
    "ood_datamodule = OurDataModule(parent=datamodule, additional_transform=corruption_function)"
   ]
  },
  {
   "cell_type": "markdown",
   "metadata": {
    "id": "xrUTCelF8bZo",
    "slideshow": {
     "slide_type": "slide"
    }
   },
   "source": [
    "Let us look at some pictures. (If you try this a few times, you will find that the vanilla model does reasonably well but the model performs considerably worse on the corrupted (blurred) images."
   ]
  },
  {
   "cell_type": "code",
   "execution_count": 8,
   "metadata": {
    "colab": {
     "base_uri": "https://localhost:8080/",
     "height": 318
    },
    "id": "U9FX4jEAqVYz",
    "outputId": "9ac81cce-327d-4060-d42a-6e7741679fa3",
    "slideshow": {
     "slide_type": "-"
    }
   },
   "outputs": [
    {
     "data": {
      "image/png": "[encoded data removed]",
      "text/plain": [
       "<Figure size 1080x360 with 12 Axes>"
      ]
     },
     "metadata": {},
     "output_type": "display_data"
    }
   ],
   "source": [
    "inputs, true_catids = next(iter(datamodule.default_dataloader(shuffle=True)))\n",
    "inputs_ood = corruption_function(inputs)\n",
    "N = 6\n",
    "true_catids_2 = torch.cat([true_catids[:N], true_catids[:N]])\n",
    "model.eval().cpu()\n",
    "inps = torch.cat([inputs[:N], inputs_ood[:N]])\n",
    "predictions = model.predict(inps).max(1).indices\n",
    "true_labels = [cat_names[p] for p in true_catids_2]\n",
    "predicted_labels = [cat_names[p] for p in predictions]\n",
    "\n",
    "pyplot.figure(figsize=(15, 5))\n",
    "for i in range(2 * N):\n",
    "    pyplot.subplot(2, N, i + 1)\n",
    "    title = pyplot.title(predicted_labels[i])\n",
    "    pyplot.setp(title, color=('green' if true_labels[i] == predicted_labels[i] else 'red'))\n",
    "    pyplot.imshow(inps[i].permute(1, 2, 0))\n",
    "    pyplot.xticks([])\n",
    "    pyplot.yticks([])"
   ]
  },
  {
   "cell_type": "markdown",
   "metadata": {
    "id": "ORK-4I4vqqdJ",
    "slideshow": {
     "slide_type": "slide"
    }
   },
   "source": [
    "# Now we are ready for drift detection.\n",
    "\n",
    "Let us recap the state here!\n",
    "\n",
    "- We have a standard trained ResNet model (`model`).\n",
    "- We have a dataset. The test set will simulate our production inputs\n",
    "  with batches of 128.\n",
    "- We have a corruption function. We apply this to a batch to similuate\n",
    "  drift here. Note that we only use the corruption function *after* calibration.\n",
    "\n"
   ]
  },
  {
   "cell_type": "markdown",
   "metadata": {
    "id": "ljp9-fDuw5qE",
    "slideshow": {
     "slide_type": "slide"
    }
   },
   "source": [
    "# Drift detection\n",
    "\n",
    "\n",
    "Center szenrario: 1000 reference and 50 test, fraction = 50/1000 = 5%, severity=3\n",
    "Additional Scenario: fraction = 1, 100 or 1000 test (?) --> comparison to classical method\n",
    "Random classes for biased test\n",
    "\n",
    "Parameters to vary:\n",
    "\n",
    "- Test size\n",
    "- Fraction mismatch\n",
    "- Corruption strength\n",
    "\n"
   ]
  },
  {
   "cell_type": "code",
   "execution_count": 9,
   "metadata": {},
   "outputs": [],
   "source": [
    "# corruption_strength, test_size, fraction_to_match, wasserstein_p\n",
    "experiments = [\n",
    "    (3,  50, 0.05, 2.0),\n",
    "    (2,  50, 0.05, 2.0),\n",
    "    (4,  50, 0.05, 2.0),\n",
    "    (3,  20, 0.02, 2.0),\n",
    "    (3, 100, 0.10, 2.0),\n",
    "    (3,  50, 0.02, 2.0),\n",
    "    (3,  50, 0.10, 2.0),\n",
    "    (3,  50, 0.05, 1.0),\n",
    "    (3,  50, 0.05, 4.0),\n",
    "]"
   ]
  },
  {
   "cell_type": "code",
   "execution_count": 10,
   "metadata": {},
   "outputs": [],
   "source": [
    "def wasserstein(x, y, p=2.0, fraction_to_match=1.0, n_perm=1000, return_coupling=False):\n",
    "    x = x.to(dtype=torch.float64)\n",
    "    y = y.to(dtype=torch.float64)\n",
    "    num_x, d = x.shape\n",
    "    num_y, d2 = y.shape\n",
    "    torchdrift.utils.check(\n",
    "        d == d2, \"Shape mismatch in feature dimension\"\n",
    "    )\n",
    "\n",
    "    dists_p = torch.cdist(x, y, p=p) ** p\n",
    "    if fraction_to_match < 1.0:\n",
    "        max_dists_p = dists_p.max()\n",
    "        dists_p = torch.cat([dists_p, (1.1 * max_dists_p).expand(num_x, 1)], dim=1)\n",
    "\n",
    "    weights_x = torch.full_like(dists_p[:, 0], 1.0 / num_x)[None]\n",
    "    weights_y = torch.full_like(dists_p[0, :], fraction_to_match / num_y)[None]\n",
    "    if fraction_to_match < 1.0:\n",
    "        weights_y[:, -1] = 1.0 - fraction_to_match\n",
    "\n",
    "    coupling = torch.from_numpy(ot.emd(weights_x[0], weights_y[0], dists_p))\n",
    "\n",
    "    if (coupling[:, :num_y].sum() / fraction_to_match - 1).abs().item() > 1e-5:\n",
    "        raise RuntimeError(\"Numerical stability failed\")\n",
    "    wdist = ((coupling[:, :num_y] * dists_p[:, :num_y]).sum() / fraction_to_match)**(1 / p)\n",
    "\n",
    "    if n_perm is None and return_coupling:\n",
    "        return wdist, coupling\n",
    "    elif n_perm is None:\n",
    "        return wdist\n",
    "\n",
    "    xy = torch.cat([x, y], dim=0)\n",
    "    scores = []\n",
    "    for i in range(n_perm):\n",
    "        slicing = torch.randperm(num_x + num_y)\n",
    "        dists_p_0 = torch.cdist(xy[slicing[:num_x]], xy[slicing[num_x:]], p=p) ** p\n",
    "        if fraction_to_match < 1.0:\n",
    "            max_dists_p_0 = dists_p_0.max()\n",
    "            dists_p_0 = torch.cat([dists_p_0, (1.1 * max_dists_p_0).expand(num_x, 1)], dim=1)\n",
    "        coupling_0 = torch.from_numpy(ot.emd(weights_x[0], weights_y[0], dists_p_0))\n",
    "\n",
    "        if (coupling_0[:, :num_y].sum() / fraction_to_match - 1).abs().item() > 1e-5:\n",
    "            raise RuntimeError(\"Numerical stability failed\")\n",
    "        scores.append(((coupling_0[:, :num_y] * dists_p_0[:, :num_y]).sum() / fraction_to_match)**(1 / p))        \n",
    "    scores = torch.stack(scores)\n",
    "\n",
    "    p_val = (wdist < scores).float().mean()\n",
    "    if return_coupling:\n",
    "        return wdist, p_val, coupling\n",
    "    return wdist, p_val\n",
    "\n",
    "\n",
    "class WassersteinDriftDetector(torchdrift.detectors.Detector):\n",
    "    \"\"\"Drift detector based on the Wasserstein distance.\n",
    "\n",
    "    \"\"\"\n",
    "\n",
    "    def __init__(\n",
    "        self, *, return_p_value=False, n_perm=1000, fraction_to_match=1.0, wasserstein_p = 2.0\n",
    "    ):\n",
    "        super().__init__(return_p_value=return_p_value)\n",
    "        self.fraction_to_match = fraction_to_match\n",
    "        self.wasserstein_p = wasserstein_p\n",
    "        self.n_perm = n_perm\n",
    "        self.n_test = None\n",
    "\n",
    "    def fit(self, x: torch.Tensor, n_test=None, plot_title=None, plot_fn=None):\n",
    "        \"\"\"Record a sample as the reference distribution\"\"\"\n",
    "        x = x.detach()\n",
    "        if n_test is None:\n",
    "            self.base_outputs = x\n",
    "        else:\n",
    "            torchdrift.utils.check(0 < n_test < x.size(0), \"n_test must be strictly between 0 and the number of samples\")\n",
    "            self.n_test = n_test\n",
    "            self.base_outputs = x[:-n_test]\n",
    "\n",
    "            n_ref = x.size(0) - n_test\n",
    "            with_distant_point = self.fraction_to_match < 1.0\n",
    "            \n",
    "            weights_x = torch.full((n_ref,), 1.0 / n_ref, device=x.device, dtype=torch.double)\n",
    "            weights_y = torch.full((n_test + int(with_distant_point),), self.fraction_to_match / n_test, device=x.device, dtype=torch.double)\n",
    "            if with_distant_point:\n",
    "                weights_y[-1] = 1.0 - self.fraction_to_match\n",
    "            p = self.wasserstein_p\n",
    "            scores = []\n",
    "            for i in range(self.n_perm):\n",
    "                slicing = torch.randperm(x.size(0))\n",
    "                dists_p_0 = torch.cdist(x[slicing[:-n_test]], x[slicing[-n_test:]], p=p) ** p\n",
    "                if with_distant_point:\n",
    "                    max_dists_p_0 = dists_p_0.max()\n",
    "                    dists_p_0 = torch.cat([dists_p_0, (1.1 * max_dists_p_0).expand(n_ref, 1)], dim=1)\n",
    "                coupling_0 = torch.from_numpy(ot.emd(weights_x, weights_y, dists_p_0))\n",
    "                if (coupling_0[:, :n_test].sum() / self.fraction_to_match - 1).abs().item() > 1e-5:\n",
    "                    raise RuntimeError(\"Numerical stability failed\")\n",
    "                scores.append(((coupling_0[:, :n_test] * dists_p_0[:, :n_test]).sum() / self.fraction_to_match)**(1 / p))\n",
    "            scores = torch.stack(scores)\n",
    "\n",
    "            #self.dist_mean = scores.mean()\n",
    "            #self.dist_std = scores.std()\n",
    "            self.scores = scores\n",
    "\n",
    "            self.dist_min = scores.min().double()\n",
    "            mean = scores.mean() - self.dist_min\n",
    "            var = scores.var().double()\n",
    "            self.dist_alpha = mean**2 / var\n",
    "            self.dist_beta = mean / var\n",
    "\n",
    "            if plot_title is not None:\n",
    "                d = torch.distributions.Gamma(self.dist_alpha, self.dist_beta)\n",
    "                xx = torch.linspace(0.00001, scores.max() - self.dist_min, 100)\n",
    "                pyplot.figure()\n",
    "                pyplot.title(plot_title)\n",
    "                pyplot.plot(xx + self.dist_min, d.log_prob(xx).exp())\n",
    "                pyplot.hist(scores.numpy(), bins=100, density=True)\n",
    "                if plot_fn is not None:\n",
    "                    pyplot.savefig(plot_fn, bbox_inches='tight')\n",
    "                    pyplot.close()\n",
    "                else:\n",
    "                    pyplot.show()\n",
    "\n",
    "        return x\n",
    "    def predict_shift_from_features(\n",
    "        self,\n",
    "        base_outputs: torch.Tensor,\n",
    "        outputs: torch.Tensor,\n",
    "        compute_score: bool,\n",
    "        compute_p_value: bool,\n",
    "        individual_samples: bool = False,\n",
    "    ):\n",
    "        torchdrift.utils.check(\n",
    "            not individual_samples, \"Individual samples not supported by Wasserstein distance detector\"\n",
    "        )\n",
    "        if not compute_p_value:\n",
    "            ood_score = wasserstein(\n",
    "                base_outputs, outputs, p=self.wasserstein_p, fraction_to_match=self.fraction_to_match,\n",
    "                n_perm=None,\n",
    "            )\n",
    "            p_value = None\n",
    "        elif self.n_test is None:\n",
    "            ood_score, p_value = wasserstein(\n",
    "                base_outputs, outputs, p=self.wasserstein_p, fraction_to_match=self.fraction_to_match,\n",
    "                n_perm=self.n_perm)\n",
    "        else:\n",
    "            torchdrift.utils.check(self.n_test == outputs.size(0),\n",
    "                                   \"number of test samples does not match calibrated number\")\n",
    "            ood_score = wasserstein(\n",
    "                base_outputs, outputs, p=self.wasserstein_p, fraction_to_match=self.fraction_to_match,\n",
    "                n_perm=None)\n",
    "            p_value = torch.igammac(self.dist_alpha, self.dist_beta * (ood_score - self.dist_min))  # needs PyTorch >=1.8\n",
    "            # z = (ood_score - self.dist_mean) / self.dist_std\n",
    "            # p_value = 0.5 * torch.erfc(z * (0.5**0.5))\n",
    "            # p_value = (self.scores > ood_score).float().mean()\n",
    "        return ood_score, p_value\n",
    "\n",
    "class KernelMMDDriftDetector(torchdrift.detectors.Detector):\n",
    "    \"\"\"Drift detector based on the kernel Maximum Mean Discrepancy (MMD) test.\n",
    "\n",
    "    This is modelled after the MMD drift detection in\n",
    "    S. Rabanser et al: *Failing Loudly: An Empirical Study of Methods for Detecting Dataset Shift* (NeurIPS), 2019.\n",
    "\n",
    "    Note that our heuristic choice of the kernel bandwith is more closely aligned with that of the original MMD paper and code than S. Rabanser's.\n",
    "\n",
    "    The default kernel is the unnormalized Gaussian (or Squared Exponential) kernel.\n",
    "    \"\"\"\n",
    "\n",
    "    def __init__(\n",
    "        self, *, return_p_value=False, n_perm: int = 1000, kernel=torchdrift.detectors.mmd.GaussianKernel()\n",
    "    ):\n",
    "        super().__init__(return_p_value=return_p_value)\n",
    "        self.n_perm = n_perm\n",
    "        self.kernel = kernel\n",
    "        self.n_test = None\n",
    "\n",
    "    def fit(self, x: torch.Tensor, n_test=None, plot_title=None, plot_fn=None):\n",
    "        \"\"\"Record a sample as the reference distribution\"\"\"\n",
    "        x = x.detach()\n",
    "        if n_test is None:\n",
    "            self.base_outputs = x\n",
    "        else:\n",
    "            torchdrift.utils.check(0 < n_test < x.size(0), \"n_test must be strictly between 0 and the number of samples\")\n",
    "            self.n_test = n_test\n",
    "            self.base_outputs = x[:-n_test]\n",
    "\n",
    "            n_ref = x.size(0) - n_test\n",
    "\n",
    "            scores = []\n",
    "            for i in range(self.n_perm):\n",
    "                slicing = torch.randperm(x.size(0))\n",
    "                \n",
    "                # note: kernel_mmd is symmetrix in x and y\n",
    "                scores.append(torchdrift.detectors.kernel_mmd(\n",
    "                    x[slicing[:-n_test]], x[slicing[-n_test:]], n_perm=None, kernel=self.kernel))\n",
    "\n",
    "            scores = torch.stack(scores)\n",
    "\n",
    "            # limited smallish sample sizes, the MMD appears to exhibit a nonzero offset\n",
    "            # which vanishes in the limit we adapt. After correcting this, the gamma distribution\n",
    "            # approximation suggested by Gretton et al seems very good.\n",
    "            self.dist_min = scores.min().double()\n",
    "            mean = scores.mean() - self.dist_min\n",
    "            var = scores.var().double()\n",
    "            self.dist_alpha = mean**2 / var\n",
    "            self.dist_beta = mean / var\n",
    "\n",
    "            if plot_title is not None:\n",
    "                d = torch.distributions.Gamma(self.dist_alpha, self.dist_beta)\n",
    "                xx = torch.linspace(0.00001, scores.max() - self.dist_min, 100)\n",
    "                pyplot.figure()\n",
    "                pyplot.title(plot_title)\n",
    "                pyplot.plot(xx + self.dist_min, d.log_prob(xx).exp())\n",
    "                pyplot.hist(scores.numpy(), bins=100, density=True)\n",
    "                if plot_fn is not None:\n",
    "                    pyplot.savefig(plot_fn, bbox_inches='tight')\n",
    "                    pyplot.close()                    \n",
    "                else:\n",
    "                    pyplot.show()\n",
    "\n",
    "    def predict_shift_from_features(\n",
    "        self,\n",
    "        base_outputs: torch.Tensor,\n",
    "        outputs: torch.Tensor,\n",
    "        compute_score: bool,\n",
    "        compute_p_value: bool,\n",
    "        individual_samples: bool = False,\n",
    "    ):\n",
    "        torchdrift.utils.check(\n",
    "            not individual_samples, \"Individual samples not supported by MMD detector\"\n",
    "        )\n",
    "        if not compute_p_value:\n",
    "            ood_score = torchdrift.detectors.kernel_mmd(\n",
    "                outputs, base_outputs, n_perm=None, kernel=self.kernel\n",
    "            )\n",
    "            p_value = None\n",
    "        elif self.n_test is None:\n",
    "            ood_score, p_value = torchdrift.detectors.kernel_mmd(\n",
    "                outputs, base_outputs, n_perm=self.n_perm, kernel=self.kernel\n",
    "            )\n",
    "        else:\n",
    "            torchdrift.utils.check(self.n_test == outputs.size(0),\n",
    "                                   \"number of test samples does not match calibrated number\")\n",
    "            ood_score = torchdrift.detectors.kernel_mmd(\n",
    "                outputs, base_outputs, n_perm=None, kernel=self.kernel\n",
    "            )\n",
    "            p_value = torch.igammac(self.dist_alpha, self.dist_beta * (ood_score - self.dist_min))  # needs PyTorch >=1.8\n",
    "    \n",
    "        return ood_score, p_value"
   ]
  },
  {
   "cell_type": "code",
   "execution_count": 11,
   "metadata": {},
   "outputs": [],
   "source": [
    "def two_stage_partial_kernel_mmd(x, y, n_perm=None, kernel=torchdrift.detectors.mmd.GaussianKernel(),\n",
    "                       fraction_to_match=1.0, wasserstein_p=2.0):\n",
    "\n",
    "    n, d = x.shape\n",
    "    m, d2 = y.shape\n",
    "    if fraction_to_match < 1.0:\n",
    "        _, coupling = wasserstein(x, y, fraction_to_match=fraction_to_match, return_coupling=True, n_perm=None,\n",
    "                                  p=wasserstein_p)\n",
    "        w = coupling[:, :-1].sum(1).to(device=x.device, dtype=x.dtype) / fraction_to_match\n",
    "    else:\n",
    "        w = torch.full((n,), 1.0 / n, device=x.device, dtype=x.dtype)\n",
    "    torchdrift.utils.check(d == d2, \"feature dimension mismatch\")\n",
    "    xy = torch.cat([x.detach(), y.detach()], dim=0)\n",
    "    dists = torch.cdist(xy, xy, p=2.0)\n",
    "    # we are a bit sloppy here as we just keep the diagonal and everything twice\n",
    "    k = kernel(dists) # here we neglect the weights for the partial match, unfortunately\n",
    "    k_x = k[:n, :n]\n",
    "    k_y = k[n:, n:]\n",
    "    k_xy = k[:n, n:]\n",
    "    # The diagonals are always 1 (up to numerical error, this is (3) in Gretton et al.)\n",
    "    # note that their code uses the biased (and differently scaled mmd)\n",
    "    mmd= (w @ k_x ) @ w + k_y.sum()/(m*m)  - 2 * (w @ k_xy).sum() / m\n",
    "    #mmd = (\n",
    "    #    k_x.sum() / (n * (n - 1)) + k_y.sum() / (m * (m - 1)) - 2 * k_xy.sum() / (n * m)\n",
    "    #)\n",
    "    if n_perm is None:\n",
    "        return mmd\n",
    "    raise NotImplementedError(\"Bootstraping within partial MMD is not implemented, use bootstrap during fit\")\n",
    "\n",
    "def partial_kernel_mmd(x, y, n_perm=None, kernel=torchdrift.detectors.mmd.GaussianKernel(),\n",
    "                       fraction_to_match=1.0):\n",
    "    n, d = x.shape\n",
    "    m, d2 = y.shape\n",
    "    torchdrift.utils.check(d == d2, \"feature dimension mismatch\")\n",
    "    xy = torch.cat([x.detach(), y.detach()], dim=0)\n",
    "    dists = torch.cdist(xy, xy, p=2.0)\n",
    "    # we are a bit sloppy here as we just keep the diagonal and everything twice\n",
    "    k = kernel(dists.double())\n",
    "    k_x = k[:n, :n]\n",
    "    k_y = k[n:, n:]\n",
    "    k_xy = k[:n, n:]\n",
    "\n",
    "    v = torch.full((m,), 1/m, dtype=k_y.dtype, device=k_y.device)\n",
    "    R = torch.cholesky(k_x, upper=True)\n",
    "    d = torch.inverse(R.t()) @ (k_xy.sum(1) / m)\n",
    "    LARGE = 1e7\n",
    "    #A = torch.cat([R, torch.full((1, n,), LARGE, dtype=R.dtype, device=R.device)])\n",
    "    #b = torch.cat([d, torch.full((1,), LARGE, dtype=R.dtype, device=R.device)])\n",
    "    lb = torch.zeros((n,), dtype=k_x.dtype, device=k_x.device)\n",
    "    ub = torch.full((n,), 1.0 / (n * fraction_to_match), dtype=k_x.dtype, device=k_x.device)\n",
    "    w = torch.from_numpy(qpsolvers.solve_ls(R.numpy(), d.numpy(), lb=lb.numpy(), ub=ub.numpy(),\n",
    "                                A=torch.ones((1, n,), dtype=R.dtype, device=R.device).numpy(),\n",
    "                                b = torch.ones((1,), dtype=R.dtype, device=R.device).numpy()))\n",
    "    # opt_res = scipy.optimize.lsq_linear(A, b, bounds=(lb, ub))\n",
    "    # w = torch.from_numpy(opt_res.x)\n",
    "    mmd= (w @ k_x ) @ w + k_y.sum()/(m*m)  - 2 * (w @ k_xy).sum() / m\n",
    "    #mmd = (\n",
    "    #    k_x.sum() / (n * n) + k_y.sum() / (m * m)\n",
    "    #)\n",
    "    return mmd\n",
    "\n",
    "class TwoStageDriftDetector(torchdrift.detectors.Detector):\n",
    "\n",
    "    def __init__(\n",
    "        self, *, return_p_value=False, n_perm: int = 1000, kernel=torchdrift.detectors.mmd.GaussianKernel(),\n",
    "        fraction_to_match=1.0, wasserstein_p=2.0\n",
    "    ):\n",
    "        super().__init__(return_p_value=return_p_value)\n",
    "        self.n_perm = n_perm\n",
    "        self.kernel = kernel\n",
    "        self.fraction_to_match = fraction_to_match\n",
    "        self.wasserstein_p = wasserstein_p\n",
    "        self.n_test = None\n",
    "\n",
    "    def fit(self, x: torch.Tensor, n_test=None, plot_title=None, plot_fn=None):\n",
    "        \"\"\"Record a sample as the reference distribution\"\"\"\n",
    "        x = x.detach()\n",
    "        if n_test is None:\n",
    "            self.base_outputs = x\n",
    "        else:\n",
    "            torchdrift.utils.check(0 < n_test < x.size(0), \"n_test must be strictly between 0 and the number of samples\")\n",
    "            self.n_test = n_test\n",
    "            self.base_outputs = x[:-n_test]\n",
    "\n",
    "            n_ref = x.size(0) - n_test\n",
    "\n",
    "            scores = []\n",
    "            for i in tqdm.tqdm(range(self.n_perm)):\n",
    "                slicing = torch.randperm(x.size(0))\n",
    "                \n",
    "                # *partial* kernel mmd is not symmetric(!)\n",
    "                scores.append(two_stage_partial_kernel_mmd(\n",
    "                    x[slicing[:-n_test]], x[slicing[-n_test:]], n_perm=None, kernel=self.kernel,\n",
    "                    fraction_to_match=self.fraction_to_match, wasserstein_p=self.wasserstein_p))\n",
    "\n",
    "            scores = torch.stack(scores)\n",
    "\n",
    "            # limited smallish sample sizes, the MMD appears to exhibit a nonzero offset\n",
    "            # which vanishes in the limit we adapt. After correcting this, the gamma distribution\n",
    "            # approximation suggested by Gretton et al seems very good.\n",
    "            self.dist_min = scores.min().double()\n",
    "            mean = scores.mean() - self.dist_min\n",
    "            var = scores.var().double()\n",
    "            self.dist_alpha = mean**2 / var\n",
    "            self.dist_beta = mean / var\n",
    "\n",
    "            if plot_title is not None:\n",
    "                d = torch.distributions.Gamma(self.dist_alpha, self.dist_beta)\n",
    "                xx = torch.linspace(0.00001, scores.max() - self.dist_min, 100)\n",
    "                pyplot.figure()\n",
    "                pyplot.title(plot_title)\n",
    "                pyplot.plot(xx + self.dist_min, d.log_prob(xx).exp())\n",
    "                pyplot.hist(scores.numpy(), bins=100, density=True)\n",
    "                if plot_fn is not None:\n",
    "                    pyplot.savefig(plot_fn, bbox_inches='tight')\n",
    "                    pyplot.close()                    \n",
    "                else:\n",
    "                    pyplot.show()\n",
    "\n",
    "    def predict_shift_from_features(\n",
    "        self,\n",
    "        base_outputs: torch.Tensor,\n",
    "        outputs: torch.Tensor,\n",
    "        compute_score: bool,\n",
    "        compute_p_value: bool,\n",
    "        individual_samples: bool = False,\n",
    "    ):\n",
    "        torchdrift.utils.check(\n",
    "            not individual_samples, \"Individual samples not supported by MMD detector\"\n",
    "        )\n",
    "        if not compute_p_value:\n",
    "            ood_score = two_stage_partial_kernel_mmd(\n",
    "                base_outputs, outputs, n_perm=None, kernel=self.kernel,\n",
    "                fraction_to_match=self.fraction_to_match, wasserstein_p=self.wasserstein_p\n",
    "            )\n",
    "            p_value = None\n",
    "        elif self.n_test is None:\n",
    "            torchdrift.utils.check(\n",
    "                False, \"Ad hoc boostrap not implemented\"\n",
    "            )\n",
    "        else:\n",
    "            torchdrift.utils.check(self.n_test == outputs.size(0),\n",
    "                                   \"number of test samples does not match calibrated number\")\n",
    "            ood_score = two_stage_partial_kernel_mmd(\n",
    "                base_outputs, outputs, n_perm=None, kernel=self.kernel,\n",
    "                fraction_to_match=self.fraction_to_match, wasserstein_p=self.wasserstein_p\n",
    "            )\n",
    "            p_value = torch.igammac(self.dist_alpha, self.dist_beta * (ood_score - self.dist_min))  # needs PyTorch >=1.8\n",
    "            # overflow... map to 1.0\n",
    "            p_value = torch.nan_to_num(p_value, nan=1.0)\n",
    "    \n",
    "        return ood_score, p_value\n",
    "\n",
    "class PartialKernelMMDDriftDetector(torchdrift.detectors.Detector):\n",
    "\n",
    "    def __init__(\n",
    "        self, *, return_p_value=False, n_perm: int = 1000, kernel=torchdrift.detectors.mmd.GaussianKernel(),\n",
    "        fraction_to_match=1.0\n",
    "    ):\n",
    "        super().__init__(return_p_value=return_p_value)\n",
    "        self.n_perm = n_perm\n",
    "        self.kernel = kernel\n",
    "        self.fraction_to_match = fraction_to_match\n",
    "        self.n_test = None\n",
    "\n",
    "    def fit(self, x: torch.Tensor, n_test=None, plot_title=None, plot_fn=None):\n",
    "        \"\"\"Record a sample as the reference distribution\"\"\"\n",
    "        x = x.detach()\n",
    "        if n_test is None:\n",
    "            self.base_outputs = x\n",
    "        else:\n",
    "            torchdrift.utils.check(0 < n_test < x.size(0), \"n_test must be strictly between 0 and the number of samples\")\n",
    "            self.n_test = n_test\n",
    "            self.base_outputs = x[:-n_test]\n",
    "\n",
    "            n_ref = x.size(0) - n_test\n",
    "\n",
    "            scores = []\n",
    "            for i in tqdm.tqdm(range(self.n_perm)):\n",
    "                slicing = torch.randperm(x.size(0))\n",
    "                \n",
    "                # *partial* kernel mmd is not symmetric(!)\n",
    "                scores.append(partial_kernel_mmd(\n",
    "                    x[slicing[:-n_test]], x[slicing[-n_test:]], n_perm=None, kernel=self.kernel,\n",
    "                    fraction_to_match=self.fraction_to_match))\n",
    "\n",
    "            scores = torch.stack(scores)\n",
    "\n",
    "            # limited smallish sample sizes, the MMD appears to exhibit a nonzero offset\n",
    "            # which vanishes in the limit we adapt. After correcting this, the gamma distribution\n",
    "            # approximation suggested by Gretton et al seems very good.\n",
    "            self.dist_min = scores.min().double()\n",
    "            mean = scores.mean() - self.dist_min\n",
    "            var = scores.var().double()\n",
    "            self.dist_alpha = mean**2 / var\n",
    "            self.dist_beta = mean / var\n",
    "\n",
    "            if plot_title is not None:\n",
    "                d = torch.distributions.Gamma(self.dist_alpha, self.dist_beta)\n",
    "                xx = torch.linspace(0.00001, scores.max() - self.dist_min, 100)\n",
    "                pyplot.figure()\n",
    "                pyplot.title(plot_title)\n",
    "                pyplot.plot(xx + self.dist_min, d.log_prob(xx).exp())\n",
    "                pyplot.hist(scores.numpy(), bins=100, density=True)\n",
    "                if plot_fn is not None:\n",
    "                    pyplot.savefig(plot_fn, bbox_inches='tight')\n",
    "                    pyplot.close()\n",
    "                else:\n",
    "                    pyplot.show()\n",
    "\n",
    "    def predict_shift_from_features(\n",
    "        self,\n",
    "        base_outputs: torch.Tensor,\n",
    "        outputs: torch.Tensor,\n",
    "        compute_score: bool,\n",
    "        compute_p_value: bool,\n",
    "        individual_samples: bool = False,\n",
    "    ):\n",
    "        torchdrift.utils.check(\n",
    "            not individual_samples, \"Individual samples not supported by MMD detector\"\n",
    "        )\n",
    "        if not compute_p_value:\n",
    "            ood_score = partial_kernel_mmd(\n",
    "                base_outputs, outputs, n_perm=None, kernel=self.kernel,\n",
    "                fraction_to_match=self.fraction_to_match\n",
    "            )\n",
    "            p_value = None\n",
    "        elif self.n_test is None:\n",
    "            torchdrift.utils.check(\n",
    "                False, \"Ad hoc boostrap not implemented\"\n",
    "            )\n",
    "        else:\n",
    "            torchdrift.utils.check(self.n_test == outputs.size(0),\n",
    "                                   \"number of test samples does not match calibrated number\")\n",
    "            ood_score = partial_kernel_mmd(\n",
    "                base_outputs, outputs, n_perm=None, kernel=self.kernel,\n",
    "                fraction_to_match=self.fraction_to_match\n",
    "            )\n",
    "            p_value = torch.igammac(self.dist_alpha, self.dist_beta * (ood_score - self.dist_min))  # needs PyTorch >=1.8\n",
    "            # overflow... map to 1.0\n",
    "            p_value = torch.nan_to_num(p_value, nan=1.0)\n",
    "    \n",
    "        return ood_score, p_value"
   ]
  },
  {
   "cell_type": "code",
   "execution_count": 12,
   "metadata": {
    "scrolled": false
   },
   "outputs": [
    {
     "name": "stderr",
     "output_type": "stream",
     "text": [
      "GPU available: True, used: True\n",
      "TPU available: False, using: 0 TPU cores\n",
      "LOCAL_RANK: 0 - CUDA_VISIBLE_DEVICES: [0]\n",
      "\n",
      "  | Name       | Type       | Params\n",
      "------------------------------------------\n",
      "0 | backbone   | ResNet     | 11.2 M\n",
      "1 | classifier | Sequential | 16.7 K\n",
      "------------------------------------------\n",
      "16.7 K    Trainable params\n",
      "11.2 M    Non-trainable params\n",
      "11.2 M    Total params\n",
      "44.773    Total estimated model params size (MB)\n"
     ]
    },
    {
     "name": "stdout",
     "output_type": "stream",
     "text": [
      "Epoch 19: 100%|██████████| 313/313 [00:02<00:00, 138.36it/s, loss=0.553]\n"
     ]
    },
    {
     "name": "stderr",
     "output_type": "stream",
     "text": [
      "LOCAL_RANK: 0 - CUDA_VISIBLE_DEVICES: [0]\n"
     ]
    },
    {
     "name": "stdout",
     "output_type": "stream",
     "text": [
      "\r",
      "Testing: 0it [00:00, ?it/s]"
     ]
    },
    {
     "name": "stderr",
     "output_type": "stream",
     "text": [
      "/usr/local/lib/python3.9/dist-packages/pytorch_lightning/utilities/distributed.py:69: UserWarning: The dataloader, test dataloader 0, does not have many workers which may be a bottleneck. Consider increasing the value of the `num_workers` argument` (try 32 which is the number of cpus on this machine) in the `DataLoader` init to improve performance.\n",
      "  warnings.warn(*args, **kwargs)\n"
     ]
    },
    {
     "name": "stdout",
     "output_type": "stream",
     "text": [
      "Testing: 100%|██████████| 63/63 [00:03<00:00, 21.12it/s]--------------------------------------------------------------------------------\n",
      "DATALOADER:0 TEST RESULTS\n",
      "{'test_acc': 0.9316250085830688, 'test_loss': 0.2041691541671753}\n",
      "--------------------------------------------------------------------------------\n",
      "Testing: 100%|██████████| 63/63 [00:03<00:00, 19.12it/s]\n"
     ]
    },
    {
     "name": "stderr",
     "output_type": "stream",
     "text": [
      "LOCAL_RANK: 0 - CUDA_VISIBLE_DEVICES: [0]\n"
     ]
    },
    {
     "name": "stdout",
     "output_type": "stream",
     "text": [
      "Testing: 100%|██████████| 63/63 [00:28<00:00,  2.73it/s]--------------------------------------------------------------------------------\n",
      "DATALOADER:0 TEST RESULTS\n",
      "{'test_acc': 0.8661249876022339, 'test_loss': 0.3938400447368622}\n",
      "--------------------------------------------------------------------------------\n",
      "Testing: 100%|██████████| 63/63 [00:28<00:00,  2.22it/s]"
     ]
    },
    {
     "name": "stderr",
     "output_type": "stream",
     "text": [
      "LOCAL_RANK: 0 - CUDA_VISIBLE_DEVICES: [0]\n"
     ]
    },
    {
     "name": "stdout",
     "output_type": "stream",
     "text": [
      "\n",
      "Testing: 100%|██████████| 63/63 [00:49<00:00,  1.49it/s]--------------------------------------------------------------------------------\n",
      "DATALOADER:0 TEST RESULTS\n",
      "{'test_acc': 0.762499988079071, 'test_loss': 0.6914559602737427}\n",
      "--------------------------------------------------------------------------------\n",
      "Testing: 100%|██████████| 63/63 [00:49<00:00,  1.27it/s]"
     ]
    },
    {
     "name": "stderr",
     "output_type": "stream",
     "text": [
      "LOCAL_RANK: 0 - CUDA_VISIBLE_DEVICES: [0]\n"
     ]
    },
    {
     "name": "stdout",
     "output_type": "stream",
     "text": [
      "\n",
      "Testing: 100%|██████████| 63/63 [01:36<00:00,  1.22s/it]--------------------------------------------------------------------------------\n",
      "DATALOADER:0 TEST RESULTS\n",
      "{'test_acc': 0.6000000238418579, 'test_loss': 1.1294397115707397}\n",
      "--------------------------------------------------------------------------------\n",
      "Testing: 100%|██████████| 63/63 [01:36<00:00,  1.53s/it]\n",
      "accs [(0, 0.9316250085830688), (2, 0.8661249876022339), (3, 0.762499988079071), (4, 0.6000000238418579)]\n",
      "experiment.stl10rn18.run_0.corruption_strength_3-N_test_50-fraction_to_match_0.05-wasserstein_p_2.0\n"
     ]
    },
    {
     "name": "stderr",
     "output_type": "stream",
     "text": [
      "100%|██████████| 1000/1000 [00:11<00:00, 90.20it/s]\n",
      "100%|██████████| 1000/1000 [02:56<00:00,  5.66it/s]\n"
     ]
    },
    {
     "name": "stdout",
     "output_type": "stream",
     "text": [
      "experiment.stl10rn18.run_0.corruption_strength_2-N_test_50-fraction_to_match_0.05-wasserstein_p_2.0\n"
     ]
    },
    {
     "name": "stderr",
     "output_type": "stream",
     "text": [
      "100%|██████████| 1000/1000 [00:11<00:00, 89.25it/s]\n",
      "100%|██████████| 1000/1000 [02:54<00:00,  5.74it/s]\n"
     ]
    },
    {
     "name": "stdout",
     "output_type": "stream",
     "text": [
      "experiment.stl10rn18.run_0.corruption_strength_4-N_test_50-fraction_to_match_0.05-wasserstein_p_2.0\n"
     ]
    },
    {
     "name": "stderr",
     "output_type": "stream",
     "text": [
      "100%|██████████| 1000/1000 [00:11<00:00, 89.09it/s]\n",
      "100%|██████████| 1000/1000 [03:01<00:00,  5.51it/s]\n"
     ]
    },
    {
     "name": "stdout",
     "output_type": "stream",
     "text": [
      "experiment.stl10rn18.run_0.corruption_strength_3-N_test_20-fraction_to_match_0.02-wasserstein_p_2.0\n"
     ]
    },
    {
     "name": "stderr",
     "output_type": "stream",
     "text": [
      "100%|██████████| 1000/1000 [00:09<00:00, 102.82it/s]\n",
      "100%|██████████| 1000/1000 [02:02<00:00,  8.18it/s]\n"
     ]
    },
    {
     "name": "stdout",
     "output_type": "stream",
     "text": [
      "experiment.stl10rn18.run_0.corruption_strength_3-N_test_100-fraction_to_match_0.1-wasserstein_p_2.0\n"
     ]
    },
    {
     "name": "stderr",
     "output_type": "stream",
     "text": [
      "100%|██████████| 1000/1000 [00:13<00:00, 75.01it/s]\n",
      "100%|██████████| 1000/1000 [04:26<00:00,  3.75it/s]\n"
     ]
    },
    {
     "name": "stdout",
     "output_type": "stream",
     "text": [
      "experiment.stl10rn18.run_0.corruption_strength_3-N_test_50-fraction_to_match_0.02-wasserstein_p_2.0\n"
     ]
    },
    {
     "name": "stderr",
     "output_type": "stream",
     "text": [
      "100%|██████████| 1000/1000 [00:11<00:00, 88.09it/s]\n",
      "100%|██████████| 1000/1000 [02:55<00:00,  5.69it/s]\n"
     ]
    },
    {
     "name": "stdout",
     "output_type": "stream",
     "text": [
      "experiment.stl10rn18.run_0.corruption_strength_3-N_test_50-fraction_to_match_0.1-wasserstein_p_2.0\n"
     ]
    },
    {
     "name": "stderr",
     "output_type": "stream",
     "text": [
      "100%|██████████| 1000/1000 [00:11<00:00, 88.33it/s]\n",
      "100%|██████████| 1000/1000 [03:00<00:00,  5.54it/s]\n"
     ]
    },
    {
     "name": "stdout",
     "output_type": "stream",
     "text": [
      "experiment.stl10rn18.run_0.corruption_strength_3-N_test_50-fraction_to_match_0.05-wasserstein_p_1.0\n"
     ]
    },
    {
     "name": "stderr",
     "output_type": "stream",
     "text": [
      "100%|██████████| 1000/1000 [00:11<00:00, 90.55it/s]\n",
      "100%|██████████| 1000/1000 [02:50<00:00,  5.85it/s]\n"
     ]
    },
    {
     "name": "stdout",
     "output_type": "stream",
     "text": [
      "experiment.stl10rn18.run_0.corruption_strength_3-N_test_50-fraction_to_match_0.05-wasserstein_p_4.0\n"
     ]
    },
    {
     "name": "stderr",
     "output_type": "stream",
     "text": [
      "100%|██████████| 1000/1000 [00:11<00:00, 90.53it/s]\n",
      "100%|██████████| 1000/1000 [02:56<00:00,  5.66it/s]\n",
      "GPU available: True, used: True\n",
      "TPU available: False, using: 0 TPU cores\n",
      "LOCAL_RANK: 0 - CUDA_VISIBLE_DEVICES: [0]\n",
      "\n",
      "  | Name       | Type       | Params\n",
      "------------------------------------------\n",
      "0 | backbone   | ResNet     | 11.2 M\n",
      "1 | classifier | Sequential | 16.7 K\n",
      "------------------------------------------\n",
      "16.7 K    Trainable params\n",
      "11.2 M    Non-trainable params\n",
      "11.2 M    Total params\n",
      "44.773    Total estimated model params size (MB)\n"
     ]
    },
    {
     "name": "stdout",
     "output_type": "stream",
     "text": [
      "Epoch 0:   0%|          | 0/313 [00:00<?, ?it/s] "
     ]
    },
    {
     "name": "stderr",
     "output_type": "stream",
     "text": [
      "/usr/local/lib/python3.9/dist-packages/pytorch_lightning/utilities/distributed.py:69: UserWarning: One of given dataloaders is None and it will be skipped.\n",
      "  warnings.warn(*args, **kwargs)\n",
      "/usr/local/lib/python3.9/dist-packages/pytorch_lightning/utilities/distributed.py:69: UserWarning: The dataloader, train dataloader, does not have many workers which may be a bottleneck. Consider increasing the value of the `num_workers` argument` (try 32 which is the number of cpus on this machine) in the `DataLoader` init to improve performance.\n",
      "  warnings.warn(*args, **kwargs)\n"
     ]
    },
    {
     "name": "stdout",
     "output_type": "stream",
     "text": [
      "Epoch 19: 100%|██████████| 313/313 [00:02<00:00, 139.22it/s, loss=0.482]\n"
     ]
    },
    {
     "name": "stderr",
     "output_type": "stream",
     "text": [
      "LOCAL_RANK: 0 - CUDA_VISIBLE_DEVICES: [0]\n"
     ]
    },
    {
     "name": "stdout",
     "output_type": "stream",
     "text": [
      "\r",
      "Testing: 0it [00:00, ?it/s]"
     ]
    },
    {
     "name": "stderr",
     "output_type": "stream",
     "text": [
      "/usr/local/lib/python3.9/dist-packages/pytorch_lightning/utilities/distributed.py:69: UserWarning: The dataloader, test dataloader 0, does not have many workers which may be a bottleneck. Consider increasing the value of the `num_workers` argument` (try 32 which is the number of cpus on this machine) in the `DataLoader` init to improve performance.\n",
      "  warnings.warn(*args, **kwargs)\n"
     ]
    },
    {
     "name": "stdout",
     "output_type": "stream",
     "text": [
      "Testing:  97%|█████████▋| 61/63 [00:03<00:00, 19.33it/s]--------------------------------------------------------------------------------\n",
      "DATALOADER:0 TEST RESULTS\n",
      "{'test_acc': 0.940625011920929, 'test_loss': 0.1842556595802307}\n",
      "--------------------------------------------------------------------------------\n",
      "Testing: 100%|██████████| 63/63 [00:03<00:00, 18.42it/s]"
     ]
    },
    {
     "name": "stderr",
     "output_type": "stream",
     "text": [
      "LOCAL_RANK: 0 - CUDA_VISIBLE_DEVICES: [0]\n"
     ]
    },
    {
     "name": "stdout",
     "output_type": "stream",
     "text": [
      "\n",
      "Testing: 100%|██████████| 63/63 [00:28<00:00,  2.60it/s]--------------------------------------------------------------------------------\n",
      "DATALOADER:0 TEST RESULTS\n",
      "{'test_acc': 0.84375, 'test_loss': 0.4491051137447357}\n",
      "--------------------------------------------------------------------------------\n",
      "Testing: 100%|██████████| 63/63 [00:28<00:00,  2.19it/s]"
     ]
    },
    {
     "name": "stderr",
     "output_type": "stream",
     "text": [
      "LOCAL_RANK: 0 - CUDA_VISIBLE_DEVICES: [0]\n"
     ]
    },
    {
     "name": "stdout",
     "output_type": "stream",
     "text": [
      "\n",
      "Testing: 100%|██████████| 63/63 [00:50<00:00,  1.47it/s]--------------------------------------------------------------------------------\n",
      "DATALOADER:0 TEST RESULTS\n",
      "{'test_acc': 0.7182499766349792, 'test_loss': 0.7814860343933105}\n",
      "--------------------------------------------------------------------------------\n",
      "Testing: 100%|██████████| 63/63 [00:50<00:00,  1.24it/s]"
     ]
    },
    {
     "name": "stderr",
     "output_type": "stream",
     "text": [
      "LOCAL_RANK: 0 - CUDA_VISIBLE_DEVICES: [0]\n"
     ]
    },
    {
     "name": "stdout",
     "output_type": "stream",
     "text": [
      "\n",
      "Testing: 100%|██████████| 63/63 [01:36<00:00,  1.26s/it]--------------------------------------------------------------------------------\n",
      "DATALOADER:0 TEST RESULTS\n",
      "{'test_acc': 0.5417500138282776, 'test_loss': 1.2577232122421265}\n",
      "--------------------------------------------------------------------------------\n",
      "Testing: 100%|██████████| 63/63 [01:36<00:00,  1.54s/it]\n",
      "accs [(0, 0.940625011920929), (2, 0.84375), (3, 0.7182499766349792), (4, 0.5417500138282776)]\n",
      "experiment.stl10rn18.run_1.corruption_strength_3-N_test_50-fraction_to_match_0.05-wasserstein_p_2.0\n"
     ]
    },
    {
     "name": "stderr",
     "output_type": "stream",
     "text": [
      "100%|██████████| 1000/1000 [00:11<00:00, 90.89it/s]\n",
      "100%|██████████| 1000/1000 [02:56<00:00,  5.66it/s]\n"
     ]
    },
    {
     "name": "stdout",
     "output_type": "stream",
     "text": [
      "experiment.stl10rn18.run_1.corruption_strength_2-N_test_50-fraction_to_match_0.05-wasserstein_p_2.0\n"
     ]
    },
    {
     "name": "stderr",
     "output_type": "stream",
     "text": [
      "100%|██████████| 1000/1000 [00:11<00:00, 89.23it/s]\n",
      "100%|██████████| 1000/1000 [02:50<00:00,  5.88it/s]\n"
     ]
    },
    {
     "name": "stdout",
     "output_type": "stream",
     "text": [
      "experiment.stl10rn18.run_1.corruption_strength_4-N_test_50-fraction_to_match_0.05-wasserstein_p_2.0\n"
     ]
    },
    {
     "name": "stderr",
     "output_type": "stream",
     "text": [
      "100%|██████████| 1000/1000 [00:11<00:00, 88.92it/s]\n",
      "100%|██████████| 1000/1000 [03:02<00:00,  5.48it/s]\n"
     ]
    },
    {
     "name": "stdout",
     "output_type": "stream",
     "text": [
      "experiment.stl10rn18.run_1.corruption_strength_3-N_test_20-fraction_to_match_0.02-wasserstein_p_2.0\n"
     ]
    },
    {
     "name": "stderr",
     "output_type": "stream",
     "text": [
      "100%|██████████| 1000/1000 [00:09<00:00, 103.63it/s]\n",
      "100%|██████████| 1000/1000 [02:01<00:00,  8.22it/s]\n"
     ]
    },
    {
     "name": "stdout",
     "output_type": "stream",
     "text": [
      "experiment.stl10rn18.run_1.corruption_strength_3-N_test_100-fraction_to_match_0.1-wasserstein_p_2.0\n"
     ]
    },
    {
     "name": "stderr",
     "output_type": "stream",
     "text": [
      "100%|██████████| 1000/1000 [00:13<00:00, 73.89it/s]\n",
      "100%|██████████| 1000/1000 [04:22<00:00,  3.81it/s]\n"
     ]
    },
    {
     "name": "stdout",
     "output_type": "stream",
     "text": [
      "experiment.stl10rn18.run_1.corruption_strength_3-N_test_50-fraction_to_match_0.02-wasserstein_p_2.0\n"
     ]
    },
    {
     "name": "stderr",
     "output_type": "stream",
     "text": [
      "100%|██████████| 1000/1000 [00:11<00:00, 88.94it/s]\n",
      "100%|██████████| 1000/1000 [02:57<00:00,  5.62it/s]\n"
     ]
    },
    {
     "name": "stdout",
     "output_type": "stream",
     "text": [
      "experiment.stl10rn18.run_1.corruption_strength_3-N_test_50-fraction_to_match_0.1-wasserstein_p_2.0\n"
     ]
    },
    {
     "name": "stderr",
     "output_type": "stream",
     "text": [
      "100%|██████████| 1000/1000 [00:11<00:00, 87.18it/s]\n",
      "100%|██████████| 1000/1000 [02:59<00:00,  5.58it/s]\n"
     ]
    },
    {
     "name": "stdout",
     "output_type": "stream",
     "text": [
      "experiment.stl10rn18.run_1.corruption_strength_3-N_test_50-fraction_to_match_0.05-wasserstein_p_1.0\n"
     ]
    },
    {
     "name": "stderr",
     "output_type": "stream",
     "text": [
      "100%|██████████| 1000/1000 [00:11<00:00, 88.82it/s]\n",
      "100%|██████████| 1000/1000 [02:51<00:00,  5.84it/s]\n"
     ]
    },
    {
     "name": "stdout",
     "output_type": "stream",
     "text": [
      "experiment.stl10rn18.run_1.corruption_strength_3-N_test_50-fraction_to_match_0.05-wasserstein_p_4.0\n"
     ]
    },
    {
     "name": "stderr",
     "output_type": "stream",
     "text": [
      "100%|██████████| 1000/1000 [00:11<00:00, 89.55it/s]\n",
      "100%|██████████| 1000/1000 [02:51<00:00,  5.83it/s]\n",
      "GPU available: True, used: True\n",
      "TPU available: False, using: 0 TPU cores\n",
      "LOCAL_RANK: 0 - CUDA_VISIBLE_DEVICES: [0]\n",
      "\n",
      "  | Name       | Type       | Params\n",
      "------------------------------------------\n",
      "0 | backbone   | ResNet     | 11.2 M\n",
      "1 | classifier | Sequential | 16.7 K\n",
      "------------------------------------------\n",
      "16.7 K    Trainable params\n",
      "11.2 M    Non-trainable params\n",
      "11.2 M    Total params\n",
      "44.773    Total estimated model params size (MB)\n"
     ]
    },
    {
     "name": "stdout",
     "output_type": "stream",
     "text": [
      "Epoch 0:   0%|          | 0/313 [00:00<?, ?it/s] "
     ]
    },
    {
     "name": "stderr",
     "output_type": "stream",
     "text": [
      "/usr/local/lib/python3.9/dist-packages/pytorch_lightning/utilities/distributed.py:69: UserWarning: One of given dataloaders is None and it will be skipped.\n",
      "  warnings.warn(*args, **kwargs)\n",
      "/usr/local/lib/python3.9/dist-packages/pytorch_lightning/utilities/distributed.py:69: UserWarning: The dataloader, train dataloader, does not have many workers which may be a bottleneck. Consider increasing the value of the `num_workers` argument` (try 32 which is the number of cpus on this machine) in the `DataLoader` init to improve performance.\n",
      "  warnings.warn(*args, **kwargs)\n"
     ]
    },
    {
     "name": "stdout",
     "output_type": "stream",
     "text": [
      "Epoch 19: 100%|██████████| 313/313 [00:02<00:00, 131.91it/s, loss=0.556]\n"
     ]
    },
    {
     "name": "stderr",
     "output_type": "stream",
     "text": [
      "LOCAL_RANK: 0 - CUDA_VISIBLE_DEVICES: [0]\n"
     ]
    },
    {
     "name": "stdout",
     "output_type": "stream",
     "text": [
      "\r",
      "Testing: 0it [00:00, ?it/s]"
     ]
    },
    {
     "name": "stderr",
     "output_type": "stream",
     "text": [
      "/usr/local/lib/python3.9/dist-packages/pytorch_lightning/utilities/distributed.py:69: UserWarning: The dataloader, test dataloader 0, does not have many workers which may be a bottleneck. Consider increasing the value of the `num_workers` argument` (try 32 which is the number of cpus on this machine) in the `DataLoader` init to improve performance.\n",
      "  warnings.warn(*args, **kwargs)\n"
     ]
    },
    {
     "name": "stdout",
     "output_type": "stream",
     "text": [
      "Testing:  97%|█████████▋| 61/63 [00:03<00:00, 19.54it/s]--------------------------------------------------------------------------------\n",
      "DATALOADER:0 TEST RESULTS\n",
      "{'test_acc': 0.937375009059906, 'test_loss': 0.1875825971364975}\n",
      "--------------------------------------------------------------------------------\n",
      "Testing: 100%|██████████| 63/63 [00:03<00:00, 18.41it/s]"
     ]
    },
    {
     "name": "stderr",
     "output_type": "stream",
     "text": [
      "LOCAL_RANK: 0 - CUDA_VISIBLE_DEVICES: [0]\n"
     ]
    },
    {
     "name": "stdout",
     "output_type": "stream",
     "text": [
      "\n",
      "Testing: 100%|██████████| 63/63 [00:28<00:00,  2.56it/s]--------------------------------------------------------------------------------\n",
      "DATALOADER:0 TEST RESULTS\n",
      "{'test_acc': 0.8617500066757202, 'test_loss': 0.4035875201225281}\n",
      "--------------------------------------------------------------------------------\n",
      "Testing: 100%|██████████| 63/63 [00:29<00:00,  2.17it/s]"
     ]
    },
    {
     "name": "stderr",
     "output_type": "stream",
     "text": [
      "LOCAL_RANK: 0 - CUDA_VISIBLE_DEVICES: [0]\n"
     ]
    },
    {
     "name": "stdout",
     "output_type": "stream",
     "text": [
      "\n",
      "Testing: 100%|██████████| 63/63 [00:50<00:00,  1.49it/s]--------------------------------------------------------------------------------\n",
      "DATALOADER:0 TEST RESULTS\n",
      "{'test_acc': 0.7662500143051147, 'test_loss': 0.6924465298652649}\n",
      "--------------------------------------------------------------------------------\n",
      "Testing: 100%|██████████| 63/63 [00:50<00:00,  1.26it/s]"
     ]
    },
    {
     "name": "stderr",
     "output_type": "stream",
     "text": [
      "LOCAL_RANK: 0 - CUDA_VISIBLE_DEVICES: [0]\n"
     ]
    },
    {
     "name": "stdout",
     "output_type": "stream",
     "text": [
      "\n",
      "Testing: 100%|██████████| 63/63 [01:38<00:00,  1.33s/it]--------------------------------------------------------------------------------\n",
      "DATALOADER:0 TEST RESULTS\n",
      "{'test_acc': 0.6004999876022339, 'test_loss': 1.1103354692459106}\n",
      "--------------------------------------------------------------------------------\n",
      "Testing: 100%|██████████| 63/63 [01:38<00:00,  1.57s/it]\n",
      "accs [(0, 0.937375009059906), (2, 0.8617500066757202), (3, 0.7662500143051147), (4, 0.6004999876022339)]\n",
      "experiment.stl10rn18.run_2.corruption_strength_3-N_test_50-fraction_to_match_0.05-wasserstein_p_2.0\n"
     ]
    },
    {
     "name": "stderr",
     "output_type": "stream",
     "text": [
      "100%|██████████| 1000/1000 [00:10<00:00, 91.16it/s]\n",
      "100%|██████████| 1000/1000 [02:55<00:00,  5.71it/s]\n"
     ]
    },
    {
     "name": "stdout",
     "output_type": "stream",
     "text": [
      "experiment.stl10rn18.run_2.corruption_strength_2-N_test_50-fraction_to_match_0.05-wasserstein_p_2.0\n"
     ]
    },
    {
     "name": "stderr",
     "output_type": "stream",
     "text": [
      "100%|██████████| 1000/1000 [00:11<00:00, 89.71it/s]\n",
      "100%|██████████| 1000/1000 [02:51<00:00,  5.84it/s]\n"
     ]
    },
    {
     "name": "stdout",
     "output_type": "stream",
     "text": [
      "experiment.stl10rn18.run_2.corruption_strength_4-N_test_50-fraction_to_match_0.05-wasserstein_p_2.0\n"
     ]
    },
    {
     "name": "stderr",
     "output_type": "stream",
     "text": [
      "100%|██████████| 1000/1000 [00:11<00:00, 89.27it/s]\n",
      "100%|██████████| 1000/1000 [02:56<00:00,  5.65it/s]\n"
     ]
    },
    {
     "name": "stdout",
     "output_type": "stream",
     "text": [
      "experiment.stl10rn18.run_2.corruption_strength_3-N_test_20-fraction_to_match_0.02-wasserstein_p_2.0\n"
     ]
    },
    {
     "name": "stderr",
     "output_type": "stream",
     "text": [
      "100%|██████████| 1000/1000 [00:09<00:00, 102.94it/s]\n",
      "100%|██████████| 1000/1000 [01:55<00:00,  8.65it/s]\n"
     ]
    },
    {
     "name": "stdout",
     "output_type": "stream",
     "text": [
      "experiment.stl10rn18.run_2.corruption_strength_3-N_test_100-fraction_to_match_0.1-wasserstein_p_2.0\n"
     ]
    },
    {
     "name": "stderr",
     "output_type": "stream",
     "text": [
      "100%|██████████| 1000/1000 [00:13<00:00, 74.51it/s]\n",
      "100%|██████████| 1000/1000 [04:25<00:00,  3.77it/s]\n"
     ]
    },
    {
     "name": "stdout",
     "output_type": "stream",
     "text": [
      "experiment.stl10rn18.run_2.corruption_strength_3-N_test_50-fraction_to_match_0.02-wasserstein_p_2.0\n"
     ]
    },
    {
     "name": "stderr",
     "output_type": "stream",
     "text": [
      "100%|██████████| 1000/1000 [00:11<00:00, 88.32it/s]\n",
      "100%|██████████| 1000/1000 [02:54<00:00,  5.74it/s]\n"
     ]
    },
    {
     "name": "stdout",
     "output_type": "stream",
     "text": [
      "experiment.stl10rn18.run_2.corruption_strength_3-N_test_50-fraction_to_match_0.1-wasserstein_p_2.0\n"
     ]
    },
    {
     "name": "stderr",
     "output_type": "stream",
     "text": [
      "100%|██████████| 1000/1000 [00:11<00:00, 87.52it/s]\n",
      "100%|██████████| 1000/1000 [03:00<00:00,  5.54it/s]\n"
     ]
    },
    {
     "name": "stdout",
     "output_type": "stream",
     "text": [
      "experiment.stl10rn18.run_2.corruption_strength_3-N_test_50-fraction_to_match_0.05-wasserstein_p_1.0\n"
     ]
    },
    {
     "name": "stderr",
     "output_type": "stream",
     "text": [
      "100%|██████████| 1000/1000 [00:10<00:00, 91.29it/s]\n",
      "100%|██████████| 1000/1000 [02:54<00:00,  5.74it/s]\n"
     ]
    },
    {
     "name": "stdout",
     "output_type": "stream",
     "text": [
      "experiment.stl10rn18.run_2.corruption_strength_3-N_test_50-fraction_to_match_0.05-wasserstein_p_4.0\n"
     ]
    },
    {
     "name": "stderr",
     "output_type": "stream",
     "text": [
      "100%|██████████| 1000/1000 [00:11<00:00, 90.84it/s]\n",
      "100%|██████████| 1000/1000 [02:58<00:00,  5.61it/s]\n",
      "GPU available: True, used: True\n",
      "TPU available: False, using: 0 TPU cores\n",
      "LOCAL_RANK: 0 - CUDA_VISIBLE_DEVICES: [0]\n",
      "\n",
      "  | Name       | Type       | Params\n",
      "------------------------------------------\n",
      "0 | backbone   | ResNet     | 11.2 M\n",
      "1 | classifier | Sequential | 16.7 K\n",
      "------------------------------------------\n",
      "16.7 K    Trainable params\n",
      "11.2 M    Non-trainable params\n",
      "11.2 M    Total params\n",
      "44.773    Total estimated model params size (MB)\n"
     ]
    },
    {
     "name": "stdout",
     "output_type": "stream",
     "text": [
      "Epoch 0:   0%|          | 0/313 [00:00<?, ?it/s] "
     ]
    },
    {
     "name": "stderr",
     "output_type": "stream",
     "text": [
      "/usr/local/lib/python3.9/dist-packages/pytorch_lightning/utilities/distributed.py:69: UserWarning: One of given dataloaders is None and it will be skipped.\n",
      "  warnings.warn(*args, **kwargs)\n",
      "/usr/local/lib/python3.9/dist-packages/pytorch_lightning/utilities/distributed.py:69: UserWarning: The dataloader, train dataloader, does not have many workers which may be a bottleneck. Consider increasing the value of the `num_workers` argument` (try 32 which is the number of cpus on this machine) in the `DataLoader` init to improve performance.\n",
      "  warnings.warn(*args, **kwargs)\n"
     ]
    },
    {
     "name": "stdout",
     "output_type": "stream",
     "text": [
      "Epoch 19: 100%|██████████| 313/313 [00:02<00:00, 134.70it/s, loss=0.502]\n"
     ]
    },
    {
     "name": "stderr",
     "output_type": "stream",
     "text": [
      "LOCAL_RANK: 0 - CUDA_VISIBLE_DEVICES: [0]\n"
     ]
    },
    {
     "name": "stdout",
     "output_type": "stream",
     "text": [
      "\r",
      "Testing: 0it [00:00, ?it/s]"
     ]
    },
    {
     "name": "stderr",
     "output_type": "stream",
     "text": [
      "/usr/local/lib/python3.9/dist-packages/pytorch_lightning/utilities/distributed.py:69: UserWarning: The dataloader, test dataloader 0, does not have many workers which may be a bottleneck. Consider increasing the value of the `num_workers` argument` (try 32 which is the number of cpus on this machine) in the `DataLoader` init to improve performance.\n",
      "  warnings.warn(*args, **kwargs)\n"
     ]
    },
    {
     "name": "stdout",
     "output_type": "stream",
     "text": [
      "Testing:  97%|█████████▋| 61/63 [00:03<00:00, 19.33it/s]--------------------------------------------------------------------------------\n",
      "DATALOADER:0 TEST RESULTS\n",
      "{'test_acc': 0.937749981880188, 'test_loss': 0.18760964274406433}\n",
      "--------------------------------------------------------------------------------\n",
      "Testing: 100%|██████████| 63/63 [00:03<00:00, 18.25it/s]"
     ]
    },
    {
     "name": "stderr",
     "output_type": "stream",
     "text": [
      "LOCAL_RANK: 0 - CUDA_VISIBLE_DEVICES: [0]\n"
     ]
    },
    {
     "name": "stdout",
     "output_type": "stream",
     "text": [
      "\n",
      "Testing: 100%|██████████| 63/63 [00:28<00:00,  2.57it/s]--------------------------------------------------------------------------------\n",
      "DATALOADER:0 TEST RESULTS\n",
      "{'test_acc': 0.8633750081062317, 'test_loss': 0.39969679713249207}\n",
      "--------------------------------------------------------------------------------\n",
      "Testing: 100%|██████████| 63/63 [00:29<00:00,  2.16it/s]"
     ]
    },
    {
     "name": "stderr",
     "output_type": "stream",
     "text": [
      "LOCAL_RANK: 0 - CUDA_VISIBLE_DEVICES: [0]\n"
     ]
    },
    {
     "name": "stdout",
     "output_type": "stream",
     "text": [
      "\n",
      "Testing: 100%|██████████| 63/63 [00:50<00:00,  1.48it/s]--------------------------------------------------------------------------------\n",
      "DATALOADER:0 TEST RESULTS\n",
      "{'test_acc': 0.7453749775886536, 'test_loss': 0.7173734903335571}\n",
      "--------------------------------------------------------------------------------\n",
      "Testing: 100%|██████████| 63/63 [00:50<00:00,  1.25it/s]"
     ]
    },
    {
     "name": "stderr",
     "output_type": "stream",
     "text": [
      "LOCAL_RANK: 0 - CUDA_VISIBLE_DEVICES: [0]\n"
     ]
    },
    {
     "name": "stdout",
     "output_type": "stream",
     "text": [
      "\n",
      "Testing: 100%|██████████| 63/63 [01:36<00:00,  1.28s/it]--------------------------------------------------------------------------------\n",
      "DATALOADER:0 TEST RESULTS\n",
      "{'test_acc': 0.5577499866485596, 'test_loss': 1.2015169858932495}\n",
      "--------------------------------------------------------------------------------\n",
      "Testing: 100%|██████████| 63/63 [01:36<00:00,  1.53s/it]\n",
      "accs [(0, 0.937749981880188), (2, 0.8633750081062317), (3, 0.7453749775886536), (4, 0.5577499866485596)]\n",
      "experiment.stl10rn18.run_3.corruption_strength_3-N_test_50-fraction_to_match_0.05-wasserstein_p_2.0\n"
     ]
    },
    {
     "name": "stderr",
     "output_type": "stream",
     "text": [
      "100%|██████████| 1000/1000 [00:11<00:00, 89.83it/s]\n",
      "100%|██████████| 1000/1000 [02:53<00:00,  5.76it/s]\n"
     ]
    },
    {
     "name": "stdout",
     "output_type": "stream",
     "text": [
      "experiment.stl10rn18.run_3.corruption_strength_2-N_test_50-fraction_to_match_0.05-wasserstein_p_2.0\n"
     ]
    },
    {
     "name": "stderr",
     "output_type": "stream",
     "text": [
      "100%|██████████| 1000/1000 [00:11<00:00, 90.40it/s]\n",
      "100%|██████████| 1000/1000 [02:54<00:00,  5.72it/s]\n"
     ]
    },
    {
     "name": "stdout",
     "output_type": "stream",
     "text": [
      "experiment.stl10rn18.run_3.corruption_strength_4-N_test_50-fraction_to_match_0.05-wasserstein_p_2.0\n"
     ]
    },
    {
     "name": "stderr",
     "output_type": "stream",
     "text": [
      "100%|██████████| 1000/1000 [00:11<00:00, 89.99it/s]\n",
      "100%|██████████| 1000/1000 [03:02<00:00,  5.49it/s]\n"
     ]
    },
    {
     "name": "stdout",
     "output_type": "stream",
     "text": [
      "experiment.stl10rn18.run_3.corruption_strength_3-N_test_20-fraction_to_match_0.02-wasserstein_p_2.0\n"
     ]
    },
    {
     "name": "stderr",
     "output_type": "stream",
     "text": [
      "100%|██████████| 1000/1000 [00:09<00:00, 101.62it/s]\n",
      "100%|██████████| 1000/1000 [02:01<00:00,  8.20it/s]\n"
     ]
    },
    {
     "name": "stdout",
     "output_type": "stream",
     "text": [
      "experiment.stl10rn18.run_3.corruption_strength_3-N_test_100-fraction_to_match_0.1-wasserstein_p_2.0\n"
     ]
    },
    {
     "name": "stderr",
     "output_type": "stream",
     "text": [
      "100%|██████████| 1000/1000 [00:13<00:00, 75.86it/s]\n",
      "100%|██████████| 1000/1000 [04:24<00:00,  3.78it/s]\n"
     ]
    },
    {
     "name": "stdout",
     "output_type": "stream",
     "text": [
      "experiment.stl10rn18.run_3.corruption_strength_3-N_test_50-fraction_to_match_0.02-wasserstein_p_2.0\n"
     ]
    },
    {
     "name": "stderr",
     "output_type": "stream",
     "text": [
      "100%|██████████| 1000/1000 [00:11<00:00, 88.98it/s]\n",
      "100%|██████████| 1000/1000 [02:51<00:00,  5.82it/s]\n"
     ]
    },
    {
     "name": "stdout",
     "output_type": "stream",
     "text": [
      "experiment.stl10rn18.run_3.corruption_strength_3-N_test_50-fraction_to_match_0.1-wasserstein_p_2.0\n"
     ]
    },
    {
     "name": "stderr",
     "output_type": "stream",
     "text": [
      "100%|██████████| 1000/1000 [00:11<00:00, 88.16it/s]\n",
      "100%|██████████| 1000/1000 [02:58<00:00,  5.59it/s]\n"
     ]
    },
    {
     "name": "stdout",
     "output_type": "stream",
     "text": [
      "experiment.stl10rn18.run_3.corruption_strength_3-N_test_50-fraction_to_match_0.05-wasserstein_p_1.0\n"
     ]
    },
    {
     "name": "stderr",
     "output_type": "stream",
     "text": [
      "100%|██████████| 1000/1000 [00:11<00:00, 90.15it/s]\n",
      "100%|██████████| 1000/1000 [02:56<00:00,  5.65it/s]\n"
     ]
    },
    {
     "name": "stdout",
     "output_type": "stream",
     "text": [
      "experiment.stl10rn18.run_3.corruption_strength_3-N_test_50-fraction_to_match_0.05-wasserstein_p_4.0\n"
     ]
    },
    {
     "name": "stderr",
     "output_type": "stream",
     "text": [
      "100%|██████████| 1000/1000 [00:11<00:00, 90.07it/s]\n",
      "100%|██████████| 1000/1000 [02:50<00:00,  5.85it/s]\n",
      "GPU available: True, used: True\n",
      "TPU available: False, using: 0 TPU cores\n",
      "LOCAL_RANK: 0 - CUDA_VISIBLE_DEVICES: [0]\n",
      "\n",
      "  | Name       | Type       | Params\n",
      "------------------------------------------\n",
      "0 | backbone   | ResNet     | 11.2 M\n",
      "1 | classifier | Sequential | 16.7 K\n",
      "------------------------------------------\n",
      "16.7 K    Trainable params\n",
      "11.2 M    Non-trainable params\n",
      "11.2 M    Total params\n",
      "44.773    Total estimated model params size (MB)\n"
     ]
    },
    {
     "name": "stdout",
     "output_type": "stream",
     "text": [
      "Epoch 0:   0%|          | 0/313 [00:00<?, ?it/s] "
     ]
    },
    {
     "name": "stderr",
     "output_type": "stream",
     "text": [
      "/usr/local/lib/python3.9/dist-packages/pytorch_lightning/utilities/distributed.py:69: UserWarning: One of given dataloaders is None and it will be skipped.\n",
      "  warnings.warn(*args, **kwargs)\n",
      "/usr/local/lib/python3.9/dist-packages/pytorch_lightning/utilities/distributed.py:69: UserWarning: The dataloader, train dataloader, does not have many workers which may be a bottleneck. Consider increasing the value of the `num_workers` argument` (try 32 which is the number of cpus on this machine) in the `DataLoader` init to improve performance.\n",
      "  warnings.warn(*args, **kwargs)\n"
     ]
    },
    {
     "name": "stdout",
     "output_type": "stream",
     "text": [
      "Epoch 19: 100%|██████████| 313/313 [00:02<00:00, 134.47it/s, loss=0.414]\n"
     ]
    },
    {
     "name": "stderr",
     "output_type": "stream",
     "text": [
      "LOCAL_RANK: 0 - CUDA_VISIBLE_DEVICES: [0]\n"
     ]
    },
    {
     "name": "stdout",
     "output_type": "stream",
     "text": [
      "\r",
      "Testing: 0it [00:00, ?it/s]"
     ]
    },
    {
     "name": "stderr",
     "output_type": "stream",
     "text": [
      "/usr/local/lib/python3.9/dist-packages/pytorch_lightning/utilities/distributed.py:69: UserWarning: The dataloader, test dataloader 0, does not have many workers which may be a bottleneck. Consider increasing the value of the `num_workers` argument` (try 32 which is the number of cpus on this machine) in the `DataLoader` init to improve performance.\n",
      "  warnings.warn(*args, **kwargs)\n"
     ]
    },
    {
     "name": "stdout",
     "output_type": "stream",
     "text": [
      "Testing:  97%|█████████▋| 61/63 [00:03<00:00, 19.49it/s]--------------------------------------------------------------------------------\n",
      "DATALOADER:0 TEST RESULTS\n",
      "{'test_acc': 0.9330000281333923, 'test_loss': 0.19882407784461975}\n",
      "--------------------------------------------------------------------------------\n",
      "Testing: 100%|██████████| 63/63 [00:03<00:00, 18.26it/s]"
     ]
    },
    {
     "name": "stderr",
     "output_type": "stream",
     "text": [
      "LOCAL_RANK: 0 - CUDA_VISIBLE_DEVICES: [0]\n"
     ]
    },
    {
     "name": "stdout",
     "output_type": "stream",
     "text": [
      "\n",
      "Testing: 100%|██████████| 63/63 [00:29<00:00,  2.56it/s]--------------------------------------------------------------------------------\n",
      "DATALOADER:0 TEST RESULTS\n",
      "{'test_acc': 0.8604999780654907, 'test_loss': 0.4063473045825958}\n",
      "--------------------------------------------------------------------------------\n",
      "Testing: 100%|██████████| 63/63 [00:29<00:00,  2.16it/s]"
     ]
    },
    {
     "name": "stderr",
     "output_type": "stream",
     "text": [
      "LOCAL_RANK: 0 - CUDA_VISIBLE_DEVICES: [0]\n"
     ]
    },
    {
     "name": "stdout",
     "output_type": "stream",
     "text": [
      "\n",
      "Testing: 100%|██████████| 63/63 [00:50<00:00,  1.47it/s]--------------------------------------------------------------------------------\n",
      "DATALOADER:0 TEST RESULTS\n",
      "{'test_acc': 0.7540000081062317, 'test_loss': 0.7058014869689941}\n",
      "--------------------------------------------------------------------------------\n",
      "Testing: 100%|██████████| 63/63 [00:50<00:00,  1.24it/s]"
     ]
    },
    {
     "name": "stderr",
     "output_type": "stream",
     "text": [
      "LOCAL_RANK: 0 - CUDA_VISIBLE_DEVICES: [0]\n"
     ]
    },
    {
     "name": "stdout",
     "output_type": "stream",
     "text": [
      "\n",
      "Testing: 100%|██████████| 63/63 [01:37<00:00,  1.18s/it]--------------------------------------------------------------------------------\n",
      "DATALOADER:0 TEST RESULTS\n",
      "{'test_acc': 0.5893750190734863, 'test_loss': 1.1371574401855469}\n",
      "--------------------------------------------------------------------------------\n",
      "Testing: 100%|██████████| 63/63 [01:37<00:00,  1.55s/it]\n",
      "accs [(0, 0.9330000281333923), (2, 0.8604999780654907), (3, 0.7540000081062317), (4, 0.5893750190734863)]\n",
      "experiment.stl10rn18.run_4.corruption_strength_3-N_test_50-fraction_to_match_0.05-wasserstein_p_2.0\n"
     ]
    },
    {
     "name": "stderr",
     "output_type": "stream",
     "text": [
      "100%|██████████| 1000/1000 [00:11<00:00, 89.90it/s]\n",
      "100%|██████████| 1000/1000 [02:57<00:00,  5.64it/s]\n"
     ]
    },
    {
     "name": "stdout",
     "output_type": "stream",
     "text": [
      "experiment.stl10rn18.run_4.corruption_strength_2-N_test_50-fraction_to_match_0.05-wasserstein_p_2.0\n"
     ]
    },
    {
     "name": "stderr",
     "output_type": "stream",
     "text": [
      "100%|██████████| 1000/1000 [00:11<00:00, 88.90it/s]\n",
      "100%|██████████| 1000/1000 [02:54<00:00,  5.73it/s]\n"
     ]
    },
    {
     "name": "stdout",
     "output_type": "stream",
     "text": [
      "experiment.stl10rn18.run_4.corruption_strength_4-N_test_50-fraction_to_match_0.05-wasserstein_p_2.0\n"
     ]
    },
    {
     "name": "stderr",
     "output_type": "stream",
     "text": [
      "100%|██████████| 1000/1000 [00:11<00:00, 89.37it/s]\n",
      "100%|██████████| 1000/1000 [02:58<00:00,  5.61it/s]\n"
     ]
    },
    {
     "name": "stdout",
     "output_type": "stream",
     "text": [
      "experiment.stl10rn18.run_4.corruption_strength_3-N_test_20-fraction_to_match_0.02-wasserstein_p_2.0\n"
     ]
    },
    {
     "name": "stderr",
     "output_type": "stream",
     "text": [
      "100%|██████████| 1000/1000 [00:09<00:00, 102.25it/s]\n",
      "100%|██████████| 1000/1000 [02:00<00:00,  8.31it/s]\n"
     ]
    },
    {
     "name": "stdout",
     "output_type": "stream",
     "text": [
      "experiment.stl10rn18.run_4.corruption_strength_3-N_test_100-fraction_to_match_0.1-wasserstein_p_2.0\n"
     ]
    },
    {
     "name": "stderr",
     "output_type": "stream",
     "text": [
      "100%|██████████| 1000/1000 [00:13<00:00, 74.55it/s]\n",
      "100%|██████████| 1000/1000 [04:25<00:00,  3.76it/s]\n"
     ]
    },
    {
     "name": "stdout",
     "output_type": "stream",
     "text": [
      "experiment.stl10rn18.run_4.corruption_strength_3-N_test_50-fraction_to_match_0.02-wasserstein_p_2.0\n"
     ]
    },
    {
     "name": "stderr",
     "output_type": "stream",
     "text": [
      "100%|██████████| 1000/1000 [00:11<00:00, 90.38it/s]\n",
      "100%|██████████| 1000/1000 [02:58<00:00,  5.62it/s]\n"
     ]
    },
    {
     "name": "stdout",
     "output_type": "stream",
     "text": [
      "experiment.stl10rn18.run_4.corruption_strength_3-N_test_50-fraction_to_match_0.1-wasserstein_p_2.0\n"
     ]
    },
    {
     "name": "stderr",
     "output_type": "stream",
     "text": [
      "100%|██████████| 1000/1000 [00:11<00:00, 88.03it/s]\n",
      "100%|██████████| 1000/1000 [02:59<00:00,  5.56it/s]\n"
     ]
    },
    {
     "name": "stdout",
     "output_type": "stream",
     "text": [
      "experiment.stl10rn18.run_4.corruption_strength_3-N_test_50-fraction_to_match_0.05-wasserstein_p_1.0\n"
     ]
    },
    {
     "name": "stderr",
     "output_type": "stream",
     "text": [
      "100%|██████████| 1000/1000 [00:11<00:00, 88.45it/s]\n",
      "100%|██████████| 1000/1000 [02:57<00:00,  5.63it/s]\n"
     ]
    },
    {
     "name": "stdout",
     "output_type": "stream",
     "text": [
      "experiment.stl10rn18.run_4.corruption_strength_3-N_test_50-fraction_to_match_0.05-wasserstein_p_4.0\n"
     ]
    },
    {
     "name": "stderr",
     "output_type": "stream",
     "text": [
      "100%|██████████| 1000/1000 [00:11<00:00, 90.04it/s]\n",
      "100%|██████████| 1000/1000 [02:55<00:00,  5.71it/s]\n",
      "GPU available: True, used: True\n",
      "TPU available: False, using: 0 TPU cores\n",
      "LOCAL_RANK: 0 - CUDA_VISIBLE_DEVICES: [0]\n",
      "\n",
      "  | Name       | Type       | Params\n",
      "------------------------------------------\n",
      "0 | backbone   | ResNet     | 11.2 M\n",
      "1 | classifier | Sequential | 16.7 K\n",
      "------------------------------------------\n",
      "16.7 K    Trainable params\n",
      "11.2 M    Non-trainable params\n",
      "11.2 M    Total params\n",
      "44.773    Total estimated model params size (MB)\n"
     ]
    },
    {
     "name": "stdout",
     "output_type": "stream",
     "text": [
      "Epoch 0:   0%|          | 0/313 [00:00<?, ?it/s] "
     ]
    },
    {
     "name": "stderr",
     "output_type": "stream",
     "text": [
      "/usr/local/lib/python3.9/dist-packages/pytorch_lightning/utilities/distributed.py:69: UserWarning: One of given dataloaders is None and it will be skipped.\n",
      "  warnings.warn(*args, **kwargs)\n",
      "/usr/local/lib/python3.9/dist-packages/pytorch_lightning/utilities/distributed.py:69: UserWarning: The dataloader, train dataloader, does not have many workers which may be a bottleneck. Consider increasing the value of the `num_workers` argument` (try 32 which is the number of cpus on this machine) in the `DataLoader` init to improve performance.\n",
      "  warnings.warn(*args, **kwargs)\n"
     ]
    },
    {
     "name": "stdout",
     "output_type": "stream",
     "text": [
      "Epoch 19: 100%|██████████| 313/313 [00:02<00:00, 133.25it/s, loss=0.389]\n"
     ]
    },
    {
     "name": "stderr",
     "output_type": "stream",
     "text": [
      "LOCAL_RANK: 0 - CUDA_VISIBLE_DEVICES: [0]\n"
     ]
    },
    {
     "name": "stdout",
     "output_type": "stream",
     "text": [
      "\r",
      "Testing: 0it [00:00, ?it/s]"
     ]
    },
    {
     "name": "stderr",
     "output_type": "stream",
     "text": [
      "/usr/local/lib/python3.9/dist-packages/pytorch_lightning/utilities/distributed.py:69: UserWarning: The dataloader, test dataloader 0, does not have many workers which may be a bottleneck. Consider increasing the value of the `num_workers` argument` (try 32 which is the number of cpus on this machine) in the `DataLoader` init to improve performance.\n",
      "  warnings.warn(*args, **kwargs)\n"
     ]
    },
    {
     "name": "stdout",
     "output_type": "stream",
     "text": [
      "Testing:  97%|█████████▋| 61/63 [00:03<00:00, 19.36it/s]--------------------------------------------------------------------------------\n",
      "DATALOADER:0 TEST RESULTS\n",
      "{'test_acc': 0.9311249852180481, 'test_loss': 0.2106703370809555}\n",
      "--------------------------------------------------------------------------------\n",
      "Testing: 100%|██████████| 63/63 [00:03<00:00, 18.11it/s]"
     ]
    },
    {
     "name": "stderr",
     "output_type": "stream",
     "text": [
      "LOCAL_RANK: 0 - CUDA_VISIBLE_DEVICES: [0]\n"
     ]
    },
    {
     "name": "stdout",
     "output_type": "stream",
     "text": [
      "\n",
      "Testing: 100%|██████████| 63/63 [00:28<00:00,  2.58it/s]--------------------------------------------------------------------------------\n",
      "DATALOADER:0 TEST RESULTS\n",
      "{'test_acc': 0.8569999933242798, 'test_loss': 0.4176304340362549}\n",
      "--------------------------------------------------------------------------------\n",
      "Testing: 100%|██████████| 63/63 [00:29<00:00,  2.17it/s]"
     ]
    },
    {
     "name": "stderr",
     "output_type": "stream",
     "text": [
      "LOCAL_RANK: 0 - CUDA_VISIBLE_DEVICES: [0]\n"
     ]
    },
    {
     "name": "stdout",
     "output_type": "stream",
     "text": [
      "\n",
      "Testing:  98%|█████████▊| 62/63 [00:51<00:00,  1.19it/s]--------------------------------------------------------------------------------\n",
      "DATALOADER:0 TEST RESULTS\n",
      "{'test_acc': 0.7473750114440918, 'test_loss': 0.7332946062088013}\n",
      "--------------------------------------------------------------------------------\n",
      "Testing: 100%|██████████| 63/63 [00:51<00:00,  1.22it/s]"
     ]
    },
    {
     "name": "stderr",
     "output_type": "stream",
     "text": [
      "LOCAL_RANK: 0 - CUDA_VISIBLE_DEVICES: [0]\n"
     ]
    },
    {
     "name": "stdout",
     "output_type": "stream",
     "text": [
      "\n",
      "Testing: 100%|██████████| 63/63 [01:36<00:00,  1.27s/it]--------------------------------------------------------------------------------\n",
      "DATALOADER:0 TEST RESULTS\n",
      "{'test_acc': 0.5707499980926514, 'test_loss': 1.1765602827072144}\n",
      "--------------------------------------------------------------------------------\n",
      "Testing: 100%|██████████| 63/63 [01:36<00:00,  1.53s/it]\n",
      "accs [(0, 0.9311249852180481), (2, 0.8569999933242798), (3, 0.7473750114440918), (4, 0.5707499980926514)]\n",
      "experiment.stl10rn18.run_5.corruption_strength_3-N_test_50-fraction_to_match_0.05-wasserstein_p_2.0\n"
     ]
    },
    {
     "name": "stderr",
     "output_type": "stream",
     "text": [
      "100%|██████████| 1000/1000 [00:11<00:00, 88.69it/s]\n",
      "100%|██████████| 1000/1000 [02:56<00:00,  5.65it/s]\n"
     ]
    },
    {
     "name": "stdout",
     "output_type": "stream",
     "text": [
      "experiment.stl10rn18.run_5.corruption_strength_2-N_test_50-fraction_to_match_0.05-wasserstein_p_2.0\n"
     ]
    },
    {
     "name": "stderr",
     "output_type": "stream",
     "text": [
      "100%|██████████| 1000/1000 [00:11<00:00, 89.20it/s]\n",
      "100%|██████████| 1000/1000 [02:54<00:00,  5.73it/s]\n"
     ]
    },
    {
     "name": "stdout",
     "output_type": "stream",
     "text": [
      "experiment.stl10rn18.run_5.corruption_strength_4-N_test_50-fraction_to_match_0.05-wasserstein_p_2.0\n"
     ]
    },
    {
     "name": "stderr",
     "output_type": "stream",
     "text": [
      "100%|██████████| 1000/1000 [00:11<00:00, 90.05it/s]\n",
      "100%|██████████| 1000/1000 [03:02<00:00,  5.48it/s]\n"
     ]
    },
    {
     "name": "stdout",
     "output_type": "stream",
     "text": [
      "experiment.stl10rn18.run_5.corruption_strength_3-N_test_20-fraction_to_match_0.02-wasserstein_p_2.0\n"
     ]
    },
    {
     "name": "stderr",
     "output_type": "stream",
     "text": [
      "100%|██████████| 1000/1000 [00:09<00:00, 101.79it/s]\n",
      "100%|██████████| 1000/1000 [02:00<00:00,  8.32it/s]\n"
     ]
    },
    {
     "name": "stdout",
     "output_type": "stream",
     "text": [
      "experiment.stl10rn18.run_5.corruption_strength_3-N_test_100-fraction_to_match_0.1-wasserstein_p_2.0\n"
     ]
    },
    {
     "name": "stderr",
     "output_type": "stream",
     "text": [
      "100%|██████████| 1000/1000 [00:13<00:00, 74.80it/s]\n",
      "100%|██████████| 1000/1000 [04:26<00:00,  3.75it/s]\n"
     ]
    },
    {
     "name": "stdout",
     "output_type": "stream",
     "text": [
      "experiment.stl10rn18.run_5.corruption_strength_3-N_test_50-fraction_to_match_0.02-wasserstein_p_2.0\n"
     ]
    },
    {
     "name": "stderr",
     "output_type": "stream",
     "text": [
      "100%|██████████| 1000/1000 [00:11<00:00, 90.77it/s]\n",
      "100%|██████████| 1000/1000 [02:58<00:00,  5.60it/s]\n"
     ]
    },
    {
     "name": "stdout",
     "output_type": "stream",
     "text": [
      "experiment.stl10rn18.run_5.corruption_strength_3-N_test_50-fraction_to_match_0.1-wasserstein_p_2.0\n"
     ]
    },
    {
     "name": "stderr",
     "output_type": "stream",
     "text": [
      "100%|██████████| 1000/1000 [00:11<00:00, 88.52it/s]\n",
      "100%|██████████| 1000/1000 [02:57<00:00,  5.64it/s]\n"
     ]
    },
    {
     "name": "stdout",
     "output_type": "stream",
     "text": [
      "experiment.stl10rn18.run_5.corruption_strength_3-N_test_50-fraction_to_match_0.05-wasserstein_p_1.0\n"
     ]
    },
    {
     "name": "stderr",
     "output_type": "stream",
     "text": [
      "100%|██████████| 1000/1000 [00:11<00:00, 90.82it/s]\n",
      "100%|██████████| 1000/1000 [02:56<00:00,  5.66it/s]\n"
     ]
    },
    {
     "name": "stdout",
     "output_type": "stream",
     "text": [
      "experiment.stl10rn18.run_5.corruption_strength_3-N_test_50-fraction_to_match_0.05-wasserstein_p_4.0\n"
     ]
    },
    {
     "name": "stderr",
     "output_type": "stream",
     "text": [
      "100%|██████████| 1000/1000 [00:11<00:00, 89.77it/s]\n",
      "100%|██████████| 1000/1000 [02:58<00:00,  5.60it/s]\n",
      "GPU available: True, used: True\n",
      "TPU available: False, using: 0 TPU cores\n",
      "LOCAL_RANK: 0 - CUDA_VISIBLE_DEVICES: [0]\n",
      "\n",
      "  | Name       | Type       | Params\n",
      "------------------------------------------\n",
      "0 | backbone   | ResNet     | 11.2 M\n",
      "1 | classifier | Sequential | 16.7 K\n",
      "------------------------------------------\n",
      "16.7 K    Trainable params\n",
      "11.2 M    Non-trainable params\n",
      "11.2 M    Total params\n",
      "44.773    Total estimated model params size (MB)\n"
     ]
    },
    {
     "name": "stdout",
     "output_type": "stream",
     "text": [
      "Epoch 0:   0%|          | 0/313 [00:00<?, ?it/s] "
     ]
    },
    {
     "name": "stderr",
     "output_type": "stream",
     "text": [
      "/usr/local/lib/python3.9/dist-packages/pytorch_lightning/utilities/distributed.py:69: UserWarning: One of given dataloaders is None and it will be skipped.\n",
      "  warnings.warn(*args, **kwargs)\n",
      "/usr/local/lib/python3.9/dist-packages/pytorch_lightning/utilities/distributed.py:69: UserWarning: The dataloader, train dataloader, does not have many workers which may be a bottleneck. Consider increasing the value of the `num_workers` argument` (try 32 which is the number of cpus on this machine) in the `DataLoader` init to improve performance.\n",
      "  warnings.warn(*args, **kwargs)\n"
     ]
    },
    {
     "name": "stdout",
     "output_type": "stream",
     "text": [
      "Epoch 19: 100%|██████████| 313/313 [00:02<00:00, 132.85it/s, loss=0.496]\n"
     ]
    },
    {
     "name": "stderr",
     "output_type": "stream",
     "text": [
      "LOCAL_RANK: 0 - CUDA_VISIBLE_DEVICES: [0]\n"
     ]
    },
    {
     "name": "stdout",
     "output_type": "stream",
     "text": [
      "\r",
      "Testing: 0it [00:00, ?it/s]"
     ]
    },
    {
     "name": "stderr",
     "output_type": "stream",
     "text": [
      "/usr/local/lib/python3.9/dist-packages/pytorch_lightning/utilities/distributed.py:69: UserWarning: The dataloader, test dataloader 0, does not have many workers which may be a bottleneck. Consider increasing the value of the `num_workers` argument` (try 32 which is the number of cpus on this machine) in the `DataLoader` init to improve performance.\n",
      "  warnings.warn(*args, **kwargs)\n"
     ]
    },
    {
     "name": "stdout",
     "output_type": "stream",
     "text": [
      "Testing:  97%|█████████▋| 61/63 [00:03<00:00, 17.51it/s]--------------------------------------------------------------------------------\n",
      "DATALOADER:0 TEST RESULTS\n",
      "{'test_acc': 0.9346250295639038, 'test_loss': 0.19649094343185425}\n",
      "--------------------------------------------------------------------------------\n",
      "Testing: 100%|██████████| 63/63 [00:03<00:00, 16.52it/s]"
     ]
    },
    {
     "name": "stderr",
     "output_type": "stream",
     "text": [
      "LOCAL_RANK: 0 - CUDA_VISIBLE_DEVICES: [0]\n"
     ]
    },
    {
     "name": "stdout",
     "output_type": "stream",
     "text": [
      "\n",
      "Testing: 100%|██████████| 63/63 [00:29<00:00,  2.86it/s]--------------------------------------------------------------------------------\n",
      "DATALOADER:0 TEST RESULTS\n",
      "{'test_acc': 0.859375, 'test_loss': 0.42343541979789734}\n",
      "--------------------------------------------------------------------------------\n",
      "Testing: 100%|██████████| 63/63 [00:29<00:00,  2.15it/s]"
     ]
    },
    {
     "name": "stderr",
     "output_type": "stream",
     "text": [
      "LOCAL_RANK: 0 - CUDA_VISIBLE_DEVICES: [0]\n"
     ]
    },
    {
     "name": "stdout",
     "output_type": "stream",
     "text": [
      "\n",
      "Testing: 100%|██████████| 63/63 [00:50<00:00,  1.49it/s]--------------------------------------------------------------------------------\n",
      "DATALOADER:0 TEST RESULTS\n",
      "{'test_acc': 0.7494999766349792, 'test_loss': 0.7298446297645569}\n",
      "--------------------------------------------------------------------------------\n",
      "Testing: 100%|██████████| 63/63 [00:50<00:00,  1.26it/s]"
     ]
    },
    {
     "name": "stderr",
     "output_type": "stream",
     "text": [
      "LOCAL_RANK: 0 - CUDA_VISIBLE_DEVICES: [0]\n"
     ]
    },
    {
     "name": "stdout",
     "output_type": "stream",
     "text": [
      "\n",
      "Testing: 100%|██████████| 63/63 [01:38<00:00,  1.29s/it]--------------------------------------------------------------------------------\n",
      "DATALOADER:0 TEST RESULTS\n",
      "{'test_acc': 0.5958750247955322, 'test_loss': 1.1331992149353027}\n",
      "--------------------------------------------------------------------------------\n",
      "Testing: 100%|██████████| 63/63 [01:38<00:00,  1.57s/it]\n",
      "accs [(0, 0.9346250295639038), (2, 0.859375), (3, 0.7494999766349792), (4, 0.5958750247955322)]\n",
      "experiment.stl10rn18.run_6.corruption_strength_3-N_test_50-fraction_to_match_0.05-wasserstein_p_2.0\n"
     ]
    },
    {
     "name": "stderr",
     "output_type": "stream",
     "text": [
      "100%|██████████| 1000/1000 [00:11<00:00, 89.63it/s]\n",
      "100%|██████████| 1000/1000 [02:58<00:00,  5.60it/s]\n"
     ]
    },
    {
     "name": "stdout",
     "output_type": "stream",
     "text": [
      "experiment.stl10rn18.run_6.corruption_strength_2-N_test_50-fraction_to_match_0.05-wasserstein_p_2.0\n"
     ]
    },
    {
     "name": "stderr",
     "output_type": "stream",
     "text": [
      "100%|██████████| 1000/1000 [00:11<00:00, 90.50it/s]\n",
      "100%|██████████| 1000/1000 [02:53<00:00,  5.77it/s]\n"
     ]
    },
    {
     "name": "stdout",
     "output_type": "stream",
     "text": [
      "experiment.stl10rn18.run_6.corruption_strength_4-N_test_50-fraction_to_match_0.05-wasserstein_p_2.0\n"
     ]
    },
    {
     "name": "stderr",
     "output_type": "stream",
     "text": [
      "100%|██████████| 1000/1000 [00:11<00:00, 90.31it/s]\n",
      "100%|██████████| 1000/1000 [03:05<00:00,  5.40it/s]\n"
     ]
    },
    {
     "name": "stdout",
     "output_type": "stream",
     "text": [
      "experiment.stl10rn18.run_6.corruption_strength_3-N_test_20-fraction_to_match_0.02-wasserstein_p_2.0\n"
     ]
    },
    {
     "name": "stderr",
     "output_type": "stream",
     "text": [
      "100%|██████████| 1000/1000 [00:09<00:00, 101.53it/s]\n",
      "100%|██████████| 1000/1000 [02:03<00:00,  8.08it/s]\n"
     ]
    },
    {
     "name": "stdout",
     "output_type": "stream",
     "text": [
      "experiment.stl10rn18.run_6.corruption_strength_3-N_test_100-fraction_to_match_0.1-wasserstein_p_2.0\n"
     ]
    },
    {
     "name": "stderr",
     "output_type": "stream",
     "text": [
      "100%|██████████| 1000/1000 [00:13<00:00, 74.67it/s]\n",
      "100%|██████████| 1000/1000 [04:25<00:00,  3.77it/s]\n"
     ]
    },
    {
     "name": "stdout",
     "output_type": "stream",
     "text": [
      "experiment.stl10rn18.run_6.corruption_strength_3-N_test_50-fraction_to_match_0.02-wasserstein_p_2.0\n"
     ]
    },
    {
     "name": "stderr",
     "output_type": "stream",
     "text": [
      "100%|██████████| 1000/1000 [00:11<00:00, 88.79it/s]\n",
      "100%|██████████| 1000/1000 [02:59<00:00,  5.58it/s]\n"
     ]
    },
    {
     "name": "stdout",
     "output_type": "stream",
     "text": [
      "experiment.stl10rn18.run_6.corruption_strength_3-N_test_50-fraction_to_match_0.1-wasserstein_p_2.0\n"
     ]
    },
    {
     "name": "stderr",
     "output_type": "stream",
     "text": [
      "100%|██████████| 1000/1000 [00:11<00:00, 86.47it/s]\n",
      "100%|██████████| 1000/1000 [02:56<00:00,  5.65it/s]\n"
     ]
    },
    {
     "name": "stdout",
     "output_type": "stream",
     "text": [
      "experiment.stl10rn18.run_6.corruption_strength_3-N_test_50-fraction_to_match_0.05-wasserstein_p_1.0\n"
     ]
    },
    {
     "name": "stderr",
     "output_type": "stream",
     "text": [
      "100%|██████████| 1000/1000 [00:10<00:00, 91.03it/s]\n",
      "100%|██████████| 1000/1000 [02:57<00:00,  5.64it/s]\n"
     ]
    },
    {
     "name": "stdout",
     "output_type": "stream",
     "text": [
      "experiment.stl10rn18.run_6.corruption_strength_3-N_test_50-fraction_to_match_0.05-wasserstein_p_4.0\n"
     ]
    },
    {
     "name": "stderr",
     "output_type": "stream",
     "text": [
      "100%|██████████| 1000/1000 [00:11<00:00, 88.28it/s]\n",
      "100%|██████████| 1000/1000 [02:58<00:00,  5.60it/s]\n",
      "GPU available: True, used: True\n",
      "TPU available: False, using: 0 TPU cores\n",
      "LOCAL_RANK: 0 - CUDA_VISIBLE_DEVICES: [0]\n",
      "\n",
      "  | Name       | Type       | Params\n",
      "------------------------------------------\n",
      "0 | backbone   | ResNet     | 11.2 M\n",
      "1 | classifier | Sequential | 16.7 K\n",
      "------------------------------------------\n",
      "16.7 K    Trainable params\n",
      "11.2 M    Non-trainable params\n",
      "11.2 M    Total params\n",
      "44.773    Total estimated model params size (MB)\n"
     ]
    },
    {
     "name": "stdout",
     "output_type": "stream",
     "text": [
      "Epoch 0:   0%|          | 0/313 [00:00<?, ?it/s] "
     ]
    },
    {
     "name": "stderr",
     "output_type": "stream",
     "text": [
      "/usr/local/lib/python3.9/dist-packages/pytorch_lightning/utilities/distributed.py:69: UserWarning: One of given dataloaders is None and it will be skipped.\n",
      "  warnings.warn(*args, **kwargs)\n",
      "/usr/local/lib/python3.9/dist-packages/pytorch_lightning/utilities/distributed.py:69: UserWarning: The dataloader, train dataloader, does not have many workers which may be a bottleneck. Consider increasing the value of the `num_workers` argument` (try 32 which is the number of cpus on this machine) in the `DataLoader` init to improve performance.\n",
      "  warnings.warn(*args, **kwargs)\n"
     ]
    },
    {
     "name": "stdout",
     "output_type": "stream",
     "text": [
      "Epoch 19: 100%|██████████| 313/313 [00:02<00:00, 134.78it/s, loss=0.567]\n"
     ]
    },
    {
     "name": "stderr",
     "output_type": "stream",
     "text": [
      "LOCAL_RANK: 0 - CUDA_VISIBLE_DEVICES: [0]\n"
     ]
    },
    {
     "name": "stdout",
     "output_type": "stream",
     "text": [
      "\r",
      "Testing: 0it [00:00, ?it/s]"
     ]
    },
    {
     "name": "stderr",
     "output_type": "stream",
     "text": [
      "/usr/local/lib/python3.9/dist-packages/pytorch_lightning/utilities/distributed.py:69: UserWarning: The dataloader, test dataloader 0, does not have many workers which may be a bottleneck. Consider increasing the value of the `num_workers` argument` (try 32 which is the number of cpus on this machine) in the `DataLoader` init to improve performance.\n",
      "  warnings.warn(*args, **kwargs)\n"
     ]
    },
    {
     "name": "stdout",
     "output_type": "stream",
     "text": [
      "Testing:  97%|█████████▋| 61/63 [00:03<00:00, 19.62it/s]--------------------------------------------------------------------------------\n",
      "DATALOADER:0 TEST RESULTS\n",
      "{'test_acc': 0.9403749704360962, 'test_loss': 0.18026092648506165}\n",
      "--------------------------------------------------------------------------------\n",
      "Testing: 100%|██████████| 63/63 [00:03<00:00, 17.95it/s]\n"
     ]
    },
    {
     "name": "stderr",
     "output_type": "stream",
     "text": [
      "LOCAL_RANK: 0 - CUDA_VISIBLE_DEVICES: [0]\n"
     ]
    },
    {
     "name": "stdout",
     "output_type": "stream",
     "text": [
      "Testing: 100%|██████████| 63/63 [00:29<00:00,  2.55it/s]--------------------------------------------------------------------------------\n",
      "DATALOADER:0 TEST RESULTS\n",
      "{'test_acc': 0.8544999957084656, 'test_loss': 0.42424947023391724}\n",
      "--------------------------------------------------------------------------------\n",
      "Testing: 100%|██████████| 63/63 [00:29<00:00,  2.15it/s]"
     ]
    },
    {
     "name": "stderr",
     "output_type": "stream",
     "text": [
      "LOCAL_RANK: 0 - CUDA_VISIBLE_DEVICES: [0]\n"
     ]
    },
    {
     "name": "stdout",
     "output_type": "stream",
     "text": [
      "\n",
      "Testing: 100%|██████████| 63/63 [00:50<00:00,  1.47it/s]--------------------------------------------------------------------------------\n",
      "DATALOADER:0 TEST RESULTS\n",
      "{'test_acc': 0.7336249947547913, 'test_loss': 0.7436879873275757}\n",
      "--------------------------------------------------------------------------------\n",
      "Testing: 100%|██████████| 63/63 [00:50<00:00,  1.24it/s]"
     ]
    },
    {
     "name": "stderr",
     "output_type": "stream",
     "text": [
      "LOCAL_RANK: 0 - CUDA_VISIBLE_DEVICES: [0]\n"
     ]
    },
    {
     "name": "stdout",
     "output_type": "stream",
     "text": [
      "\n",
      "Testing: 100%|██████████| 63/63 [01:37<00:00,  1.26s/it]--------------------------------------------------------------------------------\n",
      "DATALOADER:0 TEST RESULTS\n",
      "{'test_acc': 0.5699999928474426, 'test_loss': 1.1676985025405884}\n",
      "--------------------------------------------------------------------------------\n",
      "Testing: 100%|██████████| 63/63 [01:38<00:00,  1.56s/it]\n",
      "accs [(0, 0.9403749704360962), (2, 0.8544999957084656), (3, 0.7336249947547913), (4, 0.5699999928474426)]\n",
      "experiment.stl10rn18.run_7.corruption_strength_3-N_test_50-fraction_to_match_0.05-wasserstein_p_2.0\n"
     ]
    },
    {
     "name": "stderr",
     "output_type": "stream",
     "text": [
      "100%|██████████| 1000/1000 [00:11<00:00, 90.07it/s]\n",
      "100%|██████████| 1000/1000 [02:57<00:00,  5.64it/s]\n"
     ]
    },
    {
     "name": "stdout",
     "output_type": "stream",
     "text": [
      "experiment.stl10rn18.run_7.corruption_strength_2-N_test_50-fraction_to_match_0.05-wasserstein_p_2.0\n"
     ]
    },
    {
     "name": "stderr",
     "output_type": "stream",
     "text": [
      "100%|██████████| 1000/1000 [00:11<00:00, 88.39it/s]\n",
      "100%|██████████| 1000/1000 [02:56<00:00,  5.68it/s]\n"
     ]
    },
    {
     "name": "stdout",
     "output_type": "stream",
     "text": [
      "experiment.stl10rn18.run_7.corruption_strength_4-N_test_50-fraction_to_match_0.05-wasserstein_p_2.0\n"
     ]
    },
    {
     "name": "stderr",
     "output_type": "stream",
     "text": [
      "100%|██████████| 1000/1000 [00:11<00:00, 89.10it/s]\n",
      "100%|██████████| 1000/1000 [03:01<00:00,  5.51it/s]\n"
     ]
    },
    {
     "name": "stdout",
     "output_type": "stream",
     "text": [
      "experiment.stl10rn18.run_7.corruption_strength_3-N_test_20-fraction_to_match_0.02-wasserstein_p_2.0\n"
     ]
    },
    {
     "name": "stderr",
     "output_type": "stream",
     "text": [
      "100%|██████████| 1000/1000 [00:09<00:00, 102.85it/s]\n",
      "100%|██████████| 1000/1000 [02:04<00:00,  8.02it/s]\n"
     ]
    },
    {
     "name": "stdout",
     "output_type": "stream",
     "text": [
      "experiment.stl10rn18.run_7.corruption_strength_3-N_test_100-fraction_to_match_0.1-wasserstein_p_2.0\n"
     ]
    },
    {
     "name": "stderr",
     "output_type": "stream",
     "text": [
      "100%|██████████| 1000/1000 [00:13<00:00, 75.85it/s]\n",
      "100%|██████████| 1000/1000 [04:25<00:00,  3.76it/s]\n"
     ]
    },
    {
     "name": "stdout",
     "output_type": "stream",
     "text": [
      "experiment.stl10rn18.run_7.corruption_strength_3-N_test_50-fraction_to_match_0.02-wasserstein_p_2.0\n"
     ]
    },
    {
     "name": "stderr",
     "output_type": "stream",
     "text": [
      "100%|██████████| 1000/1000 [00:11<00:00, 88.73it/s]\n",
      "100%|██████████| 1000/1000 [02:57<00:00,  5.62it/s]\n"
     ]
    },
    {
     "name": "stdout",
     "output_type": "stream",
     "text": [
      "experiment.stl10rn18.run_7.corruption_strength_3-N_test_50-fraction_to_match_0.1-wasserstein_p_2.0\n"
     ]
    },
    {
     "name": "stderr",
     "output_type": "stream",
     "text": [
      "100%|██████████| 1000/1000 [00:11<00:00, 87.99it/s]\n",
      "100%|██████████| 1000/1000 [03:00<00:00,  5.53it/s]\n"
     ]
    },
    {
     "name": "stdout",
     "output_type": "stream",
     "text": [
      "experiment.stl10rn18.run_7.corruption_strength_3-N_test_50-fraction_to_match_0.05-wasserstein_p_1.0\n"
     ]
    },
    {
     "name": "stderr",
     "output_type": "stream",
     "text": [
      "100%|██████████| 1000/1000 [00:11<00:00, 89.58it/s]\n",
      "100%|██████████| 1000/1000 [02:55<00:00,  5.69it/s]\n"
     ]
    },
    {
     "name": "stdout",
     "output_type": "stream",
     "text": [
      "experiment.stl10rn18.run_7.corruption_strength_3-N_test_50-fraction_to_match_0.05-wasserstein_p_4.0\n"
     ]
    },
    {
     "name": "stderr",
     "output_type": "stream",
     "text": [
      "100%|██████████| 1000/1000 [00:11<00:00, 89.95it/s]\n",
      "100%|██████████| 1000/1000 [02:57<00:00,  5.64it/s]\n",
      "GPU available: True, used: True\n",
      "TPU available: False, using: 0 TPU cores\n",
      "LOCAL_RANK: 0 - CUDA_VISIBLE_DEVICES: [0]\n",
      "\n",
      "  | Name       | Type       | Params\n",
      "------------------------------------------\n",
      "0 | backbone   | ResNet     | 11.2 M\n",
      "1 | classifier | Sequential | 16.7 K\n",
      "------------------------------------------\n",
      "16.7 K    Trainable params\n",
      "11.2 M    Non-trainable params\n",
      "11.2 M    Total params\n",
      "44.773    Total estimated model params size (MB)\n"
     ]
    },
    {
     "name": "stdout",
     "output_type": "stream",
     "text": [
      "Epoch 0:   0%|          | 0/313 [00:00<?, ?it/s] "
     ]
    },
    {
     "name": "stderr",
     "output_type": "stream",
     "text": [
      "/usr/local/lib/python3.9/dist-packages/pytorch_lightning/utilities/distributed.py:69: UserWarning: One of given dataloaders is None and it will be skipped.\n",
      "  warnings.warn(*args, **kwargs)\n",
      "/usr/local/lib/python3.9/dist-packages/pytorch_lightning/utilities/distributed.py:69: UserWarning: The dataloader, train dataloader, does not have many workers which may be a bottleneck. Consider increasing the value of the `num_workers` argument` (try 32 which is the number of cpus on this machine) in the `DataLoader` init to improve performance.\n",
      "  warnings.warn(*args, **kwargs)\n"
     ]
    },
    {
     "name": "stdout",
     "output_type": "stream",
     "text": [
      "Epoch 19: 100%|██████████| 313/313 [00:02<00:00, 128.77it/s, loss=0.521]\n"
     ]
    },
    {
     "name": "stderr",
     "output_type": "stream",
     "text": [
      "LOCAL_RANK: 0 - CUDA_VISIBLE_DEVICES: [0]\n"
     ]
    },
    {
     "name": "stdout",
     "output_type": "stream",
     "text": [
      "\r",
      "Testing: 0it [00:00, ?it/s]"
     ]
    },
    {
     "name": "stderr",
     "output_type": "stream",
     "text": [
      "/usr/local/lib/python3.9/dist-packages/pytorch_lightning/utilities/distributed.py:69: UserWarning: The dataloader, test dataloader 0, does not have many workers which may be a bottleneck. Consider increasing the value of the `num_workers` argument` (try 32 which is the number of cpus on this machine) in the `DataLoader` init to improve performance.\n",
      "  warnings.warn(*args, **kwargs)\n"
     ]
    },
    {
     "name": "stdout",
     "output_type": "stream",
     "text": [
      "Testing:  97%|█████████▋| 61/63 [00:03<00:00, 19.02it/s]--------------------------------------------------------------------------------\n",
      "DATALOADER:0 TEST RESULTS\n",
      "{'test_acc': 0.9375, 'test_loss': 0.19266216456890106}\n",
      "--------------------------------------------------------------------------------\n",
      "Testing: 100%|██████████| 63/63 [00:03<00:00, 17.57it/s]"
     ]
    },
    {
     "name": "stderr",
     "output_type": "stream",
     "text": [
      "LOCAL_RANK: 0 - CUDA_VISIBLE_DEVICES: [0]\n"
     ]
    },
    {
     "name": "stdout",
     "output_type": "stream",
     "text": [
      "\n",
      "Testing: 100%|██████████| 63/63 [00:28<00:00,  2.55it/s]--------------------------------------------------------------------------------\n",
      "DATALOADER:0 TEST RESULTS\n",
      "{'test_acc': 0.8661249876022339, 'test_loss': 0.3918364644050598}\n",
      "--------------------------------------------------------------------------------\n",
      "Testing: 100%|██████████| 63/63 [00:29<00:00,  2.17it/s]"
     ]
    },
    {
     "name": "stderr",
     "output_type": "stream",
     "text": [
      "LOCAL_RANK: 0 - CUDA_VISIBLE_DEVICES: [0]\n"
     ]
    },
    {
     "name": "stdout",
     "output_type": "stream",
     "text": [
      "\n",
      "Testing: 100%|██████████| 63/63 [00:51<00:00,  1.45it/s]--------------------------------------------------------------------------------\n",
      "DATALOADER:0 TEST RESULTS\n",
      "{'test_acc': 0.7637500166893005, 'test_loss': 0.6847904324531555}\n",
      "--------------------------------------------------------------------------------\n",
      "Testing: 100%|██████████| 63/63 [00:51<00:00,  1.23it/s]"
     ]
    },
    {
     "name": "stderr",
     "output_type": "stream",
     "text": [
      "LOCAL_RANK: 0 - CUDA_VISIBLE_DEVICES: [0]\n"
     ]
    },
    {
     "name": "stdout",
     "output_type": "stream",
     "text": [
      "\n",
      "Testing:  98%|█████████▊| 62/63 [01:36<00:01,  1.52s/it]--------------------------------------------------------------------------------\n",
      "DATALOADER:0 TEST RESULTS\n",
      "{'test_acc': 0.6035000085830688, 'test_loss': 1.104831576347351}\n",
      "--------------------------------------------------------------------------------\n",
      "Testing: 100%|██████████| 63/63 [01:36<00:00,  1.53s/it]\n",
      "accs [(0, 0.9375), (2, 0.8661249876022339), (3, 0.7637500166893005), (4, 0.6035000085830688)]\n",
      "experiment.stl10rn18.run_8.corruption_strength_3-N_test_50-fraction_to_match_0.05-wasserstein_p_2.0\n"
     ]
    },
    {
     "name": "stderr",
     "output_type": "stream",
     "text": [
      "100%|██████████| 1000/1000 [00:11<00:00, 89.65it/s]\n",
      "100%|██████████| 1000/1000 [02:57<00:00,  5.62it/s]\n"
     ]
    },
    {
     "name": "stdout",
     "output_type": "stream",
     "text": [
      "experiment.stl10rn18.run_8.corruption_strength_2-N_test_50-fraction_to_match_0.05-wasserstein_p_2.0\n"
     ]
    },
    {
     "name": "stderr",
     "output_type": "stream",
     "text": [
      "100%|██████████| 1000/1000 [00:11<00:00, 90.48it/s]\n",
      "100%|██████████| 1000/1000 [02:55<00:00,  5.69it/s]\n"
     ]
    },
    {
     "name": "stdout",
     "output_type": "stream",
     "text": [
      "experiment.stl10rn18.run_8.corruption_strength_4-N_test_50-fraction_to_match_0.05-wasserstein_p_2.0\n"
     ]
    },
    {
     "name": "stderr",
     "output_type": "stream",
     "text": [
      "100%|██████████| 1000/1000 [00:11<00:00, 90.04it/s]\n",
      "100%|██████████| 1000/1000 [02:59<00:00,  5.57it/s]\n"
     ]
    },
    {
     "name": "stdout",
     "output_type": "stream",
     "text": [
      "experiment.stl10rn18.run_8.corruption_strength_3-N_test_20-fraction_to_match_0.02-wasserstein_p_2.0\n"
     ]
    },
    {
     "name": "stderr",
     "output_type": "stream",
     "text": [
      "100%|██████████| 1000/1000 [00:09<00:00, 102.39it/s]\n",
      "100%|██████████| 1000/1000 [02:02<00:00,  8.13it/s]\n"
     ]
    },
    {
     "name": "stdout",
     "output_type": "stream",
     "text": [
      "experiment.stl10rn18.run_8.corruption_strength_3-N_test_100-fraction_to_match_0.1-wasserstein_p_2.0\n"
     ]
    },
    {
     "name": "stderr",
     "output_type": "stream",
     "text": [
      "100%|██████████| 1000/1000 [00:13<00:00, 75.14it/s]\n",
      "100%|██████████| 1000/1000 [04:21<00:00,  3.82it/s]\n"
     ]
    },
    {
     "name": "stdout",
     "output_type": "stream",
     "text": [
      "experiment.stl10rn18.run_8.corruption_strength_3-N_test_50-fraction_to_match_0.02-wasserstein_p_2.0\n"
     ]
    },
    {
     "name": "stderr",
     "output_type": "stream",
     "text": [
      "100%|██████████| 1000/1000 [00:11<00:00, 88.87it/s]\n",
      "100%|██████████| 1000/1000 [02:55<00:00,  5.70it/s]\n"
     ]
    },
    {
     "name": "stdout",
     "output_type": "stream",
     "text": [
      "experiment.stl10rn18.run_8.corruption_strength_3-N_test_50-fraction_to_match_0.1-wasserstein_p_2.0\n"
     ]
    },
    {
     "name": "stderr",
     "output_type": "stream",
     "text": [
      "100%|██████████| 1000/1000 [00:11<00:00, 86.94it/s]\n",
      "100%|██████████| 1000/1000 [02:59<00:00,  5.56it/s]\n"
     ]
    },
    {
     "name": "stdout",
     "output_type": "stream",
     "text": [
      "experiment.stl10rn18.run_8.corruption_strength_3-N_test_50-fraction_to_match_0.05-wasserstein_p_1.0\n"
     ]
    },
    {
     "name": "stderr",
     "output_type": "stream",
     "text": [
      "100%|██████████| 1000/1000 [00:11<00:00, 90.13it/s]\n",
      "100%|██████████| 1000/1000 [02:51<00:00,  5.82it/s]\n"
     ]
    },
    {
     "name": "stdout",
     "output_type": "stream",
     "text": [
      "experiment.stl10rn18.run_8.corruption_strength_3-N_test_50-fraction_to_match_0.05-wasserstein_p_4.0\n"
     ]
    },
    {
     "name": "stderr",
     "output_type": "stream",
     "text": [
      "100%|██████████| 1000/1000 [00:11<00:00, 89.61it/s]\n",
      "100%|██████████| 1000/1000 [02:56<00:00,  5.66it/s]\n",
      "GPU available: True, used: True\n",
      "TPU available: False, using: 0 TPU cores\n",
      "LOCAL_RANK: 0 - CUDA_VISIBLE_DEVICES: [0]\n",
      "\n",
      "  | Name       | Type       | Params\n",
      "------------------------------------------\n",
      "0 | backbone   | ResNet     | 11.2 M\n",
      "1 | classifier | Sequential | 16.7 K\n",
      "------------------------------------------\n",
      "16.7 K    Trainable params\n",
      "11.2 M    Non-trainable params\n",
      "11.2 M    Total params\n",
      "44.773    Total estimated model params size (MB)\n"
     ]
    },
    {
     "name": "stdout",
     "output_type": "stream",
     "text": [
      "Epoch 0:   0%|          | 0/313 [00:00<?, ?it/s] "
     ]
    },
    {
     "name": "stderr",
     "output_type": "stream",
     "text": [
      "/usr/local/lib/python3.9/dist-packages/pytorch_lightning/utilities/distributed.py:69: UserWarning: One of given dataloaders is None and it will be skipped.\n",
      "  warnings.warn(*args, **kwargs)\n",
      "/usr/local/lib/python3.9/dist-packages/pytorch_lightning/utilities/distributed.py:69: UserWarning: The dataloader, train dataloader, does not have many workers which may be a bottleneck. Consider increasing the value of the `num_workers` argument` (try 32 which is the number of cpus on this machine) in the `DataLoader` init to improve performance.\n",
      "  warnings.warn(*args, **kwargs)\n"
     ]
    },
    {
     "name": "stdout",
     "output_type": "stream",
     "text": [
      "Epoch 19: 100%|██████████| 313/313 [00:02<00:00, 130.94it/s, loss=0.423]\n"
     ]
    },
    {
     "name": "stderr",
     "output_type": "stream",
     "text": [
      "LOCAL_RANK: 0 - CUDA_VISIBLE_DEVICES: [0]\n"
     ]
    },
    {
     "name": "stdout",
     "output_type": "stream",
     "text": [
      "\r",
      "Testing: 0it [00:00, ?it/s]"
     ]
    },
    {
     "name": "stderr",
     "output_type": "stream",
     "text": [
      "/usr/local/lib/python3.9/dist-packages/pytorch_lightning/utilities/distributed.py:69: UserWarning: The dataloader, test dataloader 0, does not have many workers which may be a bottleneck. Consider increasing the value of the `num_workers` argument` (try 32 which is the number of cpus on this machine) in the `DataLoader` init to improve performance.\n",
      "  warnings.warn(*args, **kwargs)\n"
     ]
    },
    {
     "name": "stdout",
     "output_type": "stream",
     "text": [
      "Testing:  97%|█████████▋| 61/63 [00:03<00:00, 19.50it/s]--------------------------------------------------------------------------------\n",
      "DATALOADER:0 TEST RESULTS\n",
      "{'test_acc': 0.9348750114440918, 'test_loss': 0.1920311599969864}\n",
      "--------------------------------------------------------------------------------\n",
      "Testing: 100%|██████████| 63/63 [00:03<00:00, 17.91it/s]\n"
     ]
    },
    {
     "name": "stderr",
     "output_type": "stream",
     "text": [
      "LOCAL_RANK: 0 - CUDA_VISIBLE_DEVICES: [0]\n"
     ]
    },
    {
     "name": "stdout",
     "output_type": "stream",
     "text": [
      "Testing: 100%|██████████| 63/63 [00:29<00:00,  2.55it/s]--------------------------------------------------------------------------------\n",
      "DATALOADER:0 TEST RESULTS\n",
      "{'test_acc': 0.8651250004768372, 'test_loss': 0.39868324995040894}\n",
      "--------------------------------------------------------------------------------\n",
      "Testing: 100%|██████████| 63/63 [00:29<00:00,  2.16it/s]"
     ]
    },
    {
     "name": "stderr",
     "output_type": "stream",
     "text": [
      "LOCAL_RANK: 0 - CUDA_VISIBLE_DEVICES: [0]\n"
     ]
    },
    {
     "name": "stdout",
     "output_type": "stream",
     "text": [
      "\n",
      "Testing: 100%|██████████| 63/63 [00:50<00:00,  1.48it/s]--------------------------------------------------------------------------------\n",
      "DATALOADER:0 TEST RESULTS\n",
      "{'test_acc': 0.7637500166893005, 'test_loss': 0.6838305592536926}\n",
      "--------------------------------------------------------------------------------\n",
      "Testing: 100%|██████████| 63/63 [00:50<00:00,  1.25it/s]"
     ]
    },
    {
     "name": "stderr",
     "output_type": "stream",
     "text": [
      "LOCAL_RANK: 0 - CUDA_VISIBLE_DEVICES: [0]\n"
     ]
    },
    {
     "name": "stdout",
     "output_type": "stream",
     "text": [
      "\n",
      "Testing: 100%|██████████| 63/63 [01:37<00:00,  1.20s/it]--------------------------------------------------------------------------------\n",
      "DATALOADER:0 TEST RESULTS\n",
      "{'test_acc': 0.6200000047683716, 'test_loss': 1.08381187915802}\n",
      "--------------------------------------------------------------------------------\n",
      "Testing: 100%|██████████| 63/63 [01:37<00:00,  1.54s/it]\n",
      "accs [(0, 0.9348750114440918), (2, 0.8651250004768372), (3, 0.7637500166893005), (4, 0.6200000047683716)]\n",
      "experiment.stl10rn18.run_9.corruption_strength_3-N_test_50-fraction_to_match_0.05-wasserstein_p_2.0\n"
     ]
    },
    {
     "name": "stderr",
     "output_type": "stream",
     "text": [
      "100%|██████████| 1000/1000 [00:11<00:00, 88.64it/s]\n",
      "100%|██████████| 1000/1000 [02:55<00:00,  5.69it/s]\n"
     ]
    },
    {
     "name": "stdout",
     "output_type": "stream",
     "text": [
      "experiment.stl10rn18.run_9.corruption_strength_2-N_test_50-fraction_to_match_0.05-wasserstein_p_2.0\n"
     ]
    },
    {
     "name": "stderr",
     "output_type": "stream",
     "text": [
      "100%|██████████| 1000/1000 [00:11<00:00, 89.15it/s]\n",
      "100%|██████████| 1000/1000 [02:56<00:00,  5.68it/s]\n"
     ]
    },
    {
     "name": "stdout",
     "output_type": "stream",
     "text": [
      "experiment.stl10rn18.run_9.corruption_strength_4-N_test_50-fraction_to_match_0.05-wasserstein_p_2.0\n"
     ]
    },
    {
     "name": "stderr",
     "output_type": "stream",
     "text": [
      "100%|██████████| 1000/1000 [00:11<00:00, 89.79it/s]\n",
      "100%|██████████| 1000/1000 [03:00<00:00,  5.53it/s]\n"
     ]
    },
    {
     "name": "stdout",
     "output_type": "stream",
     "text": [
      "experiment.stl10rn18.run_9.corruption_strength_3-N_test_20-fraction_to_match_0.02-wasserstein_p_2.0\n"
     ]
    },
    {
     "name": "stderr",
     "output_type": "stream",
     "text": [
      "100%|██████████| 1000/1000 [00:09<00:00, 101.21it/s]\n",
      "100%|██████████| 1000/1000 [02:04<00:00,  8.03it/s]\n"
     ]
    },
    {
     "name": "stdout",
     "output_type": "stream",
     "text": [
      "experiment.stl10rn18.run_9.corruption_strength_3-N_test_100-fraction_to_match_0.1-wasserstein_p_2.0\n"
     ]
    },
    {
     "name": "stderr",
     "output_type": "stream",
     "text": [
      "100%|██████████| 1000/1000 [00:13<00:00, 74.43it/s]\n",
      "100%|██████████| 1000/1000 [04:27<00:00,  3.73it/s]\n"
     ]
    },
    {
     "name": "stdout",
     "output_type": "stream",
     "text": [
      "experiment.stl10rn18.run_9.corruption_strength_3-N_test_50-fraction_to_match_0.02-wasserstein_p_2.0\n"
     ]
    },
    {
     "name": "stderr",
     "output_type": "stream",
     "text": [
      "100%|██████████| 1000/1000 [00:11<00:00, 89.09it/s]\n",
      "100%|██████████| 1000/1000 [02:56<00:00,  5.66it/s]\n"
     ]
    },
    {
     "name": "stdout",
     "output_type": "stream",
     "text": [
      "experiment.stl10rn18.run_9.corruption_strength_3-N_test_50-fraction_to_match_0.1-wasserstein_p_2.0\n"
     ]
    },
    {
     "name": "stderr",
     "output_type": "stream",
     "text": [
      "100%|██████████| 1000/1000 [00:11<00:00, 87.33it/s]\n",
      "100%|██████████| 1000/1000 [03:03<00:00,  5.46it/s]\n"
     ]
    },
    {
     "name": "stdout",
     "output_type": "stream",
     "text": [
      "experiment.stl10rn18.run_9.corruption_strength_3-N_test_50-fraction_to_match_0.05-wasserstein_p_1.0\n"
     ]
    },
    {
     "name": "stderr",
     "output_type": "stream",
     "text": [
      "100%|██████████| 1000/1000 [00:11<00:00, 88.92it/s]\n",
      "100%|██████████| 1000/1000 [02:53<00:00,  5.77it/s]\n"
     ]
    },
    {
     "name": "stdout",
     "output_type": "stream",
     "text": [
      "experiment.stl10rn18.run_9.corruption_strength_3-N_test_50-fraction_to_match_0.05-wasserstein_p_4.0\n"
     ]
    },
    {
     "name": "stderr",
     "output_type": "stream",
     "text": [
      "100%|██████████| 1000/1000 [00:11<00:00, 88.85it/s]\n",
      "100%|██████████| 1000/1000 [02:58<00:00,  5.60it/s]\n"
     ]
    }
   ],
   "source": [
    "model_accs = []\n",
    "all_results = {}\n",
    "for run_nr in range(10):\n",
    "    resnet = torchvision.models.resnet18(pretrained=True)\n",
    "    resnet.fc = torch.nn.Identity()\n",
    "\n",
    "    model = Classifier(resnet)\n",
    "\n",
    "    trainer = pl.Trainer(max_epochs=20, gpus=1, checkpoint_callback=False, logger=False)\n",
    "    trainer.fit(model, datamodule)\n",
    "\n",
    "    accs = [(0, trainer.test(model=model, datamodule=datamodule)[0]['test_acc'])]\n",
    "    for corruption_strength in [2, 3, 4]:\n",
    "        def corruption_function(x: torch.Tensor):\n",
    "            return torchdrift.data.functional.gaussian_blur(x, severity=corruption_strength)\n",
    "        corr_dm = OurDataModule(parent=datamodule, additional_transform=corruption_function)\n",
    "        accs.append((corruption_strength, trainer.test(model=model, datamodule=corr_dm)[0]['test_acc']))\n",
    "    model_accs.append(accs)\n",
    "    print('accs', accs)\n",
    "\n",
    "    ref_dataset = torchvision.datasets.STL10(\"data\", split=\"train\", transform=val_transform)\n",
    "    val_dataset = torchvision.datasets.STL10(\"data\", split=\"test\", transform=val_transform)\n",
    "    biased_subsets = [torch.utils.data.Subset(val_dataset, (val_dataset.labels == i).nonzero()[0]) for i in range(10)]\n",
    "\n",
    "\n",
    "    # careful: sharing modules and parameters!\n",
    "    feature_extractor = torch.nn.Sequential(model.backbone, model.classifier[0])\n",
    "    feature_extractor.eval().cuda()\n",
    "    model.eval().cuda()\n",
    "\n",
    "\n",
    "    for corruption_strength, N_test, fraction_to_match, wasserstein_p in experiments:\n",
    "        base_fn = f'experiment.stl10rn18.run_{run_nr}.{corruption_strength=}-{N_test=}-{fraction_to_match=}-{wasserstein_p=}'.replace('=', '_')\n",
    "        print(base_fn)\n",
    "        idx = torch.randperm(len(ref_dataset))\n",
    "        ref_images = torch.stack([ref_dataset[idx[i]][0] for i in range(min(len(ref_dataset), 1000 + N_test))], dim=0)\n",
    "\n",
    "        with torch.no_grad():\n",
    "            ref_features = feature_extractor(ref_images.cuda()).cpu()\n",
    "\n",
    "        dd_mmd = KernelMMDDriftDetector()\n",
    "        dd_mmd.fit(ref_features, n_test=N_test, plot_title=f'mmd N_test={N_test}', plot_fn=base_fn + '.mmd_fit.pdf');\n",
    "\n",
    "        dd_wfull = WassersteinDriftDetector()\n",
    "        dd_wfull.fit(ref_features, n_test=N_test, plot_title=f'w full p={wasserstein_p} N_test={N_test}', plot_fn=base_fn + '.wfull_fit.pdf');\n",
    "\n",
    "        dd_partial = WassersteinDriftDetector(fraction_to_match=fraction_to_match)\n",
    "        dd_partial.fit(ref_features, n_test=N_test, plot_title=f'w partial({fraction_to_match}) p={wasserstein_p} N_test={N_test}', plot_fn=base_fn + '.wpart_fit.pdf');\n",
    "\n",
    "        dd_twostage = TwoStageDriftDetector(fraction_to_match=fraction_to_match)\n",
    "        dd_twostage.fit(ref_features, n_test=N_test, plot_title=f'twostage({fraction_to_match}) p={wasserstein_p} N_test={N_test}', plot_fn=base_fn + '.twostage_fit.pdf')\n",
    "\n",
    "        p_values = collections.defaultdict(list)\n",
    "\n",
    "        def corruption_function(x: torch.Tensor):\n",
    "            return torchdrift.data.functional.gaussian_blur(x, severity=corruption_strength)\n",
    "\n",
    "        dl_random = torch.utils.data.DataLoader(\n",
    "                    val_dataset, batch_size=N_test,\n",
    "                    sampler=torch.utils.data.RandomSampler(val_dataset, replacement=True, num_samples=N_test * 1000),\n",
    "                    num_workers=4)\n",
    "        it_random = iter(dl_random)\n",
    "        for i in tqdm.tqdm(range(1000)):\n",
    "            if i % 100 == 0:\n",
    "                cur_ds_biased = biased_subsets[i // 100]\n",
    "                dl_biased = torch.utils.data.DataLoader(\n",
    "                    cur_ds_biased, batch_size=N_test,\n",
    "                    sampler=torch.utils.data.RandomSampler(cur_ds_biased, replacement=True, num_samples=N_test * 100),\n",
    "                                                          num_workers=4)\n",
    "                it_biased = iter(dl_biased)\n",
    "            # random class\n",
    "            #cl = torch.randint(len(cat_names), ()).item()\n",
    "            #one_class = torch.nonzero(torch.from_numpy(val_dataset.labels)==cl)\n",
    "            #one_class = one_class[torch.randperm(one_class.size(0))]\n",
    "            #test_idx_imbal = one_class[:N_test]\n",
    "            #test_points_imbal = [val_dataset[i] for i in test_idx_imbal]\n",
    "            #test_labels_imbal = torch.tensor([l for i, l in test_points_imbal])\n",
    "            #test_images_imbal = torch.stack([i for i, l in test_points_imbal], dim=0).cuda()\n",
    "            # this is randomly drawn\n",
    "            # test_points_rand = [val_dataset[i] for i in torch.randperm(len(val_dataset))[:N_test]]\n",
    "            # test_labels_rand = torch.tensor([l for i, l in test_points_rand])\n",
    "            # test_images_rand = torch.stack([i for i, l in test_points_rand], dim=0).cuda()\n",
    "            test_images_imbal, test_labels_imbal = next(it_biased)\n",
    "            test_images_rand, test_labels_rand = next(it_random)\n",
    "            test_images_imbal = test_images_imbal.cuda()\n",
    "            test_images_rand = test_images_rand.cuda()\n",
    "\n",
    "            test_images_imbal_corr = corruption_function(test_images_imbal)\n",
    "            test_images_rand_corr = corruption_function(test_images_rand)\n",
    "\n",
    "            with torch.no_grad():\n",
    "                test_features_imbal = feature_extractor(test_images_imbal)\n",
    "                test_features_rand = feature_extractor(test_images_rand)\n",
    "                test_features_imbal_corr = feature_extractor(test_images_imbal_corr)\n",
    "                test_features_rand_corr = feature_extractor(test_images_rand_corr)\n",
    "\n",
    "            test_features_imbal = test_features_imbal.cpu()\n",
    "            test_features_rand = test_features_rand.cpu()\n",
    "            test_features_imbal_corr = test_features_imbal_corr.cpu()\n",
    "            test_features_rand_corr = test_features_rand_corr.cpu()\n",
    "\n",
    "            p_values['mmd-imbal'].append(dd_mmd.compute_p_value(test_features_imbal))\n",
    "            p_values['mmd-bal'].append(dd_mmd.compute_p_value(test_features_rand))\n",
    "            p_values['wfull-imbal'].append(dd_wfull.compute_p_value(test_features_imbal))\n",
    "            p_values['wfull-bal'].append(dd_wfull.compute_p_value(test_features_rand))\n",
    "            p_values['wpartial-imbal'].append(dd_partial.compute_p_value(test_features_imbal))\n",
    "            p_values['wpartial-bal'].append(dd_partial.compute_p_value(test_features_rand))\n",
    "            p_values['wpartial-imbal-vals'].append(dd_partial(test_features_imbal))\n",
    "            p_values['wpartial-bal-vals'].append(dd_partial(test_features_rand))\n",
    "            p_values['twostage-imbal'].append(dd_twostage.compute_p_value(test_features_imbal))\n",
    "            p_values['twostage-bal'].append(dd_twostage.compute_p_value(test_features_rand))\n",
    "            p_values['mmd-imbal-corr'].append(dd_mmd.compute_p_value(test_features_imbal_corr))\n",
    "            p_values['mmd-bal-corr'].append(dd_mmd.compute_p_value(test_features_rand_corr))\n",
    "            p_values['wfull-imbal-corr'].append(dd_wfull.compute_p_value(test_features_imbal_corr))\n",
    "            p_values['wfull-bal-corr'].append(dd_wfull.compute_p_value(test_features_rand_corr))\n",
    "            p_values['wpartial-imbal-corr'].append(dd_partial.compute_p_value(test_features_imbal_corr))\n",
    "            p_values['wpartial-bal-corr'].append(dd_partial.compute_p_value(test_features_rand_corr))\n",
    "            p_values['twostage-imbal-corr'].append(dd_twostage.compute_p_value(test_features_imbal_corr))\n",
    "            p_values['twostage-bal-corr'].append(dd_twostage.compute_p_value(test_features_rand_corr))\n",
    "\n",
    "        p_values = {k: torch.stack(v) for k, v in p_values.items()}\n",
    "        all_results[base_fn] = p_values\n",
    "\n",
    "        del it_biased\n",
    "        del it_random\n",
    "        \n",
    "        \n",
    "        pyplot.figure(figsize=(15, 10))\n",
    "        pyplot.suptitle(f'p-values computed by drift detection ({corruption_strength=}, {N_test=}, {fraction_to_match=}, {wasserstein_p=})')\n",
    "        pyplot.subplots_adjust(hspace=0.4)\n",
    "        for i, ddname in enumerate(['mmd', 'wfull', 'wpartial', 'twostage']):\n",
    "            for j, inputname in enumerate(['bal', 'imbal', 'bal-corr', 'imbal-corr']):\n",
    "                k = f'{ddname}-{inputname}'\n",
    "                v = p_values[k]\n",
    "                pyplot.subplot(4, 4, 4 * i + j + 1)\n",
    "                pyplot.title(k)\n",
    "                pyplot.hist(v.numpy(), density=True)\n",
    "        pyplot.savefig(base_fn + '.histograms_of_p.pdf')\n",
    "        pyplot.close()\n",
    "        # pyplot.show()\n",
    "\n",
    "        pyplot.figure()\n",
    "        for ddname in ['mmd', 'wfull', 'wpartial', 'twostage']:\n",
    "            pyplot.title(f'ROC with 50% imbal  ({corruption_strength=}, {N_test=}, {fraction_to_match=}, {wasserstein_p=})')\n",
    "\n",
    "            allpreds = torch.cat([p_values[f'{ddname}-imbal-corr'], p_values[f'{ddname}-bal-corr'], p_values[f'{ddname}-imbal'], p_values[f'{ddname}-bal']])\n",
    "\n",
    "            pos_neg = ((allpreds.argsort() < len(p_values[f'{ddname}-imbal-corr']) + len(p_values[f'{ddname}-bal-corr'])).float())\n",
    "\n",
    "            tp = torch.cumsum(pos_neg, 0) / pos_neg.sum()\n",
    "            fp = torch.cumsum(1 - pos_neg, 0) / (1 - pos_neg).sum()\n",
    "\n",
    "\n",
    "            fp_diff = fp[1:] - fp[:-1]\n",
    "            tp_avg = (tp[1:] + tp[:-1]) / 2\n",
    "            auc = (fp_diff * tp_avg).sum()\n",
    "\n",
    "            pyplot.plot(fp, tp, label=f'{ddname} AUC: {auc:.2f}')\n",
    "            pyplot.legend()\n",
    "        pyplot.savefig(base_fn + '.roc.pdf')\n",
    "        pyplot.close()\n",
    "        # pyplot.show()"
   ]
  },
  {
   "cell_type": "code",
   "execution_count": null,
   "metadata": {},
   "outputs": [],
   "source": []
  },
  {
   "cell_type": "code",
   "execution_count": null,
   "metadata": {},
   "outputs": [],
   "source": []
  },
  {
   "cell_type": "code",
   "execution_count": null,
   "metadata": {},
   "outputs": [],
   "source": [
    "import datetime\n",
    "import torch\n",
    "datetime = datetime.datetime.now().strftime('%Y-%m-%d-%H-%M')\n",
    "torch.save([all_results, model_accs], f'all_results.{datetime}.pt')"
   ]
  },
  {
   "cell_type": "markdown",
   "metadata": {},
   "source": [
    "# Aggregate statistics evaluation"
   ]
  },
  {
   "cell_type": "code",
   "execution_count": 14,
   "metadata": {},
   "outputs": [],
   "source": [
    "all_results, model_accs = torch.load('all_results.2021-06-09-14-56.pt')"
   ]
  },
  {
   "cell_type": "code",
   "execution_count": 22,
   "metadata": {},
   "outputs": [
    {
     "data": {
      "image/png": "[encoded data removed]",
      "text/plain": [
       "<Figure size 432x288 with 1 Axes>"
      ]
     },
     "metadata": {
      "needs_background": "light"
     },
     "output_type": "display_data"
    }
   ],
   "source": [
    "ccodes = {'mmd': 'blue', 'wfull': 'green', 'wpartial': 'orange', 'twostage': 'red'}\n",
    "aucs = collections.defaultdict(lambda: collections.defaultdict(list))\n",
    "base_name = 'corruption_strength_3-N_test_50-fraction_to_match_0.05-wasserstein_p_2.0'\n",
    "\n",
    "decile_counts = collections.defaultdict(lambda: collections.defaultdict(list))\n",
    "for k, p_values in all_results.items():\n",
    "    for ddname in ['mmd', 'wfull', 'wpartial', 'twostage']:\n",
    "\n",
    "        allpreds = torch.cat([p_values[f'{ddname}-imbal-corr'], p_values[f'{ddname}-bal-corr'], p_values[f'{ddname}-imbal'], p_values[f'{ddname}-bal']])\n",
    "\n",
    "        pos_neg = ((allpreds.argsort() < len(p_values[f'{ddname}-imbal-corr']) + len(p_values[f'{ddname}-bal-corr'])).float())\n",
    "\n",
    "        tp = torch.cumsum(pos_neg, 0) / pos_neg.sum()\n",
    "        fp = torch.cumsum(1 - pos_neg, 0) / (1 - pos_neg).sum()\n",
    "\n",
    "\n",
    "        fp_diff = fp[1:] - fp[:-1]\n",
    "        tp_avg = (tp[1:] + tp[:-1]) / 2\n",
    "        auc = (fp_diff * tp_avg).sum()\n",
    "        ksuf = 'corruption' + k.split('.corruption')[1]\n",
    "        aucs[ksuf][ddname].append(auc.item())\n",
    "        \n",
    "        ddname_print = ddname if ddname != 'twostage' else 'mmd partial'\n",
    "        if ksuf == base_name:\n",
    "            pyplot.plot(fp, tp, label=(f'{ddname_print}' if 'run_0' in k else None), color=ccodes[ddname])\n",
    "\n",
    "        for kk in [f'{ddname}-imbal-corr', f'{ddname}-bal-corr', f'{ddname}-imbal', f'{ddname}-bal']:\n",
    "            decile_counts[ksuf][kk].append(torch.histc(p_values[kk], bins=10, min=0, max=1))\n",
    "\n",
    "pyplot.legend()\n",
    "pyplot.title('ROC curves for 10 trials in the base scenario')\n",
    "pyplot.savefig('roc-curves-10-trials-base.pdf')"
   ]
  },
  {
   "cell_type": "code",
   "execution_count": 21,
   "metadata": {},
   "outputs": [
    {
     "data": {
      "image/png": "[encoded data removed]",
      "text/plain": [
       "<Figure size 1800x720 with 9 Axes>"
      ]
     },
     "metadata": {
      "needs_background": "light"
     },
     "output_type": "display_data"
    }
   ],
   "source": [
    "pyplot.figure(figsize=(25, 10))\n",
    "pyplot.suptitle('AUC for variation of experimental parameters (10 runs each)')#, y=0.91)\n",
    "pyplot.subplots_adjust(hspace=0.4)\n",
    "base_name = 'corruption_strength_3-N_test_50-fraction_to_match_0.05-wasserstein_p_2.0'\n",
    "setbase = set(base_name.split('-'))\n",
    "for i, (k, d) in enumerate(aucs.items()):\n",
    "    if i == 0:\n",
    "        pos = 1\n",
    "    else:\n",
    "        pos = 5 + (i-1) // 2 + 4 * ((i-1) % 2)\n",
    "    pyplot.subplot(3, 4, pos)\n",
    "    if k != base_name:\n",
    "        pyplot.title('-'.join(set(k.split('-')) - setbase))\n",
    "    else:\n",
    "        pyplot.title('base: severity=3 N_test=50\\nfraction to match=0.05 Wasserstein p=2.0')\n",
    "    t = torch.stack([torch.tensor(d[k]) for k in ['mmd', 'wfull', 'wpartial', 'twostage']], 1)\n",
    "    pyplot.boxplot(t.numpy())\n",
    "    pyplot.xticks(ticks=[1, 2, 3, 4], labels=['mmd', 'wasserstein\\nfull', 'wasserstein\\npartial', 'mmd partial'])\n",
    "pyplot.savefig('auc_for_sensitivities.pdf', bbox_inches='tight')"
   ]
  },
  {
   "cell_type": "code",
   "execution_count": 26,
   "metadata": {
    "slideshow": {
     "slide_type": "-"
    }
   },
   "outputs": [
    {
     "data": {
      "image/png": "[encoded data removed]",
      "text/plain": [
       "<Figure size 1080x720 with 16 Axes>"
      ]
     },
     "metadata": {
      "needs_background": "light"
     },
     "output_type": "display_data"
    }
   ],
   "source": [
    "for i, (k, d) in enumerate(decile_counts.items()):\n",
    "    if k == base_name:\n",
    "        pyplot.figure(figsize=(15, 10))\n",
    "        pyplot.suptitle(f'p-values computed by drift detection {k}')\n",
    "        pyplot.subplots_adjust(hspace=0.4)\n",
    "        for i, ddname in enumerate(['mmd', 'wfull', 'wpartial', 'twostage']):\n",
    "            for j, inputname in enumerate(['bal', 'imbal', 'bal-corr', 'imbal-corr']):\n",
    "                \n",
    "                kk = f'{ddname}-{inputname}'\n",
    "                v = torch.stack(d[kk])[:5]/ 1000.\n",
    "                pyplot.subplot(4, 4, 4 * i + j + 1)\n",
    "                ddname_print = ddname if ddname != 'twostage' else 'mmd partial'\n",
    "                if i == 0:\n",
    "                    pyplot.title(inputname)\n",
    "                if j == 0:\n",
    "                    pyplot.ylabel(ddname_print)\n",
    "                pyplot.boxplot(v.numpy())\n",
    "                if j < 2:\n",
    "                    pyplot.plot([0.5, 10.5], [0.1, 0.1])\n",
    "                pyplot.xticks(ticks=[x+0.5 for x in range(11)],\n",
    "                              labels=[x / 10 for x in range(11)])\n",
    "pyplot.savefig('deciles_with_error_bars_base.pdf')"
   ]
  },
  {
   "cell_type": "markdown",
   "metadata": {},
   "source": [
    "## END OF STATISTICS EVAL\n",
    "\n",
    "## QP-based  partial MMD (too slow)\n"
   ]
  },
  {
   "cell_type": "code",
   "execution_count": null,
   "metadata": {},
   "outputs": [],
   "source": []
  },
  {
   "cell_type": "code",
   "execution_count": null,
   "metadata": {},
   "outputs": [],
   "source": []
  },
  {
   "cell_type": "code",
   "execution_count": null,
   "metadata": {},
   "outputs": [],
   "source": [
    "# This is too slow...\n",
    "def partial_kernel_mmd(x, y, n_perm=None, kernel=torchdrift.detectors.mmd.GaussianKernel(),\n",
    "                       fraction_to_match=1.0):\n",
    "    n, d = x.shape\n",
    "    m, d2 = y.shape\n",
    "    torchdrift.utils.check(d == d2, \"feature dimension mismatch\")\n",
    "    xy = torch.cat([x.detach(), y.detach()], dim=0)\n",
    "    dists = torch.cdist(xy, xy, p=2.0)\n",
    "    # we are a bit sloppy here as we just keep the diagonal and everything twice\n",
    "    k = kernel(dists.double())\n",
    "    k_x = k[:n, :n]\n",
    "    k_y = k[n:, n:]\n",
    "    k_xy = k[:n, n:]\n",
    "\n",
    "    v = torch.full((m,), 1/m, dtype=k_y.dtype, device=k_y.device)\n",
    "    R = torch.cholesky(k_x, upper=True)\n",
    "    d = torch.inverse(R.t()) @ (k_xy.sum(1) / m)\n",
    "    LARGE = 1e7\n",
    "    #A = torch.cat([R, torch.full((1, n,), LARGE, dtype=R.dtype, device=R.device)])\n",
    "    #b = torch.cat([d, torch.full((1,), LARGE, dtype=R.dtype, device=R.device)])\n",
    "    lb = torch.zeros((n,), dtype=k_x.dtype, device=k_x.device)\n",
    "    ub = torch.full((n,), 1.0 / (n * fraction_to_match), dtype=k_x.dtype, device=k_x.device)\n",
    "    w = torch.from_numpy(qpsolvers.solve_ls(R.numpy(), d.numpy(), lb=lb.numpy(), ub=ub.numpy(),\n",
    "                                A=torch.ones((1, n,), dtype=R.dtype, device=R.device).numpy(),\n",
    "                                b = torch.ones((1,), dtype=R.dtype, device=R.device).numpy()))\n",
    "    # opt_res = scipy.optimize.lsq_linear(A, b, bounds=(lb, ub))\n",
    "    # w = torch.from_numpy(opt_res.x)\n",
    "    mmd= (w @ k_x ) @ w + k_y.sum()/(m*m)  - 2 * (w @ k_xy).sum() / m\n",
    "    #mmd = (\n",
    "    #    k_x.sum() / (n * n) + k_y.sum() / (m * m)\n",
    "    #)\n",
    "    return mmd\n",
    "\n",
    "class PartialKernelMMDDriftDetector(torchdrift.detectors.Detector):\n",
    "\n",
    "    def __init__(\n",
    "        self, *, return_p_value=False, n_perm: int = 1000, kernel=torchdrift.detectors.mmd.GaussianKernel(),\n",
    "        fraction_to_match=1.0\n",
    "    ):\n",
    "        super().__init__(return_p_value=return_p_value)\n",
    "        self.n_perm = n_perm\n",
    "        self.kernel = kernel\n",
    "        self.fraction_to_match = fraction_to_match\n",
    "        self.n_test = None\n",
    "\n",
    "    def fit(self, x: torch.Tensor, n_test=None, plot_title=None, plot_fn=None):\n",
    "        \"\"\"Record a sample as the reference distribution\"\"\"\n",
    "        x = x.detach()\n",
    "        if n_test is None:\n",
    "            self.base_outputs = x\n",
    "        else:\n",
    "            torchdrift.utils.check(0 < n_test < x.size(0), \"n_test must be strictly between 0 and the number of samples\")\n",
    "            self.n_test = n_test\n",
    "            self.base_outputs = x[:-n_test]\n",
    "\n",
    "            n_ref = x.size(0) - n_test\n",
    "\n",
    "            scores = []\n",
    "            for i in tqdm.tqdm(range(self.n_perm)):\n",
    "                slicing = torch.randperm(x.size(0))\n",
    "                \n",
    "                # *partial* kernel mmd is not symmetric(!)\n",
    "                scores.append(partial_kernel_mmd(\n",
    "                    x[slicing[:-n_test]], x[slicing[-n_test:]], n_perm=None, kernel=self.kernel,\n",
    "                    fraction_to_match=self.fraction_to_match))\n",
    "\n",
    "            scores = torch.stack(scores)\n",
    "\n",
    "            # limited smallish sample sizes, the MMD appears to exhibit a nonzero offset\n",
    "            # which vanishes in the limit we adapt. After correcting this, the gamma distribution\n",
    "            # approximation suggested by Gretton et al seems very good.\n",
    "            self.dist_min = scores.min().double()\n",
    "            mean = scores.mean() - self.dist_min\n",
    "            var = scores.var().double()\n",
    "            self.dist_alpha = mean**2 / var\n",
    "            self.dist_beta = mean / var\n",
    "\n",
    "            if plot_title is not None:\n",
    "                d = torch.distributions.Gamma(self.dist_alpha, self.dist_beta)\n",
    "                xx = torch.linspace(0.00001, scores.max() - self.dist_min, 100)\n",
    "                pyplot.figure()\n",
    "                pyplot.title(plot_title)\n",
    "                pyplot.plot(xx + self.dist_min, d.log_prob(xx).exp())\n",
    "                pyplot.hist(scores.numpy(), bins=100, density=True)\n",
    "                if plot_fn is not None:\n",
    "                    pyplot.savefig(plot_fn, bbox_inches='tight')\n",
    "                    pyplot.close()\n",
    "                else:\n",
    "                    pyplot.show()\n",
    "\n",
    "    def predict_shift_from_features(\n",
    "        self,\n",
    "        base_outputs: torch.Tensor,\n",
    "        outputs: torch.Tensor,\n",
    "        compute_score: bool,\n",
    "        compute_p_value: bool,\n",
    "        individual_samples: bool = False,\n",
    "    ):\n",
    "        torchdrift.utils.check(\n",
    "            not individual_samples, \"Individual samples not supported by MMD detector\"\n",
    "        )\n",
    "        if not compute_p_value:\n",
    "            ood_score = partial_kernel_mmd(\n",
    "                base_outputs, outputs, n_perm=None, kernel=self.kernel,\n",
    "                fraction_to_match=self.fraction_to_match\n",
    "            )\n",
    "            p_value = None\n",
    "        elif self.n_test is None:\n",
    "            torchdrift.utils.check(\n",
    "                False, \"Ad hoc boostrap not implemented\"\n",
    "            )\n",
    "        else:\n",
    "            torchdrift.utils.check(self.n_test == outputs.size(0),\n",
    "                                   \"number of test samples does not match calibrated number\")\n",
    "            ood_score = partial_kernel_mmd(\n",
    "                base_outputs, outputs, n_perm=None, kernel=self.kernel,\n",
    "                fraction_to_match=self.fraction_to_match\n",
    "            )\n",
    "            p_value = torch.igammac(self.dist_alpha, self.dist_beta * (ood_score - self.dist_min))  # needs PyTorch >=1.8\n",
    "            # overflow... map to 1.0\n",
    "            p_value = torch.nan_to_num(p_value, nan=1.0)\n",
    "    \n",
    "        return ood_score, p_value"
   ]
  },
  {
   "cell_type": "markdown",
   "metadata": {},
   "source": [
    "# Plotting the coupling"
   ]
  },
  {
   "cell_type": "code",
   "execution_count": 34,
   "metadata": {},
   "outputs": [
    {
     "data": {
      "image/png": "[encoded data removed]",
      "text/plain": [
       "<Figure size 1440x720 with 1 Axes>"
      ]
     },
     "metadata": {
      "needs_background": "light"
     },
     "output_type": "display_data"
    },
    {
     "data": {
      "image/png": "[encoded data removed]",
      "text/plain": [
       "<Figure size 1080x360 with 1 Axes>"
      ]
     },
     "metadata": {
      "needs_background": "light"
     },
     "output_type": "display_data"
    }
   ],
   "source": [
    "this_test = test_features_imbal\n",
    "_, coupling = wasserstein(ref_features[:-50], this_test, fraction_to_match=0.05, return_coupling=True, n_perm=None)\n",
    "\n",
    "pyplot.figure(figsize=(20, 10))\n",
    "ccut = coupling[:, :-1]\n",
    "pyplot.imshow(ccut[:500].t(), cmap=pyplot.cm.gray_r)\n",
    "pyplot.ylabel('index test')\n",
    "pyplot.xlabel('index reference (limited to first 500 points)')\n",
    "idxes = ccut.argmax(0)\n",
    "pyplot.savefig('plot_coupling.pdf')\n",
    "pyplot.show()\n",
    "#kernel_mmd(ref_features[idxes], this_test, n_perm=None)\n",
    "\n",
    "import sklearn.manifold\n",
    "\n",
    "tsne = sklearn.manifold.TSNE()\n",
    "\n",
    "all_feat = torch.cat([ref_features[:-50], this_test])\n",
    "feat_red = tsne.fit_transform(all_feat)\n",
    "\n",
    "pyplot.figure(figsize=(15, 5))\n",
    "pyplot.scatter(feat_red[:-this_test.size(0), 0], feat_red[:-this_test.size(0), 1], s=8)\n",
    "pyplot.scatter(feat_red[-this_test.size(0):, 0], feat_red[-this_test.size(0):, 1])\n",
    "\n",
    "\n",
    "pts = numpy.stack([feat_red[idxes], feat_red[-this_test.size(0):]], axis=2)\n",
    "\n",
    "pyplot.plot(pts[:, 0].T, pts[:, 1].T, color='black');\n",
    "pyplot.savefig('match_coupling.pdf')\n"
   ]
  },
  {
   "cell_type": "code",
   "execution_count": null,
   "metadata": {},
   "outputs": [],
   "source": []
  },
  {
   "cell_type": "code",
   "execution_count": null,
   "metadata": {},
   "outputs": [],
   "source": []
  },
  {
   "cell_type": "code",
   "execution_count": null,
   "metadata": {},
   "outputs": [],
   "source": []
  },
  {
   "cell_type": "code",
   "execution_count": null,
   "metadata": {},
   "outputs": [],
   "source": []
  }
 ],
 "metadata": {
  "accelerator": "GPU",
  "celltoolbar": "Slideshow",
  "colab": {
   "collapsed_sections": [],
   "name": "TorchDrift PyTorch Ecosystem Day.ipynb",
   "provenance": [],
   "toc_visible": true
  },
  "kernelspec": {
   "display_name": "Python 3",
   "language": "python",
   "name": "python3"
  },
  "language_info": {
   "codemirror_mode": {
    "name": "ipython",
    "version": 3
   },
   "file_extension": ".py",
   "mimetype": "text/x-python",
   "name": "python",
   "nbconvert_exporter": "python",
   "pygments_lexer": "ipython3",
   "version": "3.9.2"
  },
  "widgets": {
   "application/vnd.jupyter.widget-state+json": {
    "040ac1c223d949faba15c7e873a056a3": {
     "model_module": "@jupyter-widgets/base",
     "model_name": "LayoutModel",
     "state": {
      "_model_module": "@jupyter-widgets/base",
      "_model_module_version": "1.2.0",
      "_model_name": "LayoutModel",
      "_view_count": null,
      "_view_module": "@jupyter-widgets/base",
      "_view_module_version": "1.2.0",
      "_view_name": "LayoutView",
      "align_content": null,
      "align_items": null,
      "align_self": null,
      "border": null,
      "bottom": null,
      "display": null,
      "flex": null,
      "flex_flow": null,
      "grid_area": null,
      "grid_auto_columns": null,
      "grid_auto_flow": null,
      "grid_auto_rows": null,
      "grid_column": null,
      "grid_gap": null,
      "grid_row": null,
      "grid_template_areas": null,
      "grid_template_columns": null,
      "grid_template_rows": null,
      "height": null,
      "justify_content": null,
      "justify_items": null,
      "left": null,
      "margin": null,
      "max_height": null,
      "max_width": null,
      "min_height": null,
      "min_width": null,
      "object_fit": null,
      "object_position": null,
      "order": null,
      "overflow": null,
      "overflow_x": null,
      "overflow_y": null,
      "padding": null,
      "right": null,
      "top": null,
      "visibility": null,
      "width": null
     }
    },
    "04ed1bcf55754c879530f5948b0fc965": {
     "model_module": "@jupyter-widgets/base",
     "model_name": "LayoutModel",
     "state": {
      "_model_module": "@jupyter-widgets/base",
      "_model_module_version": "1.2.0",
      "_model_name": "LayoutModel",
      "_view_count": null,
      "_view_module": "@jupyter-widgets/base",
      "_view_module_version": "1.2.0",
      "_view_name": "LayoutView",
      "align_content": null,
      "align_items": null,
      "align_self": null,
      "border": null,
      "bottom": null,
      "display": null,
      "flex": "2",
      "flex_flow": null,
      "grid_area": null,
      "grid_auto_columns": null,
      "grid_auto_flow": null,
      "grid_auto_rows": null,
      "grid_column": null,
      "grid_gap": null,
      "grid_row": null,
      "grid_template_areas": null,
      "grid_template_columns": null,
      "grid_template_rows": null,
      "height": null,
      "justify_content": null,
      "justify_items": null,
      "left": null,
      "margin": null,
      "max_height": null,
      "max_width": null,
      "min_height": null,
      "min_width": null,
      "object_fit": null,
      "object_position": null,
      "order": null,
      "overflow": null,
      "overflow_x": null,
      "overflow_y": null,
      "padding": null,
      "right": null,
      "top": null,
      "visibility": null,
      "width": null
     }
    },
    "0790feb458ad42e78819e2c651717314": {
     "model_module": "@jupyter-widgets/controls",
     "model_name": "ProgressStyleModel",
     "state": {
      "_model_module": "@jupyter-widgets/controls",
      "_model_module_version": "1.5.0",
      "_model_name": "ProgressStyleModel",
      "_view_count": null,
      "_view_module": "@jupyter-widgets/base",
      "_view_module_version": "1.2.0",
      "_view_name": "StyleView",
      "bar_color": null,
      "description_width": "initial"
     }
    },
    "0db5f0872be244379faf9ea60f84e077": {
     "model_module": "@jupyter-widgets/base",
     "model_name": "LayoutModel",
     "state": {
      "_model_module": "@jupyter-widgets/base",
      "_model_module_version": "1.2.0",
      "_model_name": "LayoutModel",
      "_view_count": null,
      "_view_module": "@jupyter-widgets/base",
      "_view_module_version": "1.2.0",
      "_view_name": "LayoutView",
      "align_content": null,
      "align_items": null,
      "align_self": null,
      "border": null,
      "bottom": null,
      "display": null,
      "flex": null,
      "flex_flow": null,
      "grid_area": null,
      "grid_auto_columns": null,
      "grid_auto_flow": null,
      "grid_auto_rows": null,
      "grid_column": null,
      "grid_gap": null,
      "grid_row": null,
      "grid_template_areas": null,
      "grid_template_columns": null,
      "grid_template_rows": null,
      "height": null,
      "justify_content": null,
      "justify_items": null,
      "left": null,
      "margin": null,
      "max_height": null,
      "max_width": null,
      "min_height": null,
      "min_width": null,
      "object_fit": null,
      "object_position": null,
      "order": null,
      "overflow": null,
      "overflow_x": null,
      "overflow_y": null,
      "padding": null,
      "right": null,
      "top": null,
      "visibility": null,
      "width": null
     }
    },
    "0f6236d5c0414da2a1299257f7c88eb2": {
     "model_module": "@jupyter-widgets/controls",
     "model_name": "DescriptionStyleModel",
     "state": {
      "_model_module": "@jupyter-widgets/controls",
      "_model_module_version": "1.5.0",
      "_model_name": "DescriptionStyleModel",
      "_view_count": null,
      "_view_module": "@jupyter-widgets/base",
      "_view_module_version": "1.2.0",
      "_view_name": "StyleView",
      "description_width": ""
     }
    },
    "159a0d2447854cc392bf9a1e7a953a1a": {
     "model_module": "@jupyter-widgets/controls",
     "model_name": "HBoxModel",
     "state": {
      "_dom_classes": [],
      "_model_module": "@jupyter-widgets/controls",
      "_model_module_version": "1.5.0",
      "_model_name": "HBoxModel",
      "_view_count": null,
      "_view_module": "@jupyter-widgets/controls",
      "_view_module_version": "1.5.0",
      "_view_name": "HBoxView",
      "box_style": "",
      "children": [
       "IPY_MODEL_d16560400edb4375819621fc684fcab8",
       "IPY_MODEL_69fa1536c368478c9d7999ebce99caf5"
      ],
      "layout": "IPY_MODEL_b47aa83b2ee344fd84773887ef5f5562"
     }
    },
    "15d751ba223543de920a855f4292761f": {
     "model_module": "@jupyter-widgets/base",
     "model_name": "LayoutModel",
     "state": {
      "_model_module": "@jupyter-widgets/base",
      "_model_module_version": "1.2.0",
      "_model_name": "LayoutModel",
      "_view_count": null,
      "_view_module": "@jupyter-widgets/base",
      "_view_module_version": "1.2.0",
      "_view_name": "LayoutView",
      "align_content": null,
      "align_items": null,
      "align_self": null,
      "border": null,
      "bottom": null,
      "display": null,
      "flex": null,
      "flex_flow": null,
      "grid_area": null,
      "grid_auto_columns": null,
      "grid_auto_flow": null,
      "grid_auto_rows": null,
      "grid_column": null,
      "grid_gap": null,
      "grid_row": null,
      "grid_template_areas": null,
      "grid_template_columns": null,
      "grid_template_rows": null,
      "height": null,
      "justify_content": null,
      "justify_items": null,
      "left": null,
      "margin": null,
      "max_height": null,
      "max_width": null,
      "min_height": null,
      "min_width": null,
      "object_fit": null,
      "object_position": null,
      "order": null,
      "overflow": null,
      "overflow_x": null,
      "overflow_y": null,
      "padding": null,
      "right": null,
      "top": null,
      "visibility": null,
      "width": null
     }
    },
    "1c83edf9f409455f8101f794cb64871f": {
     "model_module": "@jupyter-widgets/controls",
     "model_name": "HTMLModel",
     "state": {
      "_dom_classes": [],
      "_model_module": "@jupyter-widgets/controls",
      "_model_module_version": "1.5.0",
      "_model_name": "HTMLModel",
      "_view_count": null,
      "_view_module": "@jupyter-widgets/controls",
      "_view_module_version": "1.5.0",
      "_view_name": "HTMLView",
      "description": "",
      "description_tooltip": null,
      "layout": "IPY_MODEL_8ffd1cc88a89482cb2f5b10b7c845ffc",
      "placeholder": "​",
      "style": "IPY_MODEL_b89e9cdcfb5749b3b5ec4b64c335cae2",
      "value": " 1024/? [00:02&lt;00:00, 491.26it/s]"
     }
    },
    "1f81f557bf704adfb95e208219977d42": {
     "model_module": "@jupyter-widgets/base",
     "model_name": "LayoutModel",
     "state": {
      "_model_module": "@jupyter-widgets/base",
      "_model_module_version": "1.2.0",
      "_model_name": "LayoutModel",
      "_view_count": null,
      "_view_module": "@jupyter-widgets/base",
      "_view_module_version": "1.2.0",
      "_view_name": "LayoutView",
      "align_content": null,
      "align_items": null,
      "align_self": null,
      "border": null,
      "bottom": null,
      "display": null,
      "flex": null,
      "flex_flow": null,
      "grid_area": null,
      "grid_auto_columns": null,
      "grid_auto_flow": null,
      "grid_auto_rows": null,
      "grid_column": null,
      "grid_gap": null,
      "grid_row": null,
      "grid_template_areas": null,
      "grid_template_columns": null,
      "grid_template_rows": null,
      "height": null,
      "justify_content": null,
      "justify_items": null,
      "left": null,
      "margin": null,
      "max_height": null,
      "max_width": null,
      "min_height": null,
      "min_width": null,
      "object_fit": null,
      "object_position": null,
      "order": null,
      "overflow": null,
      "overflow_x": null,
      "overflow_y": null,
      "padding": null,
      "right": null,
      "top": null,
      "visibility": null,
      "width": null
     }
    },
    "2414ea87ec4646c9b1a528310ab82d91": {
     "model_module": "@jupyter-widgets/controls",
     "model_name": "ProgressStyleModel",
     "state": {
      "_model_module": "@jupyter-widgets/controls",
      "_model_module_version": "1.5.0",
      "_model_name": "ProgressStyleModel",
      "_view_count": null,
      "_view_module": "@jupyter-widgets/base",
      "_view_module_version": "1.2.0",
      "_view_name": "StyleView",
      "bar_color": null,
      "description_width": "initial"
     }
    },
    "27bf0cc18cc145e8a5f932ac47ce01e3": {
     "model_module": "@jupyter-widgets/controls",
     "model_name": "HTMLModel",
     "state": {
      "_dom_classes": [],
      "_model_module": "@jupyter-widgets/controls",
      "_model_module_version": "1.5.0",
      "_model_name": "HTMLModel",
      "_view_count": null,
      "_view_module": "@jupyter-widgets/controls",
      "_view_module_version": "1.5.0",
      "_view_name": "HTMLView",
      "description": "",
      "description_tooltip": null,
      "layout": "IPY_MODEL_db5111957cb94cd5b0274826a34ea599",
      "placeholder": "​",
      "style": "IPY_MODEL_45b6c96584314c38b9d0f386cdab1c26",
      "value": " 0/0 [00:00&lt;?, ?it/s]"
     }
    },
    "2c72e1b0459c44238a1f1ecb245baf29": {
     "model_module": "@jupyter-widgets/controls",
     "model_name": "HBoxModel",
     "state": {
      "_dom_classes": [],
      "_model_module": "@jupyter-widgets/controls",
      "_model_module_version": "1.5.0",
      "_model_name": "HBoxModel",
      "_view_count": null,
      "_view_module": "@jupyter-widgets/controls",
      "_view_module_version": "1.5.0",
      "_view_name": "HBoxView",
      "box_style": "",
      "children": [
       "IPY_MODEL_602aede62bad45098a6f505c09c4a89b",
       "IPY_MODEL_42b0e5f6785b4e4ea767853fa2b12c4d"
      ],
      "layout": "IPY_MODEL_1f81f557bf704adfb95e208219977d42"
     }
    },
    "3ab8c09b8fe4467f9d21695abee4a02b": {
     "model_module": "@jupyter-widgets/controls",
     "model_name": "FloatProgressModel",
     "state": {
      "_dom_classes": [],
      "_model_module": "@jupyter-widgets/controls",
      "_model_module_version": "1.5.0",
      "_model_name": "FloatProgressModel",
      "_view_count": null,
      "_view_module": "@jupyter-widgets/controls",
      "_view_module_version": "1.5.0",
      "_view_name": "ProgressView",
      "bar_style": "info",
      "description": "Validation sanity check: ",
      "description_tooltip": null,
      "layout": "IPY_MODEL_84532271f1a64a0aa1d1c1f9a452ad3c",
      "max": 0,
      "min": 0,
      "orientation": "horizontal",
      "style": "IPY_MODEL_5d16ac6c09274ebfbf04b8f9eb3e30a6",
      "value": 0
     }
    },
    "42b0e5f6785b4e4ea767853fa2b12c4d": {
     "model_module": "@jupyter-widgets/controls",
     "model_name": "HTMLModel",
     "state": {
      "_dom_classes": [],
      "_model_module": "@jupyter-widgets/controls",
      "_model_module_version": "1.5.0",
      "_model_name": "HTMLModel",
      "_view_count": null,
      "_view_module": "@jupyter-widgets/controls",
      "_view_module_version": "1.5.0",
      "_view_name": "HTMLView",
      "description": "",
      "description_tooltip": null,
      "layout": "IPY_MODEL_ebcf945d200e4a33b6ec4b58090dda5e",
      "placeholder": "​",
      "style": "IPY_MODEL_c46ba89f62d64a2c8df25e793a8c66c3",
      "value": " 44.7M/44.7M [00:14&lt;00:00, 3.21MB/s]"
     }
    },
    "45b6c96584314c38b9d0f386cdab1c26": {
     "model_module": "@jupyter-widgets/controls",
     "model_name": "DescriptionStyleModel",
     "state": {
      "_model_module": "@jupyter-widgets/controls",
      "_model_module_version": "1.5.0",
      "_model_name": "DescriptionStyleModel",
      "_view_count": null,
      "_view_module": "@jupyter-widgets/base",
      "_view_module_version": "1.2.0",
      "_view_name": "StyleView",
      "description_width": ""
     }
    },
    "47d4ce3c56d14564b73d596ce8865920": {
     "model_module": "@jupyter-widgets/controls",
     "model_name": "ProgressStyleModel",
     "state": {
      "_model_module": "@jupyter-widgets/controls",
      "_model_module_version": "1.5.0",
      "_model_name": "ProgressStyleModel",
      "_view_count": null,
      "_view_module": "@jupyter-widgets/base",
      "_view_module_version": "1.2.0",
      "_view_name": "StyleView",
      "bar_color": null,
      "description_width": "initial"
     }
    },
    "4f78c1ec25eb4dae98277335ac042343": {
     "model_module": "@jupyter-widgets/controls",
     "model_name": "ProgressStyleModel",
     "state": {
      "_model_module": "@jupyter-widgets/controls",
      "_model_module_version": "1.5.0",
      "_model_name": "ProgressStyleModel",
      "_view_count": null,
      "_view_module": "@jupyter-widgets/base",
      "_view_module_version": "1.2.0",
      "_view_name": "StyleView",
      "bar_color": null,
      "description_width": "initial"
     }
    },
    "54e3a69417934f8eb5a593aa9caa88c6": {
     "model_module": "@jupyter-widgets/controls",
     "model_name": "DescriptionStyleModel",
     "state": {
      "_model_module": "@jupyter-widgets/controls",
      "_model_module_version": "1.5.0",
      "_model_name": "DescriptionStyleModel",
      "_view_count": null,
      "_view_module": "@jupyter-widgets/base",
      "_view_module_version": "1.2.0",
      "_view_name": "StyleView",
      "description_width": ""
     }
    },
    "5d16ac6c09274ebfbf04b8f9eb3e30a6": {
     "model_module": "@jupyter-widgets/controls",
     "model_name": "ProgressStyleModel",
     "state": {
      "_model_module": "@jupyter-widgets/controls",
      "_model_module_version": "1.5.0",
      "_model_name": "ProgressStyleModel",
      "_view_count": null,
      "_view_module": "@jupyter-widgets/base",
      "_view_module_version": "1.2.0",
      "_view_name": "StyleView",
      "bar_color": null,
      "description_width": "initial"
     }
    },
    "5d4c8faf20c74dd1a7b1646c2c28e51a": {
     "model_module": "@jupyter-widgets/controls",
     "model_name": "HTMLModel",
     "state": {
      "_dom_classes": [],
      "_model_module": "@jupyter-widgets/controls",
      "_model_module_version": "1.5.0",
      "_model_name": "HTMLModel",
      "_view_count": null,
      "_view_module": "@jupyter-widgets/controls",
      "_view_module_version": "1.5.0",
      "_view_name": "HTMLView",
      "description": "",
      "description_tooltip": null,
      "layout": "IPY_MODEL_f1f7ed137b484869ba822d413d1e8c77",
      "placeholder": "​",
      "style": "IPY_MODEL_f541431ed23047f996d02bc45a23b2d0",
      "value": " 2048/? [00:00&lt;00:00, 8660.74it/s]"
     }
    },
    "602aede62bad45098a6f505c09c4a89b": {
     "model_module": "@jupyter-widgets/controls",
     "model_name": "FloatProgressModel",
     "state": {
      "_dom_classes": [],
      "_model_module": "@jupyter-widgets/controls",
      "_model_module_version": "1.5.0",
      "_model_name": "FloatProgressModel",
      "_view_count": null,
      "_view_module": "@jupyter-widgets/controls",
      "_view_module_version": "1.5.0",
      "_view_name": "ProgressView",
      "bar_style": "success",
      "description": "100%",
      "description_tooltip": null,
      "layout": "IPY_MODEL_ea2c332f02944d6d8715682660634a28",
      "max": 46827520,
      "min": 0,
      "orientation": "horizontal",
      "style": "IPY_MODEL_47d4ce3c56d14564b73d596ce8865920",
      "value": 46827520
     }
    },
    "603fc29cf8874f7fbc3c9321ed2cfc0a": {
     "model_module": "@jupyter-widgets/controls",
     "model_name": "HBoxModel",
     "state": {
      "_dom_classes": [],
      "_model_module": "@jupyter-widgets/controls",
      "_model_module_version": "1.5.0",
      "_model_name": "HBoxModel",
      "_view_count": null,
      "_view_module": "@jupyter-widgets/controls",
      "_view_module_version": "1.5.0",
      "_view_name": "HBoxView",
      "box_style": "",
      "children": [
       "IPY_MODEL_7ef70d7d06924f6ba66ee3d68f0eaf36",
       "IPY_MODEL_5d4c8faf20c74dd1a7b1646c2c28e51a"
      ],
      "layout": "IPY_MODEL_15d751ba223543de920a855f4292761f"
     }
    },
    "648583f38c4f410194072075190d3e5e": {
     "model_module": "@jupyter-widgets/controls",
     "model_name": "HTMLModel",
     "state": {
      "_dom_classes": [],
      "_model_module": "@jupyter-widgets/controls",
      "_model_module_version": "1.5.0",
      "_model_name": "HTMLModel",
      "_view_count": null,
      "_view_module": "@jupyter-widgets/controls",
      "_view_module_version": "1.5.0",
      "_view_name": "HTMLView",
      "description": "",
      "description_tooltip": null,
      "layout": "IPY_MODEL_a57b4676c3174243ab4272f9e6b6e635",
      "placeholder": "​",
      "style": "IPY_MODEL_a0c4f79357eb4d0491cd2b1f46815575",
      "value": " 15360/? [00:02&lt;00:00, 5513.94it/s]"
     }
    },
    "666e13181a5b4d1d939b01f6eb7d81a7": {
     "model_module": "@jupyter-widgets/base",
     "model_name": "LayoutModel",
     "state": {
      "_model_module": "@jupyter-widgets/base",
      "_model_module_version": "1.2.0",
      "_model_name": "LayoutModel",
      "_view_count": null,
      "_view_module": "@jupyter-widgets/base",
      "_view_module_version": "1.2.0",
      "_view_name": "LayoutView",
      "align_content": null,
      "align_items": null,
      "align_self": null,
      "border": null,
      "bottom": null,
      "display": null,
      "flex": null,
      "flex_flow": null,
      "grid_area": null,
      "grid_auto_columns": null,
      "grid_auto_flow": null,
      "grid_auto_rows": null,
      "grid_column": null,
      "grid_gap": null,
      "grid_row": null,
      "grid_template_areas": null,
      "grid_template_columns": null,
      "grid_template_rows": null,
      "height": null,
      "justify_content": null,
      "justify_items": null,
      "left": null,
      "margin": null,
      "max_height": null,
      "max_width": null,
      "min_height": null,
      "min_width": null,
      "object_fit": null,
      "object_position": null,
      "order": null,
      "overflow": null,
      "overflow_x": null,
      "overflow_y": null,
      "padding": null,
      "right": null,
      "top": null,
      "visibility": null,
      "width": null
     }
    },
    "69fa1536c368478c9d7999ebce99caf5": {
     "model_module": "@jupyter-widgets/controls",
     "model_name": "HTMLModel",
     "state": {
      "_dom_classes": [],
      "_model_module": "@jupyter-widgets/controls",
      "_model_module_version": "1.5.0",
      "_model_name": "HTMLModel",
      "_view_count": null,
      "_view_module": "@jupyter-widgets/controls",
      "_view_module_version": "1.5.0",
      "_view_name": "HTMLView",
      "description": "",
      "description_tooltip": null,
      "layout": "IPY_MODEL_86bda4bdafe145c59f981af19b77a15c",
      "placeholder": "​",
      "style": "IPY_MODEL_54e3a69417934f8eb5a593aa9caa88c6",
      "value": " 344862720/? [00:43&lt;00:00, 7891499.88it/s]"
     }
    },
    "6cb4156ec947499682f69069fc43d3d5": {
     "model_module": "@jupyter-widgets/controls",
     "model_name": "HTMLModel",
     "state": {
      "_dom_classes": [],
      "_model_module": "@jupyter-widgets/controls",
      "_model_module_version": "1.5.0",
      "_model_name": "HTMLModel",
      "_view_count": null,
      "_view_module": "@jupyter-widgets/controls",
      "_view_module_version": "1.5.0",
      "_view_name": "HTMLView",
      "description": "",
      "description_tooltip": null,
      "layout": "IPY_MODEL_7db0ed65b0db4ca9be492c705f378912",
      "placeholder": "​",
      "style": "IPY_MODEL_0f6236d5c0414da2a1299257f7c88eb2",
      "value": " 128/128 [00:15&lt;00:00,  8.25it/s, loss=1.05]"
     }
    },
    "76b26c516579430ba6b5eec301a06d9f": {
     "model_module": "@jupyter-widgets/controls",
     "model_name": "HBoxModel",
     "state": {
      "_dom_classes": [],
      "_model_module": "@jupyter-widgets/controls",
      "_model_module_version": "1.5.0",
      "_model_name": "HBoxModel",
      "_view_count": null,
      "_view_module": "@jupyter-widgets/controls",
      "_view_module_version": "1.5.0",
      "_view_name": "HBoxView",
      "box_style": "",
      "children": [
       "IPY_MODEL_7b58439b1f8a4bea8637202535fe5c95",
       "IPY_MODEL_1c83edf9f409455f8101f794cb64871f"
      ],
      "layout": "IPY_MODEL_c93d7fcbd1554362a239b405b07ddc59"
     }
    },
    "7b58439b1f8a4bea8637202535fe5c95": {
     "model_module": "@jupyter-widgets/controls",
     "model_name": "FloatProgressModel",
     "state": {
      "_dom_classes": [],
      "_model_module": "@jupyter-widgets/controls",
      "_model_module_version": "1.5.0",
      "_model_name": "FloatProgressModel",
      "_view_count": null,
      "_view_module": "@jupyter-widgets/controls",
      "_view_module_version": "1.5.0",
      "_view_name": "ProgressView",
      "bar_style": "success",
      "description": "",
      "description_tooltip": null,
      "layout": "IPY_MODEL_666e13181a5b4d1d939b01f6eb7d81a7",
      "max": 502,
      "min": 0,
      "orientation": "horizontal",
      "style": "IPY_MODEL_0790feb458ad42e78819e2c651717314",
      "value": 502
     }
    },
    "7db0ed65b0db4ca9be492c705f378912": {
     "model_module": "@jupyter-widgets/base",
     "model_name": "LayoutModel",
     "state": {
      "_model_module": "@jupyter-widgets/base",
      "_model_module_version": "1.2.0",
      "_model_name": "LayoutModel",
      "_view_count": null,
      "_view_module": "@jupyter-widgets/base",
      "_view_module_version": "1.2.0",
      "_view_name": "LayoutView",
      "align_content": null,
      "align_items": null,
      "align_self": null,
      "border": null,
      "bottom": null,
      "display": null,
      "flex": null,
      "flex_flow": null,
      "grid_area": null,
      "grid_auto_columns": null,
      "grid_auto_flow": null,
      "grid_auto_rows": null,
      "grid_column": null,
      "grid_gap": null,
      "grid_row": null,
      "grid_template_areas": null,
      "grid_template_columns": null,
      "grid_template_rows": null,
      "height": null,
      "justify_content": null,
      "justify_items": null,
      "left": null,
      "margin": null,
      "max_height": null,
      "max_width": null,
      "min_height": null,
      "min_width": null,
      "object_fit": null,
      "object_position": null,
      "order": null,
      "overflow": null,
      "overflow_x": null,
      "overflow_y": null,
      "padding": null,
      "right": null,
      "top": null,
      "visibility": null,
      "width": null
     }
    },
    "7ef70d7d06924f6ba66ee3d68f0eaf36": {
     "model_module": "@jupyter-widgets/controls",
     "model_name": "FloatProgressModel",
     "state": {
      "_dom_classes": [],
      "_model_module": "@jupyter-widgets/controls",
      "_model_module_version": "1.5.0",
      "_model_name": "FloatProgressModel",
      "_view_count": null,
      "_view_module": "@jupyter-widgets/controls",
      "_view_module_version": "1.5.0",
      "_view_name": "ProgressView",
      "bar_style": "success",
      "description": "",
      "description_tooltip": null,
      "layout": "IPY_MODEL_ab5324b9a01f4ba8ad03b88610527a3f",
      "max": 1303,
      "min": 0,
      "orientation": "horizontal",
      "style": "IPY_MODEL_4f78c1ec25eb4dae98277335ac042343",
      "value": 1303
     }
    },
    "84532271f1a64a0aa1d1c1f9a452ad3c": {
     "model_module": "@jupyter-widgets/base",
     "model_name": "LayoutModel",
     "state": {
      "_model_module": "@jupyter-widgets/base",
      "_model_module_version": "1.2.0",
      "_model_name": "LayoutModel",
      "_view_count": null,
      "_view_module": "@jupyter-widgets/base",
      "_view_module_version": "1.2.0",
      "_view_name": "LayoutView",
      "align_content": null,
      "align_items": null,
      "align_self": null,
      "border": null,
      "bottom": null,
      "display": null,
      "flex": "2",
      "flex_flow": null,
      "grid_area": null,
      "grid_auto_columns": null,
      "grid_auto_flow": null,
      "grid_auto_rows": null,
      "grid_column": null,
      "grid_gap": null,
      "grid_row": null,
      "grid_template_areas": null,
      "grid_template_columns": null,
      "grid_template_rows": null,
      "height": null,
      "justify_content": null,
      "justify_items": null,
      "left": null,
      "margin": null,
      "max_height": null,
      "max_width": null,
      "min_height": null,
      "min_width": null,
      "object_fit": null,
      "object_position": null,
      "order": null,
      "overflow": null,
      "overflow_x": null,
      "overflow_y": null,
      "padding": null,
      "right": null,
      "top": null,
      "visibility": null,
      "width": null
     }
    },
    "84d0a88e8f0241bd9f440ae85101bf33": {
     "model_module": "@jupyter-widgets/base",
     "model_name": "LayoutModel",
     "state": {
      "_model_module": "@jupyter-widgets/base",
      "_model_module_version": "1.2.0",
      "_model_name": "LayoutModel",
      "_view_count": null,
      "_view_module": "@jupyter-widgets/base",
      "_view_module_version": "1.2.0",
      "_view_name": "LayoutView",
      "align_content": null,
      "align_items": null,
      "align_self": null,
      "border": null,
      "bottom": null,
      "display": null,
      "flex": null,
      "flex_flow": null,
      "grid_area": null,
      "grid_auto_columns": null,
      "grid_auto_flow": null,
      "grid_auto_rows": null,
      "grid_column": null,
      "grid_gap": null,
      "grid_row": null,
      "grid_template_areas": null,
      "grid_template_columns": null,
      "grid_template_rows": null,
      "height": null,
      "justify_content": null,
      "justify_items": null,
      "left": null,
      "margin": null,
      "max_height": null,
      "max_width": null,
      "min_height": null,
      "min_width": null,
      "object_fit": null,
      "object_position": null,
      "order": null,
      "overflow": null,
      "overflow_x": null,
      "overflow_y": null,
      "padding": null,
      "right": null,
      "top": null,
      "visibility": null,
      "width": null
     }
    },
    "86bda4bdafe145c59f981af19b77a15c": {
     "model_module": "@jupyter-widgets/base",
     "model_name": "LayoutModel",
     "state": {
      "_model_module": "@jupyter-widgets/base",
      "_model_module_version": "1.2.0",
      "_model_name": "LayoutModel",
      "_view_count": null,
      "_view_module": "@jupyter-widgets/base",
      "_view_module_version": "1.2.0",
      "_view_name": "LayoutView",
      "align_content": null,
      "align_items": null,
      "align_self": null,
      "border": null,
      "bottom": null,
      "display": null,
      "flex": null,
      "flex_flow": null,
      "grid_area": null,
      "grid_auto_columns": null,
      "grid_auto_flow": null,
      "grid_auto_rows": null,
      "grid_column": null,
      "grid_gap": null,
      "grid_row": null,
      "grid_template_areas": null,
      "grid_template_columns": null,
      "grid_template_rows": null,
      "height": null,
      "justify_content": null,
      "justify_items": null,
      "left": null,
      "margin": null,
      "max_height": null,
      "max_width": null,
      "min_height": null,
      "min_width": null,
      "object_fit": null,
      "object_position": null,
      "order": null,
      "overflow": null,
      "overflow_x": null,
      "overflow_y": null,
      "padding": null,
      "right": null,
      "top": null,
      "visibility": null,
      "width": null
     }
    },
    "8914bdcc06da470f929e6b4c7c517896": {
     "model_module": "@jupyter-widgets/controls",
     "model_name": "FloatProgressModel",
     "state": {
      "_dom_classes": [],
      "_model_module": "@jupyter-widgets/controls",
      "_model_module_version": "1.5.0",
      "_model_name": "FloatProgressModel",
      "_view_count": null,
      "_view_module": "@jupyter-widgets/controls",
      "_view_module_version": "1.5.0",
      "_view_name": "ProgressView",
      "bar_style": "success",
      "description": "Epoch 4: 100%",
      "description_tooltip": null,
      "layout": "IPY_MODEL_04ed1bcf55754c879530f5948b0fc965",
      "max": 128,
      "min": 0,
      "orientation": "horizontal",
      "style": "IPY_MODEL_2414ea87ec4646c9b1a528310ab82d91",
      "value": 128
     }
    },
    "8ffd1cc88a89482cb2f5b10b7c845ffc": {
     "model_module": "@jupyter-widgets/base",
     "model_name": "LayoutModel",
     "state": {
      "_model_module": "@jupyter-widgets/base",
      "_model_module_version": "1.2.0",
      "_model_name": "LayoutModel",
      "_view_count": null,
      "_view_module": "@jupyter-widgets/base",
      "_view_module_version": "1.2.0",
      "_view_name": "LayoutView",
      "align_content": null,
      "align_items": null,
      "align_self": null,
      "border": null,
      "bottom": null,
      "display": null,
      "flex": null,
      "flex_flow": null,
      "grid_area": null,
      "grid_auto_columns": null,
      "grid_auto_flow": null,
      "grid_auto_rows": null,
      "grid_column": null,
      "grid_gap": null,
      "grid_row": null,
      "grid_template_areas": null,
      "grid_template_columns": null,
      "grid_template_rows": null,
      "height": null,
      "justify_content": null,
      "justify_items": null,
      "left": null,
      "margin": null,
      "max_height": null,
      "max_width": null,
      "min_height": null,
      "min_width": null,
      "object_fit": null,
      "object_position": null,
      "order": null,
      "overflow": null,
      "overflow_x": null,
      "overflow_y": null,
      "padding": null,
      "right": null,
      "top": null,
      "visibility": null,
      "width": null
     }
    },
    "917c9d34d1c948cebd7f530043234b27": {
     "model_module": "@jupyter-widgets/controls",
     "model_name": "HBoxModel",
     "state": {
      "_dom_classes": [],
      "_model_module": "@jupyter-widgets/controls",
      "_model_module_version": "1.5.0",
      "_model_name": "HBoxModel",
      "_view_count": null,
      "_view_module": "@jupyter-widgets/controls",
      "_view_module_version": "1.5.0",
      "_view_name": "HBoxView",
      "box_style": "",
      "children": [
       "IPY_MODEL_8914bdcc06da470f929e6b4c7c517896",
       "IPY_MODEL_6cb4156ec947499682f69069fc43d3d5"
      ],
      "layout": "IPY_MODEL_ba1a7a02800046cba86af2f1ac7df3a8"
     }
    },
    "a0c4f79357eb4d0491cd2b1f46815575": {
     "model_module": "@jupyter-widgets/controls",
     "model_name": "DescriptionStyleModel",
     "state": {
      "_model_module": "@jupyter-widgets/controls",
      "_model_module_version": "1.5.0",
      "_model_name": "DescriptionStyleModel",
      "_view_count": null,
      "_view_module": "@jupyter-widgets/base",
      "_view_module_version": "1.2.0",
      "_view_name": "StyleView",
      "description_width": ""
     }
    },
    "a57b4676c3174243ab4272f9e6b6e635": {
     "model_module": "@jupyter-widgets/base",
     "model_name": "LayoutModel",
     "state": {
      "_model_module": "@jupyter-widgets/base",
      "_model_module_version": "1.2.0",
      "_model_name": "LayoutModel",
      "_view_count": null,
      "_view_module": "@jupyter-widgets/base",
      "_view_module_version": "1.2.0",
      "_view_name": "LayoutView",
      "align_content": null,
      "align_items": null,
      "align_self": null,
      "border": null,
      "bottom": null,
      "display": null,
      "flex": null,
      "flex_flow": null,
      "grid_area": null,
      "grid_auto_columns": null,
      "grid_auto_flow": null,
      "grid_auto_rows": null,
      "grid_column": null,
      "grid_gap": null,
      "grid_row": null,
      "grid_template_areas": null,
      "grid_template_columns": null,
      "grid_template_rows": null,
      "height": null,
      "justify_content": null,
      "justify_items": null,
      "left": null,
      "margin": null,
      "max_height": null,
      "max_width": null,
      "min_height": null,
      "min_width": null,
      "object_fit": null,
      "object_position": null,
      "order": null,
      "overflow": null,
      "overflow_x": null,
      "overflow_y": null,
      "padding": null,
      "right": null,
      "top": null,
      "visibility": null,
      "width": null
     }
    },
    "a6a7f8f39d43409c93905bb037586b1c": {
     "model_module": "@jupyter-widgets/controls",
     "model_name": "HBoxModel",
     "state": {
      "_dom_classes": [],
      "_model_module": "@jupyter-widgets/controls",
      "_model_module_version": "1.5.0",
      "_model_name": "HBoxModel",
      "_view_count": null,
      "_view_module": "@jupyter-widgets/controls",
      "_view_module_version": "1.5.0",
      "_view_name": "HBoxView",
      "box_style": "",
      "children": [
       "IPY_MODEL_ccbaee53dc9840a4b27ecc7508f4939f",
       "IPY_MODEL_648583f38c4f410194072075190d3e5e"
      ],
      "layout": "IPY_MODEL_0db5f0872be244379faf9ea60f84e077"
     }
    },
    "ab5324b9a01f4ba8ad03b88610527a3f": {
     "model_module": "@jupyter-widgets/base",
     "model_name": "LayoutModel",
     "state": {
      "_model_module": "@jupyter-widgets/base",
      "_model_module_version": "1.2.0",
      "_model_name": "LayoutModel",
      "_view_count": null,
      "_view_module": "@jupyter-widgets/base",
      "_view_module_version": "1.2.0",
      "_view_name": "LayoutView",
      "align_content": null,
      "align_items": null,
      "align_self": null,
      "border": null,
      "bottom": null,
      "display": null,
      "flex": null,
      "flex_flow": null,
      "grid_area": null,
      "grid_auto_columns": null,
      "grid_auto_flow": null,
      "grid_auto_rows": null,
      "grid_column": null,
      "grid_gap": null,
      "grid_row": null,
      "grid_template_areas": null,
      "grid_template_columns": null,
      "grid_template_rows": null,
      "height": null,
      "justify_content": null,
      "justify_items": null,
      "left": null,
      "margin": null,
      "max_height": null,
      "max_width": null,
      "min_height": null,
      "min_width": null,
      "object_fit": null,
      "object_position": null,
      "order": null,
      "overflow": null,
      "overflow_x": null,
      "overflow_y": null,
      "padding": null,
      "right": null,
      "top": null,
      "visibility": null,
      "width": null
     }
    },
    "acf4d896f33747558144997db0df5fea": {
     "model_module": "@jupyter-widgets/base",
     "model_name": "LayoutModel",
     "state": {
      "_model_module": "@jupyter-widgets/base",
      "_model_module_version": "1.2.0",
      "_model_name": "LayoutModel",
      "_view_count": null,
      "_view_module": "@jupyter-widgets/base",
      "_view_module_version": "1.2.0",
      "_view_name": "LayoutView",
      "align_content": null,
      "align_items": null,
      "align_self": null,
      "border": null,
      "bottom": null,
      "display": "inline-flex",
      "flex": null,
      "flex_flow": "row wrap",
      "grid_area": null,
      "grid_auto_columns": null,
      "grid_auto_flow": null,
      "grid_auto_rows": null,
      "grid_column": null,
      "grid_gap": null,
      "grid_row": null,
      "grid_template_areas": null,
      "grid_template_columns": null,
      "grid_template_rows": null,
      "height": null,
      "justify_content": null,
      "justify_items": null,
      "left": null,
      "margin": null,
      "max_height": null,
      "max_width": null,
      "min_height": null,
      "min_width": null,
      "object_fit": null,
      "object_position": null,
      "order": null,
      "overflow": null,
      "overflow_x": null,
      "overflow_y": null,
      "padding": null,
      "right": null,
      "top": null,
      "visibility": null,
      "width": "100%"
     }
    },
    "b47aa83b2ee344fd84773887ef5f5562": {
     "model_module": "@jupyter-widgets/base",
     "model_name": "LayoutModel",
     "state": {
      "_model_module": "@jupyter-widgets/base",
      "_model_module_version": "1.2.0",
      "_model_name": "LayoutModel",
      "_view_count": null,
      "_view_module": "@jupyter-widgets/base",
      "_view_module_version": "1.2.0",
      "_view_name": "LayoutView",
      "align_content": null,
      "align_items": null,
      "align_self": null,
      "border": null,
      "bottom": null,
      "display": null,
      "flex": null,
      "flex_flow": null,
      "grid_area": null,
      "grid_auto_columns": null,
      "grid_auto_flow": null,
      "grid_auto_rows": null,
      "grid_column": null,
      "grid_gap": null,
      "grid_row": null,
      "grid_template_areas": null,
      "grid_template_columns": null,
      "grid_template_rows": null,
      "height": null,
      "justify_content": null,
      "justify_items": null,
      "left": null,
      "margin": null,
      "max_height": null,
      "max_width": null,
      "min_height": null,
      "min_width": null,
      "object_fit": null,
      "object_position": null,
      "order": null,
      "overflow": null,
      "overflow_x": null,
      "overflow_y": null,
      "padding": null,
      "right": null,
      "top": null,
      "visibility": null,
      "width": null
     }
    },
    "b89e9cdcfb5749b3b5ec4b64c335cae2": {
     "model_module": "@jupyter-widgets/controls",
     "model_name": "DescriptionStyleModel",
     "state": {
      "_model_module": "@jupyter-widgets/controls",
      "_model_module_version": "1.5.0",
      "_model_name": "DescriptionStyleModel",
      "_view_count": null,
      "_view_module": "@jupyter-widgets/base",
      "_view_module_version": "1.2.0",
      "_view_name": "StyleView",
      "description_width": ""
     }
    },
    "ba1a7a02800046cba86af2f1ac7df3a8": {
     "model_module": "@jupyter-widgets/base",
     "model_name": "LayoutModel",
     "state": {
      "_model_module": "@jupyter-widgets/base",
      "_model_module_version": "1.2.0",
      "_model_name": "LayoutModel",
      "_view_count": null,
      "_view_module": "@jupyter-widgets/base",
      "_view_module_version": "1.2.0",
      "_view_name": "LayoutView",
      "align_content": null,
      "align_items": null,
      "align_self": null,
      "border": null,
      "bottom": null,
      "display": "inline-flex",
      "flex": null,
      "flex_flow": "row wrap",
      "grid_area": null,
      "grid_auto_columns": null,
      "grid_auto_flow": null,
      "grid_auto_rows": null,
      "grid_column": null,
      "grid_gap": null,
      "grid_row": null,
      "grid_template_areas": null,
      "grid_template_columns": null,
      "grid_template_rows": null,
      "height": null,
      "justify_content": null,
      "justify_items": null,
      "left": null,
      "margin": null,
      "max_height": null,
      "max_width": null,
      "min_height": null,
      "min_width": null,
      "object_fit": null,
      "object_position": null,
      "order": null,
      "overflow": null,
      "overflow_x": null,
      "overflow_y": null,
      "padding": null,
      "right": null,
      "top": null,
      "visibility": null,
      "width": "100%"
     }
    },
    "bd320a3c47d64b84922d97ddebb63353": {
     "model_module": "@jupyter-widgets/controls",
     "model_name": "HBoxModel",
     "state": {
      "_dom_classes": [],
      "_model_module": "@jupyter-widgets/controls",
      "_model_module_version": "1.5.0",
      "_model_name": "HBoxModel",
      "_view_count": null,
      "_view_module": "@jupyter-widgets/controls",
      "_view_module_version": "1.5.0",
      "_view_name": "HBoxView",
      "box_style": "",
      "children": [
       "IPY_MODEL_3ab8c09b8fe4467f9d21695abee4a02b",
       "IPY_MODEL_27bf0cc18cc145e8a5f932ac47ce01e3"
      ],
      "layout": "IPY_MODEL_acf4d896f33747558144997db0df5fea"
     }
    },
    "c002f14eb81643ed9e465455c259fc2a": {
     "model_module": "@jupyter-widgets/controls",
     "model_name": "ProgressStyleModel",
     "state": {
      "_model_module": "@jupyter-widgets/controls",
      "_model_module_version": "1.5.0",
      "_model_name": "ProgressStyleModel",
      "_view_count": null,
      "_view_module": "@jupyter-widgets/base",
      "_view_module_version": "1.2.0",
      "_view_name": "StyleView",
      "bar_color": null,
      "description_width": "initial"
     }
    },
    "c46ba89f62d64a2c8df25e793a8c66c3": {
     "model_module": "@jupyter-widgets/controls",
     "model_name": "DescriptionStyleModel",
     "state": {
      "_model_module": "@jupyter-widgets/controls",
      "_model_module_version": "1.5.0",
      "_model_name": "DescriptionStyleModel",
      "_view_count": null,
      "_view_module": "@jupyter-widgets/base",
      "_view_module_version": "1.2.0",
      "_view_name": "StyleView",
      "description_width": ""
     }
    },
    "c93d7fcbd1554362a239b405b07ddc59": {
     "model_module": "@jupyter-widgets/base",
     "model_name": "LayoutModel",
     "state": {
      "_model_module": "@jupyter-widgets/base",
      "_model_module_version": "1.2.0",
      "_model_name": "LayoutModel",
      "_view_count": null,
      "_view_module": "@jupyter-widgets/base",
      "_view_module_version": "1.2.0",
      "_view_name": "LayoutView",
      "align_content": null,
      "align_items": null,
      "align_self": null,
      "border": null,
      "bottom": null,
      "display": null,
      "flex": null,
      "flex_flow": null,
      "grid_area": null,
      "grid_auto_columns": null,
      "grid_auto_flow": null,
      "grid_auto_rows": null,
      "grid_column": null,
      "grid_gap": null,
      "grid_row": null,
      "grid_template_areas": null,
      "grid_template_columns": null,
      "grid_template_rows": null,
      "height": null,
      "justify_content": null,
      "justify_items": null,
      "left": null,
      "margin": null,
      "max_height": null,
      "max_width": null,
      "min_height": null,
      "min_width": null,
      "object_fit": null,
      "object_position": null,
      "order": null,
      "overflow": null,
      "overflow_x": null,
      "overflow_y": null,
      "padding": null,
      "right": null,
      "top": null,
      "visibility": null,
      "width": null
     }
    },
    "ccbaee53dc9840a4b27ecc7508f4939f": {
     "model_module": "@jupyter-widgets/controls",
     "model_name": "FloatProgressModel",
     "state": {
      "_dom_classes": [],
      "_model_module": "@jupyter-widgets/controls",
      "_model_module_version": "1.5.0",
      "_model_name": "FloatProgressModel",
      "_view_count": null,
      "_view_module": "@jupyter-widgets/controls",
      "_view_module_version": "1.5.0",
      "_view_name": "ProgressView",
      "bar_style": "success",
      "description": "",
      "description_tooltip": null,
      "layout": "IPY_MODEL_84d0a88e8f0241bd9f440ae85101bf33",
      "max": 14989,
      "min": 0,
      "orientation": "horizontal",
      "style": "IPY_MODEL_c002f14eb81643ed9e465455c259fc2a",
      "value": 14989
     }
    },
    "d16560400edb4375819621fc684fcab8": {
     "model_module": "@jupyter-widgets/controls",
     "model_name": "FloatProgressModel",
     "state": {
      "_dom_classes": [],
      "_model_module": "@jupyter-widgets/controls",
      "_model_module_version": "1.5.0",
      "_model_name": "FloatProgressModel",
      "_view_count": null,
      "_view_module": "@jupyter-widgets/controls",
      "_view_module_version": "1.5.0",
      "_view_name": "ProgressView",
      "bar_style": "success",
      "description": "",
      "description_tooltip": null,
      "layout": "IPY_MODEL_040ac1c223d949faba15c7e873a056a3",
      "max": 344862509,
      "min": 0,
      "orientation": "horizontal",
      "style": "IPY_MODEL_e5fca847f031471f8188ee8bc8d6dec7",
      "value": 344862509
     }
    },
    "db5111957cb94cd5b0274826a34ea599": {
     "model_module": "@jupyter-widgets/base",
     "model_name": "LayoutModel",
     "state": {
      "_model_module": "@jupyter-widgets/base",
      "_model_module_version": "1.2.0",
      "_model_name": "LayoutModel",
      "_view_count": null,
      "_view_module": "@jupyter-widgets/base",
      "_view_module_version": "1.2.0",
      "_view_name": "LayoutView",
      "align_content": null,
      "align_items": null,
      "align_self": null,
      "border": null,
      "bottom": null,
      "display": null,
      "flex": null,
      "flex_flow": null,
      "grid_area": null,
      "grid_auto_columns": null,
      "grid_auto_flow": null,
      "grid_auto_rows": null,
      "grid_column": null,
      "grid_gap": null,
      "grid_row": null,
      "grid_template_areas": null,
      "grid_template_columns": null,
      "grid_template_rows": null,
      "height": null,
      "justify_content": null,
      "justify_items": null,
      "left": null,
      "margin": null,
      "max_height": null,
      "max_width": null,
      "min_height": null,
      "min_width": null,
      "object_fit": null,
      "object_position": null,
      "order": null,
      "overflow": null,
      "overflow_x": null,
      "overflow_y": null,
      "padding": null,
      "right": null,
      "top": null,
      "visibility": null,
      "width": null
     }
    },
    "e5fca847f031471f8188ee8bc8d6dec7": {
     "model_module": "@jupyter-widgets/controls",
     "model_name": "ProgressStyleModel",
     "state": {
      "_model_module": "@jupyter-widgets/controls",
      "_model_module_version": "1.5.0",
      "_model_name": "ProgressStyleModel",
      "_view_count": null,
      "_view_module": "@jupyter-widgets/base",
      "_view_module_version": "1.2.0",
      "_view_name": "StyleView",
      "bar_color": null,
      "description_width": "initial"
     }
    },
    "ea2c332f02944d6d8715682660634a28": {
     "model_module": "@jupyter-widgets/base",
     "model_name": "LayoutModel",
     "state": {
      "_model_module": "@jupyter-widgets/base",
      "_model_module_version": "1.2.0",
      "_model_name": "LayoutModel",
      "_view_count": null,
      "_view_module": "@jupyter-widgets/base",
      "_view_module_version": "1.2.0",
      "_view_name": "LayoutView",
      "align_content": null,
      "align_items": null,
      "align_self": null,
      "border": null,
      "bottom": null,
      "display": null,
      "flex": null,
      "flex_flow": null,
      "grid_area": null,
      "grid_auto_columns": null,
      "grid_auto_flow": null,
      "grid_auto_rows": null,
      "grid_column": null,
      "grid_gap": null,
      "grid_row": null,
      "grid_template_areas": null,
      "grid_template_columns": null,
      "grid_template_rows": null,
      "height": null,
      "justify_content": null,
      "justify_items": null,
      "left": null,
      "margin": null,
      "max_height": null,
      "max_width": null,
      "min_height": null,
      "min_width": null,
      "object_fit": null,
      "object_position": null,
      "order": null,
      "overflow": null,
      "overflow_x": null,
      "overflow_y": null,
      "padding": null,
      "right": null,
      "top": null,
      "visibility": null,
      "width": null
     }
    },
    "ebcf945d200e4a33b6ec4b58090dda5e": {
     "model_module": "@jupyter-widgets/base",
     "model_name": "LayoutModel",
     "state": {
      "_model_module": "@jupyter-widgets/base",
      "_model_module_version": "1.2.0",
      "_model_name": "LayoutModel",
      "_view_count": null,
      "_view_module": "@jupyter-widgets/base",
      "_view_module_version": "1.2.0",
      "_view_name": "LayoutView",
      "align_content": null,
      "align_items": null,
      "align_self": null,
      "border": null,
      "bottom": null,
      "display": null,
      "flex": null,
      "flex_flow": null,
      "grid_area": null,
      "grid_auto_columns": null,
      "grid_auto_flow": null,
      "grid_auto_rows": null,
      "grid_column": null,
      "grid_gap": null,
      "grid_row": null,
      "grid_template_areas": null,
      "grid_template_columns": null,
      "grid_template_rows": null,
      "height": null,
      "justify_content": null,
      "justify_items": null,
      "left": null,
      "margin": null,
      "max_height": null,
      "max_width": null,
      "min_height": null,
      "min_width": null,
      "object_fit": null,
      "object_position": null,
      "order": null,
      "overflow": null,
      "overflow_x": null,
      "overflow_y": null,
      "padding": null,
      "right": null,
      "top": null,
      "visibility": null,
      "width": null
     }
    },
    "f1f7ed137b484869ba822d413d1e8c77": {
     "model_module": "@jupyter-widgets/base",
     "model_name": "LayoutModel",
     "state": {
      "_model_module": "@jupyter-widgets/base",
      "_model_module_version": "1.2.0",
      "_model_name": "LayoutModel",
      "_view_count": null,
      "_view_module": "@jupyter-widgets/base",
      "_view_module_version": "1.2.0",
      "_view_name": "LayoutView",
      "align_content": null,
      "align_items": null,
      "align_self": null,
      "border": null,
      "bottom": null,
      "display": null,
      "flex": null,
      "flex_flow": null,
      "grid_area": null,
      "grid_auto_columns": null,
      "grid_auto_flow": null,
      "grid_auto_rows": null,
      "grid_column": null,
      "grid_gap": null,
      "grid_row": null,
      "grid_template_areas": null,
      "grid_template_columns": null,
      "grid_template_rows": null,
      "height": null,
      "justify_content": null,
      "justify_items": null,
      "left": null,
      "margin": null,
      "max_height": null,
      "max_width": null,
      "min_height": null,
      "min_width": null,
      "object_fit": null,
      "object_position": null,
      "order": null,
      "overflow": null,
      "overflow_x": null,
      "overflow_y": null,
      "padding": null,
      "right": null,
      "top": null,
      "visibility": null,
      "width": null
     }
    },
    "f541431ed23047f996d02bc45a23b2d0": {
     "model_module": "@jupyter-widgets/controls",
     "model_name": "DescriptionStyleModel",
     "state": {
      "_model_module": "@jupyter-widgets/controls",
      "_model_module_version": "1.5.0",
      "_model_name": "DescriptionStyleModel",
      "_view_count": null,
      "_view_module": "@jupyter-widgets/base",
      "_view_module_version": "1.2.0",
      "_view_name": "StyleView",
      "description_width": ""
     }
    }
   }
  }
 },
 "nbformat": 4,
 "nbformat_minor": 1
}
